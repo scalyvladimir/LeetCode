{
 "cells": [
  {
   "cell_type": "markdown",
   "id": "854ca629",
   "metadata": {},
   "source": [
    "# 1"
   ]
  },
  {
   "cell_type": "markdown",
   "id": "d921b525",
   "metadata": {},
   "source": [
    "## `1.1`"
   ]
  },
  {
   "cell_type": "code",
   "execution_count": 101,
   "id": "855744fe",
   "metadata": {},
   "outputs": [],
   "source": [
    "def search(nums, target):\n",
    "    l = 0\n",
    "    r = len(nums) - 1\n",
    "    \n",
    "    if nums[l] == target:\n",
    "        return l\n",
    "    elif nums[r] == target:\n",
    "        return r\n",
    "    \n",
    "    while l + 1 < r:\n",
    "        mid = (l + r) // 2\n",
    "        \n",
    "        if nums[mid] == target:\n",
    "            return mid\n",
    "        elif nums[mid] > target:\n",
    "            r = mid\n",
    "        else:\n",
    "            l = mid\n",
    "        \n",
    "    return -1    "
   ]
  },
  {
   "cell_type": "markdown",
   "id": "25744d4d",
   "metadata": {},
   "source": [
    "## `1.2`"
   ]
  },
  {
   "cell_type": "code",
   "execution_count": 138,
   "id": "5c816674",
   "metadata": {},
   "outputs": [],
   "source": [
    "# The isBadVersion API is already defined for you.\n",
    "# @param version, an integer\n",
    "# @return an integer\n",
    "# def isBadVersion(version):\n",
    "\n",
    "class Solution:\n",
    "    def firstBadVersion(self, n):\n",
    "        \"\"\"\n",
    "        :type n: int\n",
    "        :rtype: int\n",
    "        \"\"\"\n",
    "        l = 1\n",
    "        r = n\n",
    "        \n",
    "        if isBadVersion(l):\n",
    "            return l\n",
    "        \n",
    "        while(l + 1 < r):\n",
    "            mid = (l + r) // 2\n",
    "            \n",
    "            ans = isBadVersion(mid)\n",
    "            if ans and not isBadVersion(mid - 1):\n",
    "                return mid\n",
    "            elif ans:\n",
    "                r = mid\n",
    "            else:\n",
    "                l = mid\n",
    "        return n"
   ]
  },
  {
   "cell_type": "markdown",
   "id": "618a7300",
   "metadata": {},
   "source": [
    "## `1.3`"
   ]
  },
  {
   "cell_type": "code",
   "execution_count": 184,
   "id": "e0c9b45a",
   "metadata": {},
   "outputs": [],
   "source": [
    "def searchInsert(nums, target):\n",
    "    l = 0\n",
    "    r = len(nums) - 1\n",
    "\n",
    "    if nums[l] >= target:\n",
    "        return l\n",
    "\n",
    "    while(l + 1 < r):\n",
    "        mid = (l + r) // 2\n",
    "\n",
    "        ans = nums[mid] >= target\n",
    "        if ans and not nums[mid - 1] >= target:\n",
    "            return mid\n",
    "        elif ans:\n",
    "            r = mid\n",
    "        else:\n",
    "            l = mid\n",
    "\n",
    "    r = len(nums) - 1\n",
    "    return r if nums[r] >= target else r + 1  "
   ]
  },
  {
   "cell_type": "code",
   "execution_count": 185,
   "id": "b2660641",
   "metadata": {},
   "outputs": [],
   "source": [
    "nums = [1, 3, 5, 6]\n",
    "target = 5"
   ]
  },
  {
   "cell_type": "code",
   "execution_count": 186,
   "id": "a4e12114",
   "metadata": {},
   "outputs": [
    {
     "data": {
      "text/plain": [
       "2"
      ]
     },
     "execution_count": 186,
     "metadata": {},
     "output_type": "execute_result"
    }
   ],
   "source": [
    "searchInsert(nums, target)"
   ]
  },
  {
   "cell_type": "code",
   "execution_count": 187,
   "id": "729e7037",
   "metadata": {},
   "outputs": [],
   "source": [
    "nums = [1, 3, 5, 6]\n",
    "target = 2"
   ]
  },
  {
   "cell_type": "code",
   "execution_count": 188,
   "id": "28c91c01",
   "metadata": {},
   "outputs": [
    {
     "data": {
      "text/plain": [
       "1"
      ]
     },
     "execution_count": 188,
     "metadata": {},
     "output_type": "execute_result"
    }
   ],
   "source": [
    "searchInsert(nums, target)"
   ]
  },
  {
   "cell_type": "code",
   "execution_count": 189,
   "id": "3eaff3a2",
   "metadata": {},
   "outputs": [],
   "source": [
    "nums = [1, 3, 5, 6]\n",
    "target = 7"
   ]
  },
  {
   "cell_type": "code",
   "execution_count": 190,
   "id": "6c7b39b6",
   "metadata": {},
   "outputs": [
    {
     "data": {
      "text/plain": [
       "4"
      ]
     },
     "execution_count": 190,
     "metadata": {},
     "output_type": "execute_result"
    }
   ],
   "source": [
    "searchInsert(nums, target)"
   ]
  }
 ],
 "metadata": {
  "kernelspec": {
   "display_name": "leetcode",
   "language": "python",
   "name": "leetcode"
  },
  "language_info": {
   "codemirror_mode": {
    "name": "ipython",
    "version": 3
   },
   "file_extension": ".py",
   "mimetype": "text/x-python",
   "name": "python",
   "nbconvert_exporter": "python",
   "pygments_lexer": "ipython3",
   "version": "3.9.8"
  }
 },
 "nbformat": 4,
 "nbformat_minor": 5
}
