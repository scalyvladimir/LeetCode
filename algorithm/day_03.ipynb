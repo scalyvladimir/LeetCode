{
 "cells": [
  {
   "cell_type": "markdown",
   "id": "f77eb256",
   "metadata": {},
   "source": [
    "## 283. Move Zeroes"
   ]
  },
  {
   "cell_type": "code",
   "execution_count": 182,
   "id": "2098456d",
   "metadata": {},
   "outputs": [],
   "source": [
    "def moveZeroes(nums) -> None:\n",
    "    \"\"\"\n",
    "    Do not return anything, modify nums in-place instead.\n",
    "    \"\"\"\n",
    "    i_zero, i_num = 0, 0\n",
    "\n",
    "    while i_zero != len(nums)-1 and i_num < len(nums):\n",
    "        while(i_zero < len(nums) and nums[i_zero] != 0):\n",
    "            i_zero += 1\n",
    "\n",
    "        while(i_num < len(nums) and nums[i_num] == 0):\n",
    "            i_num += 1\n",
    "\n",
    "        if i_zero < len(nums) and i_num < len(nums) and i_zero < i_num:\n",
    "            nums[i_num], nums[i_zero] = nums[i_zero], nums[i_num]\n",
    "\n",
    "        i_num += 1"
   ]
  },
  {
   "cell_type": "code",
   "execution_count": 186,
   "id": "a8ef259f",
   "metadata": {},
   "outputs": [],
   "source": [
    "def moveZeroes(nums) -> None:\n",
    "    \"\"\"\n",
    "    Do not return anything, modify nums in-place instead.\n",
    "    \"\"\"\n",
    "    ptr = 0\n",
    "\n",
    "    for i, val in enumerate(nums):\n",
    "        if val != 0:\n",
    "            nums[i], nums[ptr] = nums[ptr], nums[i]\n",
    "            ptr += 1"
   ]
  },
  {
   "cell_type": "code",
   "execution_count": 187,
   "id": "4fddfc59",
   "metadata": {},
   "outputs": [
    {
     "data": {
      "text/plain": [
       "[1, 0]"
      ]
     },
     "execution_count": 187,
     "metadata": {},
     "output_type": "execute_result"
    }
   ],
   "source": [
    "l = [1,0]\n",
    "moveZeroes(l)\n",
    "l"
   ]
  },
  {
   "cell_type": "code",
   "execution_count": 188,
   "id": "f53aeb3d",
   "metadata": {},
   "outputs": [
    {
     "data": {
      "text/plain": [
       "[1, 3, 12, 0, 0]"
      ]
     },
     "execution_count": 188,
     "metadata": {},
     "output_type": "execute_result"
    }
   ],
   "source": [
    "l = [0,1,0,3,12]\n",
    "moveZeroes(l)\n",
    "l"
   ]
  },
  {
   "cell_type": "code",
   "execution_count": 189,
   "id": "0ebc7599",
   "metadata": {},
   "outputs": [
    {
     "data": {
      "text/plain": [
       "[1, 1, 0]"
      ]
     },
     "execution_count": 189,
     "metadata": {},
     "output_type": "execute_result"
    }
   ],
   "source": [
    "l = [1,0,1]\n",
    "moveZeroes(l)\n",
    "l"
   ]
  },
  {
   "cell_type": "markdown",
   "id": "db30d036",
   "metadata": {},
   "source": [
    "## 167. Two Sum II - Input Array Is Sorted"
   ]
  },
  {
   "cell_type": "code",
   "execution_count": null,
   "id": "11b06093",
   "metadata": {},
   "outputs": [],
   "source": []
  }
 ],
 "metadata": {
  "kernelspec": {
   "display_name": "Python 3 (ipykernel)",
   "language": "python",
   "name": "python3"
  },
  "language_info": {
   "codemirror_mode": {
    "name": "ipython",
    "version": 3
   },
   "file_extension": ".py",
   "mimetype": "text/x-python",
   "name": "python",
   "nbconvert_exporter": "python",
   "pygments_lexer": "ipython3",
   "version": "3.9.8"
  }
 },
 "nbformat": 4,
 "nbformat_minor": 5
}
