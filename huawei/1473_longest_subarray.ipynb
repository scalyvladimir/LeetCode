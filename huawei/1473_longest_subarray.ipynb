{
 "cells": [
  {
   "cell_type": "code",
   "execution_count": 14,
   "metadata": {},
   "outputs": [],
   "source": [
    "def longestSubarray(nums):\n",
    "    left = zeros = 0\n",
    "    ans = 0\n",
    "\n",
    "    for right in range(len(nums)):\n",
    "        if nums[right] == 0:\n",
    "            zeros += 1\n",
    "\n",
    "        while zeros > 1:\n",
    "            if nums[left] == 0:\n",
    "                zeros -= 1\n",
    "            left += 1\n",
    "\n",
    "        ans = max(ans, right - left + 1 - zeros)\n",
    "\n",
    "    return ans"
   ]
  },
  {
   "cell_type": "code",
   "execution_count": 15,
   "metadata": {},
   "outputs": [
    {
     "data": {
      "text/plain": [
       "7"
      ]
     },
     "execution_count": 15,
     "metadata": {},
     "output_type": "execute_result"
    }
   ],
   "source": [
    "longestSubarray([1, 0, 1, 1, 1, 0, 1, 1, 1, 1])"
   ]
  }
 ],
 "metadata": {
  "kernelspec": {
   "display_name": "leetcode",
   "language": "python",
   "name": "leetcode"
  },
  "language_info": {
   "codemirror_mode": {
    "name": "ipython",
    "version": 3
   },
   "file_extension": ".py",
   "mimetype": "text/x-python",
   "name": "python",
   "nbconvert_exporter": "python",
   "pygments_lexer": "ipython3",
   "version": "3.9.18"
  }
 },
 "nbformat": 4,
 "nbformat_minor": 2
}
