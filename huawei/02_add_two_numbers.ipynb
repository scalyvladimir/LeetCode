{
 "cells": [
  {
   "cell_type": "code",
   "execution_count": 165,
   "metadata": {},
   "outputs": [],
   "source": [
    "class ListNode:\n",
    "    def __init__(self, val=0, next=None):\n",
    "        self.val = val\n",
    "        self.next = next\n",
    "\n",
    "def linked_from_list(l_list):\n",
    "\n",
    "    create_head = False\n",
    "    head = None\n",
    "    tail = head\n",
    "\n",
    "    for l in reversed(l_list):\n",
    "\n",
    "        if not create_head:\n",
    "            create_head = True\n",
    "            head = ListNode(l)\n",
    "            tail = head\n",
    "        else:\n",
    "            tail.next = ListNode(l)\n",
    "            tail = tail.next\n",
    "\n",
    "    return head\n",
    "\n",
    "def get_len(l):\n",
    "    res = 0\n",
    "    \n",
    "    while(l):\n",
    "        l = l.next\n",
    "        res += 1\n",
    "\n",
    "    return res\n",
    "\n",
    "def addTwoNumbers(l1, l2):\n",
    "\n",
    "    len1, len2 = get_len(l1), get_len(l2)\n",
    "\n",
    "    small, big = l1 if len1 < len2 else l2, l2 if len1 < len2 else l1\n",
    "\n",
    "    head = big\n",
    "\n",
    "    remember = 0\n",
    "\n",
    "    while small:\n",
    "        summ = (big.val + small.val + remember) \n",
    "\n",
    "        if summ // 10 != 0:\n",
    "            remember = summ // 10\n",
    "        else:\n",
    "            remember = 0\n",
    "\n",
    "        big.val = summ % 10\n",
    "\n",
    "        if not big.next and remember != 0:\n",
    "            big.next = ListNode(remember)\n",
    "            remember = 0\n",
    "\n",
    "        big = big.next\n",
    "        small = small.next\n",
    "\n",
    "    while remember != 0:\n",
    "        if big:\n",
    "            summ = (big.val + remember) \n",
    "            if summ // 10 != 0:\n",
    "                remember = summ // 10\n",
    "            else:\n",
    "                remember = 0\n",
    "\n",
    "            big.val = summ % 10\n",
    "            \n",
    "            if not big.next and remember != 0:\n",
    "                big.next = ListNode(remember)\n",
    "                remember = 0\n",
    "\n",
    "            big = big.next\n",
    "\n",
    "    return head\n"
   ]
  },
  {
   "cell_type": "code",
   "execution_count": 166,
   "metadata": {},
   "outputs": [],
   "source": [
    "def print_l_list(l_list):\n",
    "    print(l_list.val, end=' ')\n",
    "\n",
    "    iterator = l_list\n",
    "    iterator = iterator.next\n",
    "\n",
    "    while iterator:\n",
    "        print(iterator.val, end=' ')\n",
    "        iterator = iterator.next"
   ]
  },
  {
   "cell_type": "code",
   "execution_count": 167,
   "metadata": {},
   "outputs": [
    {
     "name": "stdout",
     "output_type": "stream",
     "text": [
      "0 1 1 "
     ]
    }
   ],
   "source": [
    "l1 = linked_from_list([9] * 2)\n",
    "l2 = linked_from_list([1] * 2)\n",
    "\n",
    "print_l_list(addTwoNumbers(l1, l2))"
   ]
  },
  {
   "cell_type": "code",
   "execution_count": 159,
   "metadata": {},
   "outputs": [
    {
     "name": "stdout",
     "output_type": "stream",
     "text": [
      "0 0 0 0 1 "
     ]
    }
   ],
   "source": [
    "l1 = linked_from_list([9] * 4)\n",
    "l2 = linked_from_list([1])\n",
    "\n",
    "print_l_list(addTwoNumbers(l1, l2))"
   ]
  },
  {
   "cell_type": "code",
   "execution_count": null,
   "metadata": {},
   "outputs": [],
   "source": []
  },
  {
   "cell_type": "code",
   "execution_count": null,
   "metadata": {},
   "outputs": [],
   "source": []
  }
 ],
 "metadata": {
  "kernelspec": {
   "display_name": "leetcode",
   "language": "python",
   "name": "leetcode"
  },
  "language_info": {
   "codemirror_mode": {
    "name": "ipython",
    "version": 3
   },
   "file_extension": ".py",
   "mimetype": "text/x-python",
   "name": "python",
   "nbconvert_exporter": "python",
   "pygments_lexer": "ipython3",
   "version": "3.9.18"
  }
 },
 "nbformat": 4,
 "nbformat_minor": 2
}
