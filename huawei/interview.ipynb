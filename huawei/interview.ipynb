{
 "cells": [
  {
   "cell_type": "code",
   "execution_count": 61,
   "metadata": {},
   "outputs": [],
   "source": [
    "import numpy as np\n",
    "\n",
    "class SparseMatrix:\n",
    "    def __init__(self, arr):\n",
    "        self.coords = np.stack(np.nonzero(arr), 1)\n",
    "        self.values = arr[np.nonzero(arr)]\n",
    "        self.shape = arr.shape\n",
    "\n",
    "    def scalarProduct(self, scalar):\n",
    "        new_obj = self.__new__(type(self))\n",
    "        new_obj.values *= scalar\n",
    "\n",
    "        return new_obj\n",
    "    \n",
    "    def equals(self, lhs, rhs):\n",
    "        return all(lhs == rhs)\n",
    "    \n",
    "    def less(self, lhs, rhs):\n",
    "        if lhs[0] < rhs[0]:\n",
    "            return True\n",
    "        return lhs[1] < lhs[2]\n",
    "        \n",
    "    def sum(self, other):\n",
    "\n",
    "        if not all(self.shape == other.shape):\n",
    "            raise Exception('sizes mismatch')\n",
    "\n",
    "        res = SparseMatrix([])\n",
    "\n",
    "        len_l = len(self.coords)\n",
    "        len_r = len(other.coords)\n",
    "\n",
    "        i_l = i_r = 0\n",
    "        while i_l < len_l and i_r < len_r:\n",
    "            if self.equals(self.coords[i_l], other.coords[i_r]):\n",
    "                res.values.append(self.values[i_l] + self.values[i_r])\n",
    "                res.coords.append(self.coords[i_l])\n",
    "                i_l += 1\n",
    "                i_r += 1\n",
    "            elif self.less(self.coords[i_l], other.coords[i_r]):\n",
    "                res.values.append(self.values[i_l])\n",
    "                res.coords.append(self.coords[i_l])\n",
    "                i_l += 1\n",
    "            else:\n",
    "                res.values.append(self.values[i_r])\n",
    "                res.coords.append(self.coords[i_r])\n",
    "                i_r += 1\n",
    "\n",
    "        while i_l < len_l:\n",
    "            res.values.append(self.values[i_l])\n",
    "            res.coords.append(self.coords[i_l])\n",
    "            i_l += 1\n",
    "        \n",
    "        while i_r < len_r:\n",
    "            res.values.append(self.values[i_r])\n",
    "            res.coords.append(self.coords[i_r])\n",
    "            i_r += 1      \n",
    "\n",
    "        res.shape = self.shape\n",
    "        \n",
    "        return res\n",
    "    \n",
    "    def matVec(self, vector):\n",
    "\n",
    "        if self.shape[1] != vector.shape[0]:\n",
    "            raise Exception('sizes mismatch')\n",
    "        \n",
    "        if vector.shape[1] != 1:\n",
    "            raise Exception(f'{vector} is not vector')\n",
    "        \n",
    "        res = np.zeros((self.shape[0], 1))\n",
    "        \n",
    "        for i in range(len(self.values)):\n",
    "            idx_vec = self.coords[i][1]\n",
    "            idx_res = self.coords[i][0]\n",
    "            res[idx_res][0] += self.values[i] * vector[idx_vec][0]\n",
    "\n",
    "        return res\n"
   ]
  },
  {
   "cell_type": "code",
   "execution_count": 62,
   "metadata": {},
   "outputs": [],
   "source": [
    "def equals(lhs, rhs):\n",
    "    return all(lhs == rhs)\n",
    "\n",
    "def less(lhs, rhs):\n",
    "    if lhs[0] < rhs[0]:\n",
    "        return True\n",
    "    return lhs[1] < lhs[2]"
   ]
  },
  {
   "cell_type": "code",
   "execution_count": 63,
   "metadata": {},
   "outputs": [],
   "source": [
    "import numpy as anp\n",
    "\n",
    "input_arr = np.stack(np.nonzero(np.eye(3)), 1)"
   ]
  },
  {
   "cell_type": "code",
   "execution_count": 64,
   "metadata": {},
   "outputs": [
    {
     "data": {
      "text/plain": [
       "array([[1, 0, 0],\n",
       "       [0, 2, 0],\n",
       "       [0, 0, 3]])"
      ]
     },
     "execution_count": 64,
     "metadata": {},
     "output_type": "execute_result"
    }
   ],
   "source": [
    "arr = np.diag(np.arange(1, 4))\n",
    "arr"
   ]
  },
  {
   "cell_type": "code",
   "execution_count": 66,
   "metadata": {},
   "outputs": [
    {
     "data": {
      "text/plain": [
       "(array([1, 2, 3]),\n",
       " array([[0, 0],\n",
       "        [1, 1],\n",
       "        [2, 2]]))"
      ]
     },
     "execution_count": 66,
     "metadata": {},
     "output_type": "execute_result"
    }
   ],
   "source": [
    "obj = SparseMatrix(arr)\n",
    "obj.values, obj.coords"
   ]
  },
  {
   "cell_type": "code",
   "execution_count": 69,
   "metadata": {},
   "outputs": [
    {
     "name": "stdout",
     "output_type": "stream",
     "text": [
      "CPU times: user 282 µs, sys: 2.33 ms, total: 2.61 ms\n",
      "Wall time: 7.65 ms\n"
     ]
    },
    {
     "data": {
      "text/plain": [
       "array([[2.],\n",
       "       [4.],\n",
       "       [6.]])"
      ]
     },
     "execution_count": 69,
     "metadata": {},
     "output_type": "execute_result"
    }
   ],
   "source": [
    "%%time\n",
    "\n",
    "obj.matVec(np.ones((3, 1)) * 2)"
   ]
  },
  {
   "cell_type": "code",
   "execution_count": 70,
   "metadata": {},
   "outputs": [
    {
     "name": "stdout",
     "output_type": "stream",
     "text": [
      "CPU times: user 177 µs, sys: 526 µs, total: 703 µs\n",
      "Wall time: 2.23 ms\n"
     ]
    },
    {
     "data": {
      "text/plain": [
       "array([1., 2., 3.])"
      ]
     },
     "execution_count": 70,
     "metadata": {},
     "output_type": "execute_result"
    }
   ],
   "source": [
    "%%time\n",
    "\n",
    "np.diag([1, 2, 3]) @ np.ones(3)"
   ]
  }
 ],
 "metadata": {
  "kernelspec": {
   "display_name": "leetcode",
   "language": "python",
   "name": "leetcode"
  },
  "language_info": {
   "codemirror_mode": {
    "name": "ipython",
    "version": 3
   },
   "file_extension": ".py",
   "mimetype": "text/x-python",
   "name": "python",
   "nbconvert_exporter": "python",
   "pygments_lexer": "ipython3",
   "version": "3.9.18"
  }
 },
 "nbformat": 4,
 "nbformat_minor": 2
}
