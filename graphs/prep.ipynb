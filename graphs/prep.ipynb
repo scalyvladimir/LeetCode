{
 "cells": [
  {
   "cell_type": "markdown",
   "id": "b10fc1ad",
   "metadata": {},
   "source": [
    "## baseball"
   ]
  },
  {
   "cell_type": "code",
   "execution_count": 1,
   "id": "48185e95",
   "metadata": {},
   "outputs": [],
   "source": [
    "def calPoints(ops) -> int:\n",
    "    \n",
    "    scores_list = []\n",
    "    \n",
    "    for op in ops:\n",
    "        \n",
    "        try:\n",
    "            scores_list.append(int(op))\n",
    "            \n",
    "        except:\n",
    "            \n",
    "            if op == '+':\n",
    "                tmp = sum(scores_list[-2:])\n",
    "                scores_list.append(tmp)\n",
    "\n",
    "            elif op == 'D':\n",
    "                if scores_list:\n",
    "                    tmp = scores_list[-1]\n",
    "                    scores_list.append(2 * tmp)\n",
    "\n",
    "            elif op == 'C':\n",
    "                if scores_list:\n",
    "                    scores_list.pop()\n",
    "\n",
    "    return(sum(scores_list))\n",
    "            "
   ]
  },
  {
   "cell_type": "code",
   "execution_count": 2,
   "id": "54794766",
   "metadata": {},
   "outputs": [],
   "source": [
    "# input_list = [\"5\",\"2\",\"C\",\"D\",\"+\"]"
   ]
  },
  {
   "cell_type": "code",
   "execution_count": 3,
   "id": "e0d43b3b",
   "metadata": {},
   "outputs": [],
   "source": [
    "# input_list = [\"5\",\"-2\",\"4\",\"C\",\"D\",\"9\",\"+\",\"+\"]"
   ]
  },
  {
   "cell_type": "code",
   "execution_count": 4,
   "id": "71824293",
   "metadata": {},
   "outputs": [],
   "source": [
    "# input_list = [\"1\"]"
   ]
  },
  {
   "cell_type": "code",
   "execution_count": 5,
   "id": "e38267f3",
   "metadata": {},
   "outputs": [],
   "source": [
    "# calPoints(input_list)"
   ]
  },
  {
   "cell_type": "markdown",
   "id": "e0dad783",
   "metadata": {},
   "source": [
    "## Find if Path Exists in Graph"
   ]
  },
  {
   "cell_type": "code",
   "execution_count": 6,
   "id": "e57132fe",
   "metadata": {},
   "outputs": [],
   "source": [
    "from collections import deque\n",
    "from math import inf"
   ]
  },
  {
   "cell_type": "code",
   "execution_count": 116,
   "id": "8ff807c3",
   "metadata": {},
   "outputs": [],
   "source": [
    "class Graph:\n",
    "    def __init__(self, edges, g_type='dir'):\n",
    "        \n",
    "        self.adj = {}\n",
    "        self.has_cycle = False\n",
    "        self.dist = {}\n",
    "        \n",
    "        for u, v in edges:\n",
    "            \n",
    "            if u not in self.adj.keys():\n",
    "                self.adj[u] = [v]\n",
    "            else:\n",
    "                self.adj[u].append(v)\n",
    "\n",
    "            if v not in self.adj.keys():\n",
    "                self.adj[v] = []\n",
    "\n",
    "            if g_type == 'bidir':\n",
    "\n",
    "                if v not in self.adj.keys():\n",
    "                    self.adj[v] = [u]\n",
    "                else:\n",
    "                    self.adj[v].append(u)\n",
    "\n",
    "        self.colors = dict([(i, \"white\") for i in self.adj.keys()])\n",
    "    \n",
    "    def dfs(self, source_id, sorted_list=None):\n",
    "        self.colors[source_id] = \"gray\"\n",
    "        \n",
    "#         print(source_id)\n",
    "            \n",
    "        for v in self.adj[source_id]:\n",
    "\n",
    "            if self.colors[v] == \"white\":\n",
    "                self.dfs(v, sorted_list)\n",
    "                \n",
    "            elif self.colors[v] == \"gray\":\n",
    "                self.has_cycle = True\n",
    "\n",
    "        if sorted_list is not None and self.colors[source_id] != \"black\":\n",
    "            sorted_list.append(source_id)\n",
    "            \n",
    "        self.colors[source_id] = \"black\"\n",
    "        \n",
    "    def bfs(self, source_id):\n",
    "        \n",
    "        self.dist = [inf for _ in self.adj.keys()] \n",
    "        self.dist[source_id] = 0\n",
    "        \n",
    "        q = deque([source_id])\n",
    "        \n",
    "        while q:\n",
    "            u = q.pop()\n",
    "        \n",
    "            for v in self.adj[u]:\n",
    "                \n",
    "                if self.dist[v] > self.dist[u] + 1:\n",
    "                    self.dist[v] = self.dist[u] + 1\n",
    "                    q.appendleft(v)\n",
    "                    \n",
    "    def topsort(self):\n",
    "        sorted_list = deque([])\n",
    "        \n",
    "        for v in self.adj:\n",
    "            \n",
    "            if self.colors[v] != \"black\":\n",
    "                self.dfs(v, sorted_list)\n",
    "            \n",
    "        return sorted_list"
   ]
  },
  {
   "cell_type": "code",
   "execution_count": 92,
   "id": "0557fb39",
   "metadata": {},
   "outputs": [],
   "source": [
    "def validPath(n: int, edges, source: int, destination: int) -> bool:\n",
    "    graph = Graph(edges)\n",
    "    \n",
    "    graph.dfs(source)\n",
    "    \n",
    "    return(graph.colors[destination] == 'black')"
   ]
  },
  {
   "cell_type": "code",
   "execution_count": 93,
   "id": "e4ef3b92",
   "metadata": {},
   "outputs": [],
   "source": [
    "# adj = [[0,1],[1,2],[2,0]]\n",
    "# src, dest = 0, 2"
   ]
  },
  {
   "cell_type": "code",
   "execution_count": 94,
   "id": "97befba8",
   "metadata": {},
   "outputs": [],
   "source": [
    "# adj = [[0,1],[0,2],[3,5],[5,4],[4,3]]\n",
    "# src, dest = 0, 5"
   ]
  },
  {
   "cell_type": "code",
   "execution_count": 95,
   "id": "58677344",
   "metadata": {},
   "outputs": [],
   "source": [
    "# adj = [[0,1],[1,2],[2,0]]\n",
    "# src, dest = 0, 2"
   ]
  },
  {
   "cell_type": "code",
   "execution_count": 96,
   "id": "24cf3621",
   "metadata": {},
   "outputs": [],
   "source": [
    "# validPath(None, adj, src, dest)"
   ]
  },
  {
   "cell_type": "markdown",
   "id": "cacc6779",
   "metadata": {},
   "source": [
    "## Course Schedule"
   ]
  },
  {
   "cell_type": "code",
   "execution_count": 97,
   "id": "1714c777",
   "metadata": {},
   "outputs": [],
   "source": [
    "def canFinish(numCourses: int, prerequisites) -> bool:\n",
    "        graph = Graph(prerequisites, numCourses)\n",
    "    \n",
    "        if not prerequisites:\n",
    "            return True\n",
    "    \n",
    "        res = graph.topsort()\n",
    "        \n",
    "        nulls = sum(map(lambda x: x == [], graph.adj.values()))\n",
    "        \n",
    "        return not graph.has_cycle"
   ]
  },
  {
   "cell_type": "code",
   "execution_count": 98,
   "id": "ad3ba358",
   "metadata": {},
   "outputs": [],
   "source": [
    "adj = [[0,10],[3,18],[5,5],[6,11],[11,14],[13,1],[15,1],[17,4]]\n",
    "\n",
    "num_courses = 20"
   ]
  },
  {
   "cell_type": "code",
   "execution_count": 99,
   "id": "ea1d936d",
   "metadata": {},
   "outputs": [
    {
     "data": {
      "text/plain": [
       "False"
      ]
     },
     "execution_count": 99,
     "metadata": {},
     "output_type": "execute_result"
    }
   ],
   "source": [
    "canFinish(num_courses, adj)"
   ]
  },
  {
   "cell_type": "code",
   "execution_count": 138,
   "id": "88c0641b",
   "metadata": {},
   "outputs": [],
   "source": [
    "def findOrder(numCourses: int, prerequisites):\n",
    "    graph = Graph(prerequisites, numCourses)\n",
    "    \n",
    "    if not prerequisites:\n",
    "        return list(range(numCourses))\n",
    "\n",
    "    res = graph.topsort()\n",
    "    \n",
    "    if graph.has_cycle:\n",
    "        return []\n",
    "    \n",
    "    diff = list(set(range(numCourses)) - set(res))\n",
    "\n",
    "    return diff + list(res)"
   ]
  },
  {
   "cell_type": "code",
   "execution_count": 118,
   "id": "f811af5d",
   "metadata": {},
   "outputs": [],
   "source": [
    "adj = [[1,0]]\n",
    "num_courses = 2"
   ]
  },
  {
   "cell_type": "code",
   "execution_count": 119,
   "id": "f08a80b8",
   "metadata": {},
   "outputs": [],
   "source": [
    "adj = [[1,0],[2,0],[3,1],[3,2]]\n",
    "num_courses = 4"
   ]
  },
  {
   "cell_type": "code",
   "execution_count": 120,
   "id": "72d65a88",
   "metadata": {},
   "outputs": [],
   "source": [
    "adj = []\n",
    "num_courses = 1"
   ]
  },
  {
   "cell_type": "code",
   "execution_count": 121,
   "id": "8f3bec7a",
   "metadata": {},
   "outputs": [],
   "source": [
    "adj = [[0,1],[1,0]]\n",
    "num_courses = 2"
   ]
  },
  {
   "cell_type": "code",
   "execution_count": 124,
   "id": "4f00ff0e",
   "metadata": {},
   "outputs": [],
   "source": [
    "adj = [[1,0]]\n",
    "num_courses = 3"
   ]
  },
  {
   "cell_type": "code",
   "execution_count": 139,
   "id": "e086de38",
   "metadata": {},
   "outputs": [
    {
     "data": {
      "text/plain": [
       "[2, 0, 1]"
      ]
     },
     "execution_count": 139,
     "metadata": {},
     "output_type": "execute_result"
    }
   ],
   "source": [
    "findOrder(num_courses, adj)"
   ]
  },
  {
   "cell_type": "code",
   "execution_count": null,
   "id": "34884599",
   "metadata": {},
   "outputs": [],
   "source": []
  }
 ],
 "metadata": {
  "kernelspec": {
   "display_name": "Python 3 (ipykernel)",
   "language": "python",
   "name": "python3"
  },
  "language_info": {
   "codemirror_mode": {
    "name": "ipython",
    "version": 3
   },
   "file_extension": ".py",
   "mimetype": "text/x-python",
   "name": "python",
   "nbconvert_exporter": "python",
   "pygments_lexer": "ipython3",
   "version": "3.9.8"
  }
 },
 "nbformat": 4,
 "nbformat_minor": 5
}
