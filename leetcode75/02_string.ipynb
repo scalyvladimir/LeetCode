{
 "cells": [
  {
   "cell_type": "markdown",
   "id": "ade100d5",
   "metadata": {},
   "source": [
    "## 205. Isomorphic Strings"
   ]
  },
  {
   "cell_type": "code",
   "execution_count": 151,
   "id": "8bf755f7",
   "metadata": {},
   "outputs": [],
   "source": [
    "def isIsomorphic(s, t):\n",
    "    \n",
    "    mapping = dict()\n",
    "    \n",
    "    if len(s) != len(t) or len(s) == 0 or len(t) == 0:\n",
    "        return False\n",
    "\n",
    "    for i, val in enumerate(s):\n",
    "        if val not in mapping.keys():\n",
    "            if t[i] in mapping.values():\n",
    "                return False\n",
    "            else:\n",
    "                mapping[val] = t[i]\n",
    "        elif t[i] not in mapping[val]:\n",
    "            return False\n",
    "\n",
    "    return True"
   ]
  },
  {
   "cell_type": "code",
   "execution_count": 152,
   "id": "57c1ee0a",
   "metadata": {},
   "outputs": [
    {
     "data": {
      "text/plain": [
       "True"
      ]
     },
     "execution_count": 152,
     "metadata": {},
     "output_type": "execute_result"
    }
   ],
   "source": [
    "isIsomorphic('egg', 'add')"
   ]
  },
  {
   "cell_type": "code",
   "execution_count": 153,
   "id": "a06197a2",
   "metadata": {},
   "outputs": [
    {
     "data": {
      "text/plain": [
       "False"
      ]
     },
     "execution_count": 153,
     "metadata": {},
     "output_type": "execute_result"
    }
   ],
   "source": [
    "isIsomorphic('foo', 'bar')"
   ]
  },
  {
   "cell_type": "code",
   "execution_count": 154,
   "id": "992ff687",
   "metadata": {},
   "outputs": [
    {
     "data": {
      "text/plain": [
       "True"
      ]
     },
     "execution_count": 154,
     "metadata": {},
     "output_type": "execute_result"
    }
   ],
   "source": [
    "isIsomorphic('paper', 'title')"
   ]
  },
  {
   "cell_type": "code",
   "execution_count": 155,
   "id": "ada00062",
   "metadata": {},
   "outputs": [
    {
     "data": {
      "text/plain": [
       "False"
      ]
     },
     "execution_count": 155,
     "metadata": {},
     "output_type": "execute_result"
    }
   ],
   "source": [
    "isIsomorphic('badc', 'baba')"
   ]
  },
  {
   "cell_type": "markdown",
   "id": "fd9a40c6",
   "metadata": {},
   "source": [
    "## 392. Is Subsequence"
   ]
  },
  {
   "cell_type": "code",
   "execution_count": 167,
   "id": "0b9c2218",
   "metadata": {},
   "outputs": [],
   "source": [
    "def isSubsequence(s, t):\n",
    "    if len(t) < len(s):\n",
    "        return False\n",
    "    \n",
    "    i = 0\n",
    "    n_found = 0\n",
    "    \n",
    "    while(i < len(t) and n_found < len(s)):\n",
    "        if t[i] == s[n_found]:\n",
    "            n_found += 1\n",
    "        \n",
    "        i += 1\n",
    "        \n",
    "    return n_found == len(s)"
   ]
  },
  {
   "cell_type": "code",
   "execution_count": 168,
   "id": "8f74078d",
   "metadata": {},
   "outputs": [
    {
     "data": {
      "text/plain": [
       "True"
      ]
     },
     "execution_count": 168,
     "metadata": {},
     "output_type": "execute_result"
    }
   ],
   "source": [
    "isSubsequence('abc', 'ahbgdc')"
   ]
  },
  {
   "cell_type": "code",
   "execution_count": 169,
   "id": "2023c422",
   "metadata": {},
   "outputs": [
    {
     "data": {
      "text/plain": [
       "False"
      ]
     },
     "execution_count": 169,
     "metadata": {},
     "output_type": "execute_result"
    }
   ],
   "source": [
    "isSubsequence('axc', 'ahbgdc')"
   ]
  }
 ],
 "metadata": {
  "kernelspec": {
   "display_name": "leetcode",
   "language": "python",
   "name": "leetcode"
  },
  "language_info": {
   "codemirror_mode": {
    "name": "ipython",
    "version": 3
   },
   "file_extension": ".py",
   "mimetype": "text/x-python",
   "name": "python",
   "nbconvert_exporter": "python",
   "pygments_lexer": "ipython3",
   "version": "3.9.18"
  }
 },
 "nbformat": 4,
 "nbformat_minor": 5
}
