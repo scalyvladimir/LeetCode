{
 "cells": [
  {
   "cell_type": "markdown",
   "id": "9fa1bc30",
   "metadata": {},
   "source": [
    "## 1480. Running Sum of 1d Array"
   ]
  },
  {
   "cell_type": "code",
   "execution_count": 6,
   "id": "c7dfb7b5",
   "metadata": {},
   "outputs": [],
   "source": [
    "def runningSum(nums):\n",
    "    for i, _ in enumerate(nums[1:]):\n",
    "        nums[i+1] = nums[i] + nums[i+1]\n",
    "    return nums"
   ]
  },
  {
   "cell_type": "code",
   "execution_count": 7,
   "id": "034916d3",
   "metadata": {},
   "outputs": [
    {
     "data": {
      "text/plain": [
       "[1, 3, 6, 10]"
      ]
     },
     "execution_count": 7,
     "metadata": {},
     "output_type": "execute_result"
    }
   ],
   "source": [
    "runningSum([1,2,3,4])"
   ]
  },
  {
   "cell_type": "markdown",
   "id": "7fee4d36",
   "metadata": {},
   "source": [
    "## 724. Find Pivot Index"
   ]
  },
  {
   "cell_type": "code",
   "execution_count": 111,
   "id": "a36c3bac",
   "metadata": {},
   "outputs": [],
   "source": [
    "def prefixSum(nums):\n",
    "    for i, _ in enumerate(nums[1:]):\n",
    "        nums[i+1] += nums[i]\n",
    "    return nums\n",
    "\n",
    "def pivotIndex(nums):\n",
    "    \n",
    "    prefix = prefixSum(nums)\n",
    "    \n",
    "    ans = False\n",
    "    i = 0\n",
    "    \n",
    "    while i < len(nums) and not ans:\n",
    "\n",
    "        suffix = prefix[-1] - prefix[i]\n",
    "        \n",
    "        if i == 0:\n",
    "            ans = (suffix == 0)\n",
    "        else:\n",
    "            ans = (prefix[i-1] == suffix) \n",
    "            \n",
    "        i += 1\n",
    "    \n",
    "    return i-1 if ans else -1"
   ]
  },
  {
   "cell_type": "code",
   "execution_count": 112,
   "id": "5ce153fe",
   "metadata": {},
   "outputs": [
    {
     "data": {
      "text/plain": [
       "-1"
      ]
     },
     "execution_count": 112,
     "metadata": {},
     "output_type": "execute_result"
    }
   ],
   "source": [
    "pivotIndex([1,2,3])"
   ]
  }
 ],
 "metadata": {
  "kernelspec": {
   "display_name": "leetcode",
   "language": "python",
   "name": "leetcode"
  },
  "language_info": {
   "codemirror_mode": {
    "name": "ipython",
    "version": 3
   },
   "file_extension": ".py",
   "mimetype": "text/x-python",
   "name": "python",
   "nbconvert_exporter": "python",
   "pygments_lexer": "ipython3",
   "version": "3.9.8"
  }
 },
 "nbformat": 4,
 "nbformat_minor": 5
}
