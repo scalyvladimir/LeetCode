{
 "cells": [
  {
   "cell_type": "markdown",
   "id": "eb37faac",
   "metadata": {},
   "source": [
    "## 21. Merge Two Sorted Lists"
   ]
  },
  {
   "cell_type": "code",
   "execution_count": 92,
   "id": "cf7f4bbc",
   "metadata": {},
   "outputs": [],
   "source": [
    "# Definition for singly-linked list.\n",
    "class ListNode:\n",
    "    def __init__(self, val=0, next=None):\n",
    "        self.val = val\n",
    "        self.next = next\n",
    "\n",
    "def mergeTwoLists(list1, list2):\n",
    "    res = ListNode()\n",
    "    \n",
    "    while list1 is not None and list2 is not None:\n",
    "        if list1.val < list2.val:\n",
    "            list1.next = list2\n",
    "            \n",
    "            tmp = list1.next\n",
    "            \n",
    "            list2 = list1\n",
    "            list1 = tmp\n",
    "        else:\n",
    "            list2.next = list1\n",
    "\n",
    "            tmp = list2.next\n",
    "\n",
    "            list1 = list2\n",
    "            list2 = tmp\n",
    "    \n",
    "    return list1 if list1 is not None else list2"
   ]
  },
  {
   "cell_type": "code",
   "execution_count": 93,
   "id": "10e6338f",
   "metadata": {},
   "outputs": [],
   "source": [
    "list1 = get_list([1,2,4])\n",
    "# print_list(list1)\n",
    "\n",
    "list2 = get_list([1,3,4])\n",
    "# print_list(list2)"
   ]
  },
  {
   "cell_type": "code",
   "execution_count": 94,
   "id": "c996d730",
   "metadata": {},
   "outputs": [
    {
     "ename": "KeyboardInterrupt",
     "evalue": "",
     "output_type": "error",
     "traceback": [
      "\u001b[0;31m---------------------------------------------------------------------------\u001b[0m",
      "\u001b[0;31mKeyboardInterrupt\u001b[0m                         Traceback (most recent call last)",
      "\u001b[0;32m/var/folders/28/jnstkr6902l__8f0j4tmfrwm0000gn/T/ipykernel_44793/3760869835.py\u001b[0m in \u001b[0;36m<module>\u001b[0;34m\u001b[0m\n\u001b[0;32m----> 1\u001b[0;31m \u001b[0mprint_list\u001b[0m\u001b[0;34m(\u001b[0m\u001b[0mmergeTwoLists\u001b[0m\u001b[0;34m(\u001b[0m\u001b[0mlist1\u001b[0m\u001b[0;34m,\u001b[0m \u001b[0mlist2\u001b[0m\u001b[0;34m)\u001b[0m\u001b[0;34m)\u001b[0m\u001b[0;34m\u001b[0m\u001b[0;34m\u001b[0m\u001b[0m\n\u001b[0m",
      "\u001b[0;32m/var/folders/28/jnstkr6902l__8f0j4tmfrwm0000gn/T/ipykernel_44793/2312173106.py\u001b[0m in \u001b[0;36mmergeTwoLists\u001b[0;34m(list1, list2)\u001b[0m\n\u001b[1;32m     15\u001b[0m             \u001b[0mlist1\u001b[0m \u001b[0;34m=\u001b[0m \u001b[0mtmp\u001b[0m\u001b[0;34m\u001b[0m\u001b[0;34m\u001b[0m\u001b[0m\n\u001b[1;32m     16\u001b[0m         \u001b[0;32melse\u001b[0m\u001b[0;34m:\u001b[0m\u001b[0;34m\u001b[0m\u001b[0;34m\u001b[0m\u001b[0m\n\u001b[0;32m---> 17\u001b[0;31m             \u001b[0mlist2\u001b[0m\u001b[0;34m.\u001b[0m\u001b[0mnext\u001b[0m \u001b[0;34m=\u001b[0m \u001b[0mlist1\u001b[0m\u001b[0;34m\u001b[0m\u001b[0;34m\u001b[0m\u001b[0m\n\u001b[0m\u001b[1;32m     18\u001b[0m \u001b[0;34m\u001b[0m\u001b[0m\n\u001b[1;32m     19\u001b[0m             \u001b[0mtmp\u001b[0m \u001b[0;34m=\u001b[0m \u001b[0mlist2\u001b[0m\u001b[0;34m.\u001b[0m\u001b[0mnext\u001b[0m\u001b[0;34m\u001b[0m\u001b[0;34m\u001b[0m\u001b[0m\n",
      "\u001b[0;31mKeyboardInterrupt\u001b[0m: "
     ]
    }
   ],
   "source": [
    "print_list(mergeTwoLists(list1, list2))"
   ]
  },
  {
   "cell_type": "code",
   "execution_count": 56,
   "id": "f376d71e",
   "metadata": {},
   "outputs": [],
   "source": [
    "import numpy as np"
   ]
  },
  {
   "cell_type": "code",
   "execution_count": 79,
   "id": "8376e4b9",
   "metadata": {},
   "outputs": [],
   "source": [
    "def get_list(nums):\n",
    "    nums = nums[::-1]\n",
    "    \n",
    "    head = ListNode(nums[0])\n",
    "    for num in nums[1:]:\n",
    "        head = ListNode(num, head)\n",
    "    return head\n",
    "\n",
    "def print_list(l):\n",
    "    while l.next is not None:\n",
    "        print(l.val)\n",
    "        l = l.next\n",
    "    print(l.val)"
   ]
  },
  {
   "cell_type": "code",
   "execution_count": 82,
   "id": "c1f24284",
   "metadata": {},
   "outputs": [
    {
     "name": "stdout",
     "output_type": "stream",
     "text": [
      "1\n",
      "2\n",
      "4\n"
     ]
    }
   ],
   "source": []
  },
  {
   "cell_type": "code",
   "execution_count": 83,
   "id": "54ba221f",
   "metadata": {},
   "outputs": [
    {
     "name": "stdout",
     "output_type": "stream",
     "text": [
      "1\n",
      "3\n",
      "4\n"
     ]
    }
   ],
   "source": []
  },
  {
   "cell_type": "code",
   "execution_count": 84,
   "id": "dec8285b",
   "metadata": {},
   "outputs": [
    {
     "name": "stdout",
     "output_type": "stream",
     "text": [
      "1\n",
      "2\n",
      "4\n",
      "1\n",
      "3\n",
      "4\n"
     ]
    }
   ],
   "source": []
  }
 ],
 "metadata": {
  "kernelspec": {
   "display_name": "leetcode",
   "language": "python",
   "name": "leetcode"
  },
  "language_info": {
   "codemirror_mode": {
    "name": "ipython",
    "version": 3
   },
   "file_extension": ".py",
   "mimetype": "text/x-python",
   "name": "python",
   "nbconvert_exporter": "python",
   "pygments_lexer": "ipython3",
   "version": "3.9.18"
  }
 },
 "nbformat": 4,
 "nbformat_minor": 5
}
