{
 "cells": [
  {
   "cell_type": "markdown",
   "id": "dedf0544-dbdc-44b2-9f6a-6102134ccfb4",
   "metadata": {},
   "source": [
    "## 21. Merge Two Sorted Lists"
   ]
  },
  {
   "cell_type": "code",
   "execution_count": 7,
   "id": "889050fc-0d8f-49aa-ba90-edbccd5c6727",
   "metadata": {},
   "outputs": [],
   "source": [
    "class ListNode:\n",
    "    def __init__(self, val=0, next=None):\n",
    "        self.val = val\n",
    "        self.next = next"
   ]
  },
  {
   "cell_type": "code",
   "execution_count": 94,
   "id": "738ef3d8-2eda-4a10-8a07-b56a27756c33",
   "metadata": {},
   "outputs": [],
   "source": [
    "def linked_from_list(l_list):\n",
    "\n",
    "    create_head = False\n",
    "    head = None\n",
    "    tail = head\n",
    "\n",
    "    for l in l_list:\n",
    "\n",
    "        if not create_head:\n",
    "            create_head = True\n",
    "            head = ListNode(l)\n",
    "            tail = head\n",
    "        else:\n",
    "            tail.next = ListNode(l)\n",
    "            tail = tail.next\n",
    "\n",
    "    return head\n",
    "\n",
    "def get_len(l):\n",
    "    res = 0\n",
    "    \n",
    "    while(l):\n",
    "        l = l.next\n",
    "        res += 1\n",
    "\n",
    "    return res\n",
    "\n",
    "def print_l_list(l_list):\n",
    "    print(l_list.val if l_list else 'null', end=' ')\n",
    "\n",
    "    iterator = l_list\n",
    "    iterator = iterator.next if iterator else iterator\n",
    "\n",
    "    while iterator:\n",
    "        print(iterator.val, end=' ')\n",
    "        iterator = iterator.next"
   ]
  },
  {
   "cell_type": "code",
   "execution_count": 107,
   "id": "532cc2fd-c845-4bbc-a81a-5a07741d6ebc",
   "metadata": {},
   "outputs": [],
   "source": [
    "def mergeTwoLists(list1, list2):\n",
    "    curr = head = None\n",
    "\n",
    "    if list1 and list2:\n",
    "        if list1.val < list2.val:\n",
    "            head = list1\n",
    "            list1 = list1.next\n",
    "        else:\n",
    "            head = list2\n",
    "            list2  = list2.next\n",
    "        curr = head\n",
    "    elif list1:\n",
    "        return list1\n",
    "    elif list2:\n",
    "        return list2\n",
    "    \n",
    "    while list1 and list2:\n",
    "        if list1.val < list2.val:\n",
    "            curr.next = list1\n",
    "            curr = curr.next\n",
    "            list1 = list1.next\n",
    "        else:\n",
    "            curr.next = list2\n",
    "            curr = curr.next\n",
    "            list2 = list2.next\n",
    "\n",
    "    if list1:\n",
    "        curr.next = list1\n",
    "    elif list2:\n",
    "        curr.next = list2\n",
    "        \n",
    "    return head"
   ]
  },
  {
   "cell_type": "code",
   "execution_count": 108,
   "id": "76c07961-9bcd-40f6-89bc-9440670e012b",
   "metadata": {},
   "outputs": [
    {
     "name": "stdout",
     "output_type": "stream",
     "text": [
      "1 1 2 3 4 4 "
     ]
    }
   ],
   "source": [
    "l1, l2 = linked_from_list([1,2,4]), linked_from_list([1,3,4])\n",
    "print_l_list(mergeTwoLists(list1=l1, list2=l2))"
   ]
  },
  {
   "cell_type": "code",
   "execution_count": 109,
   "id": "af490fa2-c87e-4348-b7d2-88bf8765d7f3",
   "metadata": {},
   "outputs": [
    {
     "name": "stdout",
     "output_type": "stream",
     "text": [
      "null "
     ]
    }
   ],
   "source": [
    "l1, l2 = None, None\n",
    "print_l_list(mergeTwoLists(list1=l1, list2=l2))"
   ]
  },
  {
   "cell_type": "code",
   "execution_count": 110,
   "id": "2140f96d-75ef-4aef-8cde-aecb881bd798",
   "metadata": {},
   "outputs": [
    {
     "name": "stdout",
     "output_type": "stream",
     "text": [
      "0 "
     ]
    }
   ],
   "source": [
    "l1, l2 = None, linked_from_list([0])\n",
    "print_l_list(mergeTwoLists(list1=l1, list2=l2))"
   ]
  },
  {
   "cell_type": "code",
   "execution_count": null,
   "id": "a637c8eb-68b0-4f70-8c42-b96db1af2851",
   "metadata": {},
   "outputs": [],
   "source": []
  }
 ],
 "metadata": {
  "kernelspec": {
   "display_name": "leetcode",
   "language": "python",
   "name": "leetcode"
  },
  "language_info": {
   "codemirror_mode": {
    "name": "ipython",
    "version": 3
   },
   "file_extension": ".py",
   "mimetype": "text/x-python",
   "name": "python",
   "nbconvert_exporter": "python",
   "pygments_lexer": "ipython3",
   "version": "3.9.18"
  }
 },
 "nbformat": 4,
 "nbformat_minor": 5
}
