{
 "cells": [
  {
   "cell_type": "markdown",
   "id": "b45a6b28-d907-41eb-a889-0783d3593fca",
   "metadata": {},
   "source": [
    "## 438. Find All Anagrams in a String"
   ]
  },
  {
   "cell_type": "code",
   "execution_count": 5,
   "id": "5e79a3cf-f38c-40f1-95f0-b8404ef60b02",
   "metadata": {},
   "outputs": [],
   "source": [
    "from collections import defaultdict"
   ]
  },
  {
   "cell_type": "code",
   "execution_count": 48,
   "id": "2c2eae51-e9d4-46db-83ef-c8d717b7ff77",
   "metadata": {},
   "outputs": [],
   "source": [
    "def findAnagrams(s, p):\n",
    "    if len(p) > len(s):\n",
    "        return False\n",
    "\n",
    "    p_dict = defaultdict(int)\n",
    "    \n",
    "    for char in p:\n",
    "        p_dict[char] += 1\n",
    "    \n",
    "    s_dict = defaultdict(int)\n",
    "\n",
    "    for i in range(len(p)):\n",
    "        s_dict[s[i]] += 1\n",
    "\n",
    "    ans = [0] if s_dict == p_dict else []\n",
    "    \n",
    "    for i in range(1, len(s) - len(p) + 1):\n",
    "        old_char = s[i-1]\n",
    "        new_char = s[i + len(p)-1]\n",
    "\n",
    "        s_dict[new_char] += 1\n",
    "        \n",
    "        s_dict[old_char] -= 1\n",
    "        \n",
    "        if not s_dict[old_char]:\n",
    "            del s_dict[old_char]\n",
    "        \n",
    "        if s_dict == p_dict:\n",
    "            ans.append(i)\n",
    "\n",
    "    return ans"
   ]
  },
  {
   "cell_type": "code",
   "execution_count": 49,
   "id": "120a7490-2d37-4a34-afee-27989e32e62a",
   "metadata": {},
   "outputs": [
    {
     "data": {
      "text/plain": [
       "[0, 6]"
      ]
     },
     "execution_count": 49,
     "metadata": {},
     "output_type": "execute_result"
    }
   ],
   "source": [
    "findAnagrams(s=\"cbaebabacd\", p=\"abc\")"
   ]
  },
  {
   "cell_type": "code",
   "execution_count": 50,
   "id": "9bfed9b2-dc76-48d4-b809-9c34b54031f7",
   "metadata": {},
   "outputs": [
    {
     "data": {
      "text/plain": [
       "[0, 1, 2]"
      ]
     },
     "execution_count": 50,
     "metadata": {},
     "output_type": "execute_result"
    }
   ],
   "source": [
    "findAnagrams(s=\"abab\", p=\"ab\")"
   ]
  }
 ],
 "metadata": {
  "kernelspec": {
   "display_name": "leetcode",
   "language": "python",
   "name": "leetcode"
  },
  "language_info": {
   "codemirror_mode": {
    "name": "ipython",
    "version": 3
   },
   "file_extension": ".py",
   "mimetype": "text/x-python",
   "name": "python",
   "nbconvert_exporter": "python",
   "pygments_lexer": "ipython3",
   "version": "3.9.18"
  }
 },
 "nbformat": 4,
 "nbformat_minor": 5
}
