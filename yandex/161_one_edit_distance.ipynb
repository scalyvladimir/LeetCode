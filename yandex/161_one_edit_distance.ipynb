{
 "cells": [
  {
   "cell_type": "markdown",
   "id": "815baa5e-3ec0-4212-a16b-645006d244f3",
   "metadata": {},
   "source": [
    "## 161. One Edit Distance"
   ]
  },
  {
   "cell_type": "code",
   "execution_count": 26,
   "id": "208c043d-a430-47a2-b210-d4d936bd2d98",
   "metadata": {},
   "outputs": [],
   "source": [
    "def isOneEditDistance(s, t):\n",
    "    if s == t:\n",
    "        return False\n",
    "    i = 0\n",
    "    while(i < min(len(s), len(t)) and s[i] == t[i]):\n",
    "        i += 1\n",
    "    return s[i:] == t[i+1:] or s[i+1:] == t[i:] or s[i+1:] == t[i+1:]"
   ]
  },
  {
   "cell_type": "code",
   "execution_count": 27,
   "id": "2f7a145f-e3db-4b88-8145-48e594ae76ca",
   "metadata": {},
   "outputs": [],
   "source": [
    "# insert, delete, replace"
   ]
  },
  {
   "cell_type": "code",
   "execution_count": 28,
   "id": "e19131f6-ae01-4494-85e2-7e8d0488017e",
   "metadata": {},
   "outputs": [
    {
     "data": {
      "text/plain": [
       "True"
      ]
     },
     "execution_count": 28,
     "metadata": {},
     "output_type": "execute_result"
    }
   ],
   "source": [
    "isOneEditDistance(s = \"ab\", t = \"ac\")"
   ]
  },
  {
   "cell_type": "code",
   "execution_count": 29,
   "id": "82031df5-ebc3-4f0a-a186-0e92cf37244f",
   "metadata": {},
   "outputs": [
    {
     "data": {
      "text/plain": [
       "True"
      ]
     },
     "execution_count": 29,
     "metadata": {},
     "output_type": "execute_result"
    }
   ],
   "source": [
    "isOneEditDistance(s = \"abc\", t = \"afc\")"
   ]
  },
  {
   "cell_type": "code",
   "execution_count": 30,
   "id": "df620105-6ed3-476d-a63a-25c4a270f73f",
   "metadata": {},
   "outputs": [
    {
     "data": {
      "text/plain": [
       "True"
      ]
     },
     "execution_count": 30,
     "metadata": {},
     "output_type": "execute_result"
    }
   ],
   "source": [
    "isOneEditDistance(s = \"ac\", t = \"ab\")"
   ]
  },
  {
   "cell_type": "code",
   "execution_count": 31,
   "id": "762642b6-54d4-4788-a90b-2751407cd4d8",
   "metadata": {},
   "outputs": [
    {
     "data": {
      "text/plain": [
       "False"
      ]
     },
     "execution_count": 31,
     "metadata": {},
     "output_type": "execute_result"
    }
   ],
   "source": [
    "isOneEditDistance(s = \"\", t = \"\")"
   ]
  },
  {
   "cell_type": "code",
   "execution_count": 32,
   "id": "17e4fa21-611b-41e0-8b21-1ab7807ef993",
   "metadata": {},
   "outputs": [
    {
     "data": {
      "text/plain": [
       "False"
      ]
     },
     "execution_count": 32,
     "metadata": {},
     "output_type": "execute_result"
    }
   ],
   "source": [
    "isOneEditDistance(s = \"ab\", t = \"c\")"
   ]
  },
  {
   "cell_type": "code",
   "execution_count": 33,
   "id": "9e278cc7-5fbc-4c6c-a1da-3a6804393a93",
   "metadata": {},
   "outputs": [
    {
     "data": {
      "text/plain": [
       "True"
      ]
     },
     "execution_count": 33,
     "metadata": {},
     "output_type": "execute_result"
    }
   ],
   "source": [
    "isOneEditDistance(s = \"da\", t = \"ca\")"
   ]
  },
  {
   "cell_type": "code",
   "execution_count": null,
   "id": "a2588d51-b809-4b0c-99a3-a78758c2b58a",
   "metadata": {},
   "outputs": [],
   "source": []
  }
 ],
 "metadata": {
  "kernelspec": {
   "display_name": "leetcode",
   "language": "python",
   "name": "leetcode"
  },
  "language_info": {
   "codemirror_mode": {
    "name": "ipython",
    "version": 3
   },
   "file_extension": ".py",
   "mimetype": "text/x-python",
   "name": "python",
   "nbconvert_exporter": "python",
   "pygments_lexer": "ipython3",
   "version": "3.9.18"
  }
 },
 "nbformat": 4,
 "nbformat_minor": 5
}
