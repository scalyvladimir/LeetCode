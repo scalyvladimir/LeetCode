{
 "cells": [
  {
   "cell_type": "markdown",
   "id": "09404509-5181-4c6b-a26d-27f789a6e362",
   "metadata": {},
   "source": [
    "## 443. String Compression"
   ]
  },
  {
   "cell_type": "code",
   "execution_count": 109,
   "id": "d37abf26-f5bc-4517-a5b8-29807dffcada",
   "metadata": {},
   "outputs": [],
   "source": [
    "def compress(chars):\n",
    "    i = 0\n",
    "    compress_id = 0\n",
    "\n",
    "    while i < len(chars):\n",
    "        char = chars[i]\n",
    "        cnt = 0\n",
    "        \n",
    "        while i < len(chars) and chars[i] == char:\n",
    "            cnt += 1\n",
    "            i += 1\n",
    "\n",
    "        chars[compress_id] = char\n",
    "        compress_id += 1\n",
    "        \n",
    "        if cnt > 1:\n",
    "            for c in str(cnt):\n",
    "                chars[compress_id] = c\n",
    "                compress_id += 1\n",
    "\n",
    "    return compress_id, chars"
   ]
  },
  {
   "cell_type": "code",
   "execution_count": 111,
   "id": "c1a8e017-8edb-45ed-89f2-640defd4f30d",
   "metadata": {},
   "outputs": [
    {
     "data": {
      "text/plain": [
       "(6, ['a', '2', 'b', '2', 'c', '3', 'c'])"
      ]
     },
     "execution_count": 111,
     "metadata": {},
     "output_type": "execute_result"
    }
   ],
   "source": [
    "compress(chars=[\"a\",\"a\",\"b\",\"b\",\"c\",\"c\",\"c\"])"
   ]
  },
  {
   "cell_type": "code",
   "execution_count": 113,
   "id": "487ca90c-b0cd-4fa6-90cc-7510c97686f3",
   "metadata": {},
   "outputs": [
    {
     "data": {
      "text/plain": [
       "(4, ['a', 'b', '1', '2', 'b', 'b', 'b', 'b', 'b', 'b', 'b', 'b', 'b'])"
      ]
     },
     "execution_count": 113,
     "metadata": {},
     "output_type": "execute_result"
    }
   ],
   "source": [
    "compress(chars=[\"a\",\"b\",\"b\",\"b\",\"b\",\"b\",\"b\",\"b\",\"b\",\"b\",\"b\",\"b\",\"b\"])"
   ]
  },
  {
   "cell_type": "code",
   "execution_count": 114,
   "id": "9361279b-6cf9-4e25-8447-20c2b4fd411a",
   "metadata": {},
   "outputs": [
    {
     "data": {
      "text/plain": [
       "(6, ['a', '2', 'b', '2', 'c', '3', 'c'])"
      ]
     },
     "execution_count": 114,
     "metadata": {},
     "output_type": "execute_result"
    }
   ],
   "source": [
    "compress(chars=[\"a\",\"a\",\"b\",\"b\",\"c\",\"c\",\"c\"])"
   ]
  },
  {
   "cell_type": "code",
   "execution_count": null,
   "id": "f2e3b683-edc9-47d7-82b5-485955de816a",
   "metadata": {},
   "outputs": [],
   "source": []
  }
 ],
 "metadata": {
  "kernelspec": {
   "display_name": "leetcode",
   "language": "python",
   "name": "leetcode"
  },
  "language_info": {
   "codemirror_mode": {
    "name": "ipython",
    "version": 3
   },
   "file_extension": ".py",
   "mimetype": "text/x-python",
   "name": "python",
   "nbconvert_exporter": "python",
   "pygments_lexer": "ipython3",
   "version": "3.9.18"
  }
 },
 "nbformat": 4,
 "nbformat_minor": 5
}
