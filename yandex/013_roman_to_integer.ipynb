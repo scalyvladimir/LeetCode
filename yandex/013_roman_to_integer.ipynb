{
 "cells": [
  {
   "cell_type": "markdown",
   "id": "7da99437-9abb-4e2c-9b3b-caefec04665d",
   "metadata": {},
   "source": [
    "## 13. Roman to Integer"
   ]
  },
  {
   "cell_type": "code",
   "execution_count": 31,
   "id": "6c304ce5-0eb5-4145-8f38-99ce03912db3",
   "metadata": {},
   "outputs": [],
   "source": [
    "r2i = {\n",
    "    'I': 1,\n",
    "    'V': 5,\n",
    "    'X': 10,\n",
    "    'L': 50,\n",
    "    'C': 100,\n",
    "    'D': 500,\n",
    "    'M': 1000,\n",
    "    'IV': 4,\n",
    "    'IX': 9,\n",
    "    'XL': 40,\n",
    "    'XC': 90,\n",
    "    'CD': 400,\n",
    "    'CM': 900\n",
    "}\n",
    "\n",
    "def romanToInt(s):\n",
    "    res = 0\n",
    "    i = 0\n",
    "\n",
    "    while i < len(s):\n",
    "        if s[i:i+2] in r2i:\n",
    "            summand = r2i[s[i:i+2]]\n",
    "            i += 2\n",
    "        else:\n",
    "            summand = r2i[s[i]]\n",
    "            i += 1\n",
    "        res += summand\n",
    "\n",
    "    return res"
   ]
  },
  {
   "cell_type": "code",
   "execution_count": 28,
   "id": "687e674b-ad46-4d06-8b0a-323f57ba01f7",
   "metadata": {},
   "outputs": [
    {
     "name": "stdout",
     "output_type": "stream",
     "text": [
      "II\n",
      "II\n",
      "I\n"
     ]
    },
    {
     "data": {
      "text/plain": [
       "3"
      ]
     },
     "execution_count": 28,
     "metadata": {},
     "output_type": "execute_result"
    }
   ],
   "source": [
    "romanToInt(s=\"III\")"
   ]
  },
  {
   "cell_type": "code",
   "execution_count": 29,
   "id": "858a1afb-8f45-4108-90b2-a5943087b7b0",
   "metadata": {},
   "outputs": [
    {
     "name": "stdout",
     "output_type": "stream",
     "text": [
      "LV\n",
      "VI\n",
      "II\n",
      "II\n",
      "I\n"
     ]
    },
    {
     "data": {
      "text/plain": [
       "58"
      ]
     },
     "execution_count": 29,
     "metadata": {},
     "output_type": "execute_result"
    }
   ],
   "source": [
    "romanToInt(s=\"LVIII\")"
   ]
  },
  {
   "cell_type": "code",
   "execution_count": 30,
   "id": "c2216fbd-5d7e-4a86-b6a1-fd7154fce28d",
   "metadata": {},
   "outputs": [
    {
     "name": "stdout",
     "output_type": "stream",
     "text": [
      "MC\n",
      "CM\n",
      "XC\n",
      "IV\n"
     ]
    },
    {
     "data": {
      "text/plain": [
       "1994"
      ]
     },
     "execution_count": 30,
     "metadata": {},
     "output_type": "execute_result"
    }
   ],
   "source": [
    "romanToInt(s=\"MCMXCIV\")"
   ]
  },
  {
   "cell_type": "code",
   "execution_count": null,
   "id": "996d15d3-c33e-4717-9c71-d3f86856c84e",
   "metadata": {},
   "outputs": [],
   "source": []
  }
 ],
 "metadata": {
  "kernelspec": {
   "display_name": "leetcode",
   "language": "python",
   "name": "leetcode"
  },
  "language_info": {
   "codemirror_mode": {
    "name": "ipython",
    "version": 3
   },
   "file_extension": ".py",
   "mimetype": "text/x-python",
   "name": "python",
   "nbconvert_exporter": "python",
   "pygments_lexer": "ipython3",
   "version": "3.9.18"
  }
 },
 "nbformat": 4,
 "nbformat_minor": 5
}
