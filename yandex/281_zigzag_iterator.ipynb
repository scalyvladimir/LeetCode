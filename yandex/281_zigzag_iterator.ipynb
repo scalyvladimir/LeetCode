{
 "cells": [
  {
   "cell_type": "markdown",
   "id": "518eb0c6-9bbe-48fc-b611-aac50faa961c",
   "metadata": {},
   "source": [
    "## 281. Zigzag Iterator"
   ]
  },
  {
   "cell_type": "code",
   "execution_count": 51,
   "id": "78b5af81-0f8b-4ba6-a801-2142c073f1d8",
   "metadata": {},
   "outputs": [],
   "source": [
    "class ZigzagIterator:\n",
    "    def __init__(self, v1, v2):\n",
    "        self.v1 = v1\n",
    "        self.v2 = v2\n",
    "\n",
    "        self.i = 0\n",
    "        self.v1_turn = True if self.v1 and self.v2 else None\n",
    "        self.curr = self.v1 if self.v1 else self.v2\n",
    "\n",
    "    def next(self):\n",
    "        res = self.curr[self.i] if self.i < len(self.curr) else None\n",
    "\n",
    "        if self.v1_turn is not None:\n",
    "            if not self.v1_turn:\n",
    "                self.i += 1\n",
    "                self.curr = self.v1 if self.i < len(self.v1) else self.v2\n",
    "            else:\n",
    "                self.curr = self.v2 if self.i < len(self.v2) else self.v2\n",
    "        else:\n",
    "            self.i += 1\n",
    "        self.v1_turn = not self.v1_turn if self.i < len(self.v2) and self.i < len(self.v1) else None\n",
    "        return res\n",
    "\n",
    "    def hasNext(self):\n",
    "        return self.i < len(self.curr)"
   ]
  },
  {
   "cell_type": "code",
   "execution_count": 52,
   "id": "aa36e770-7f49-4c8c-a23a-f1360ec63f57",
   "metadata": {},
   "outputs": [],
   "source": [
    "# iter_obj = ZigzagIterator(v1 = [1,2], v2 = [3,4,5,6])"
   ]
  },
  {
   "cell_type": "code",
   "execution_count": 53,
   "id": "268a414e-7000-4947-b6b4-40372ca2eef8",
   "metadata": {},
   "outputs": [],
   "source": [
    "# iter_obj = ZigzagIterator(v1 = [1], v2 = [])"
   ]
  },
  {
   "cell_type": "code",
   "execution_count": 54,
   "id": "66b01fb0-58ac-4fd1-9831-dd10fff53f9b",
   "metadata": {},
   "outputs": [],
   "source": [
    "iter_obj = ZigzagIterator(v1 = [], v2 = [1])"
   ]
  },
  {
   "cell_type": "code",
   "execution_count": 55,
   "id": "09c9ce3e-33d3-4f40-92c3-e4cb1ebd82ae",
   "metadata": {},
   "outputs": [
    {
     "name": "stdout",
     "output_type": "stream",
     "text": [
      "1\n"
     ]
    }
   ],
   "source": [
    "while iter_obj.hasNext():\n",
    "    print(iter_obj.next())"
   ]
  }
 ],
 "metadata": {
  "kernelspec": {
   "display_name": "leetcode",
   "language": "python",
   "name": "leetcode"
  },
  "language_info": {
   "codemirror_mode": {
    "name": "ipython",
    "version": 3
   },
   "file_extension": ".py",
   "mimetype": "text/x-python",
   "name": "python",
   "nbconvert_exporter": "python",
   "pygments_lexer": "ipython3",
   "version": "3.9.18"
  }
 },
 "nbformat": 4,
 "nbformat_minor": 5
}
