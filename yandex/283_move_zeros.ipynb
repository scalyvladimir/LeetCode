{
 "cells": [
  {
   "cell_type": "markdown",
   "id": "c93828d1-b135-418f-9e5e-0ba23786f052",
   "metadata": {},
   "source": [
    "## 283. Move Zeroes"
   ]
  },
  {
   "cell_type": "code",
   "execution_count": 72,
   "id": "0a129774-f875-41b1-9117-df12f0d5129d",
   "metadata": {},
   "outputs": [],
   "source": [
    "def swap(l, r, arr):\n",
    "    tmp = arr[l]\n",
    "    arr[l] = arr[r]\n",
    "    arr[r] = tmp\n",
    "\n",
    "def moveZeroes(nums):\n",
    "    in_pos = 0\n",
    "\n",
    "    for num in nums:\n",
    "        if num != 0:\n",
    "            nums[in_pos] = num\n",
    "            in_pos += 1\n",
    "\n",
    "    while in_pos < len(nums):\n",
    "        nums[in_pos] = 0\n",
    "        in_pos += 1"
   ]
  },
  {
   "cell_type": "code",
   "execution_count": 73,
   "id": "5b32a7a4-f33c-4fbd-aee9-83ba7ff59639",
   "metadata": {},
   "outputs": [],
   "source": [
    "moveZeroes(nums=[0,1,0,3,12])"
   ]
  },
  {
   "cell_type": "code",
   "execution_count": 74,
   "id": "7188cba9-4660-41e4-94f2-9eb362da821b",
   "metadata": {},
   "outputs": [],
   "source": [
    "moveZeroes(nums=[0])"
   ]
  },
  {
   "cell_type": "code",
   "execution_count": 75,
   "id": "4a490327-67e5-42cd-9dc0-ab71ede82f06",
   "metadata": {},
   "outputs": [],
   "source": [
    "moveZeroes(nums=[1, 0])"
   ]
  },
  {
   "cell_type": "code",
   "execution_count": null,
   "id": "97760bc7-0129-4ac1-881d-4955b0688bec",
   "metadata": {},
   "outputs": [],
   "source": []
  }
 ],
 "metadata": {
  "kernelspec": {
   "display_name": "leetcode",
   "language": "python",
   "name": "leetcode"
  },
  "language_info": {
   "codemirror_mode": {
    "name": "ipython",
    "version": 3
   },
   "file_extension": ".py",
   "mimetype": "text/x-python",
   "name": "python",
   "nbconvert_exporter": "python",
   "pygments_lexer": "ipython3",
   "version": "3.9.18"
  }
 },
 "nbformat": 4,
 "nbformat_minor": 5
}
