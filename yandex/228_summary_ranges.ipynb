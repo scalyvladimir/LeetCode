{
 "cells": [
  {
   "cell_type": "markdown",
   "id": "09404509-5181-4c6b-a26d-27f789a6e362",
   "metadata": {},
   "source": [
    "## 3. Summary Ranges"
   ]
  },
  {
   "cell_type": "code",
   "execution_count": 211,
   "id": "d37abf26-f5bc-4517-a5b8-29807dffcada",
   "metadata": {},
   "outputs": [],
   "source": [
    "def summaryRanges(nums):\n",
    "    if len(nums) == 0:\n",
    "        return []\n",
    "    \n",
    "    res = [[nums[0]]]\n",
    "    subset_id = 0\n",
    "    i = 1\n",
    "\n",
    "    while i < len(nums):        \n",
    "        if nums[i] - nums[i-1] == 1:\n",
    "            if len(res[subset_id]) != 2:\n",
    "                res[subset_id].append(nums[i])\n",
    "            else:\n",
    "                res[subset_id][1] = nums[i]\n",
    "        else:\n",
    "            subset_id += 1\n",
    "            res.append([nums[i]])\n",
    "        \n",
    "        i += 1\n",
    "        \n",
    "    return list(map(lambda x: '->'.join(map(str, x)), res))"
   ]
  },
  {
   "cell_type": "code",
   "execution_count": 212,
   "id": "c1a8e017-8edb-45ed-89f2-640defd4f30d",
   "metadata": {},
   "outputs": [
    {
     "data": {
      "text/plain": [
       "['0->2', '4->5', '7']"
      ]
     },
     "execution_count": 212,
     "metadata": {},
     "output_type": "execute_result"
    }
   ],
   "source": [
    "summaryRanges(nums=[0,1,2,4,5,7])"
   ]
  },
  {
   "cell_type": "code",
   "execution_count": 213,
   "id": "8dbe2dc1-05bc-4beb-b8a0-85657799019a",
   "metadata": {},
   "outputs": [
    {
     "data": {
      "text/plain": [
       "['0', '2->4', '6', '8->9']"
      ]
     },
     "execution_count": 213,
     "metadata": {},
     "output_type": "execute_result"
    }
   ],
   "source": [
    "summaryRanges(nums=[0,2,3,4,6,8,9])"
   ]
  },
  {
   "cell_type": "code",
   "execution_count": null,
   "id": "487ca90c-b0cd-4fa6-90cc-7510c97686f3",
   "metadata": {},
   "outputs": [],
   "source": []
  }
 ],
 "metadata": {
  "kernelspec": {
   "display_name": "leetcode",
   "language": "python",
   "name": "leetcode"
  },
  "language_info": {
   "codemirror_mode": {
    "name": "ipython",
    "version": 3
   },
   "file_extension": ".py",
   "mimetype": "text/x-python",
   "name": "python",
   "nbconvert_exporter": "python",
   "pygments_lexer": "ipython3",
   "version": "3.9.18"
  }
 },
 "nbformat": 4,
 "nbformat_minor": 5
}
