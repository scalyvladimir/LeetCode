{
 "cells": [
  {
   "cell_type": "markdown",
   "id": "09404509-5181-4c6b-a26d-27f789a6e362",
   "metadata": {},
   "source": [
    "## 3. Summary Ranges"
   ]
  },
  {
   "cell_type": "code",
   "execution_count": 5,
   "id": "d37abf26-f5bc-4517-a5b8-29807dffcada",
   "metadata": {},
   "outputs": [],
   "source": [
    "def summaryRanges(nums):\n",
    "    if len(nums) == 0:\n",
    "        return []\n",
    "    \n",
    "    res = []\n",
    "\n",
    "    for n in nums:\n",
    "        if res and n-1 == res[-1][1]:\n",
    "            res[-1][1] = n\n",
    "        else:\n",
    "            res.append([n, n])\n",
    "        \n",
    "    return [f'{x}->{y}' if x != y else str(x) for x, y in res]"
   ]
  },
  {
   "cell_type": "code",
   "execution_count": 6,
   "id": "f48472d8-9a09-400d-8d58-7fa8bf5c21ed",
   "metadata": {},
   "outputs": [
    {
     "data": {
      "text/plain": [
       "['0->2', '4->5', '7']"
      ]
     },
     "execution_count": 6,
     "metadata": {},
     "output_type": "execute_result"
    }
   ],
   "source": [
    "summaryRanges(nums=[0,1,2,4,5,7])"
   ]
  },
  {
   "cell_type": "code",
   "execution_count": 212,
   "id": "c1a8e017-8edb-45ed-89f2-640defd4f30d",
   "metadata": {},
   "outputs": [
    {
     "data": {
      "text/plain": [
       "['0->2', '4->5', '7']"
      ]
     },
     "execution_count": 212,
     "metadata": {},
     "output_type": "execute_result"
    }
   ],
   "source": [
    "summaryRanges(nums=[0,1,2,4,5,7])"
   ]
  },
  {
   "cell_type": "code",
   "execution_count": 7,
   "id": "1ac6dfa3-43c6-4b1f-bf08-2644950f3c5d",
   "metadata": {},
   "outputs": [
    {
     "data": {
      "text/plain": [
       "['0', '2->4', '6', '8->9']"
      ]
     },
     "execution_count": 7,
     "metadata": {},
     "output_type": "execute_result"
    }
   ],
   "source": [
    "summaryRanges(nums=[0,2,3,4,6,8,9])"
   ]
  },
  {
   "cell_type": "code",
   "execution_count": 213,
   "id": "8dbe2dc1-05bc-4beb-b8a0-85657799019a",
   "metadata": {},
   "outputs": [
    {
     "data": {
      "text/plain": [
       "['0', '2->4', '6', '8->9']"
      ]
     },
     "execution_count": 213,
     "metadata": {},
     "output_type": "execute_result"
    }
   ],
   "source": [
    "summaryRanges(nums=[0,2,3,4,6,8,9])"
   ]
  },
  {
   "cell_type": "code",
   "execution_count": null,
   "id": "487ca90c-b0cd-4fa6-90cc-7510c97686f3",
   "metadata": {},
   "outputs": [],
   "source": []
  }
 ],
 "metadata": {
  "kernelspec": {
   "display_name": "leetcode",
   "language": "python",
   "name": "leetcode"
  },
  "language_info": {
   "codemirror_mode": {
    "name": "ipython",
    "version": 3
   },
   "file_extension": ".py",
   "mimetype": "text/x-python",
   "name": "python",
   "nbconvert_exporter": "python",
   "pygments_lexer": "ipython3",
   "version": "3.9.18"
  }
 },
 "nbformat": 4,
 "nbformat_minor": 5
}
