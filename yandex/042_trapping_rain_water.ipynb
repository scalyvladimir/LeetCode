{
 "cells": [
  {
   "cell_type": "markdown",
   "id": "2b4ca125-5c62-4bc8-8ef0-d891519d7781",
   "metadata": {},
   "source": [
    "## 42. Trapping Rain Water"
   ]
  },
  {
   "cell_type": "code",
   "execution_count": 34,
   "id": "1aba4259-9922-45bb-ab32-16221a50862b",
   "metadata": {},
   "outputs": [],
   "source": [
    "def trap(height):\n",
    "    if len(height) <= 2:\n",
    "        return 0\n",
    "    \n",
    "    l, r = 1, len(height) - 1\n",
    "    res = 0\n",
    "\n",
    "    lmax = height[0]\n",
    "    rmax = height[-1]\n",
    "\n",
    "    while l <= r:\n",
    "        lmax = max(lmax, height[l])\n",
    "        rmax = max(rmax, height[r])\n",
    "\n",
    "        if lmax <= rmax:\n",
    "            res += lmax - height[l]\n",
    "            l += 1\n",
    "        else:\n",
    "            res += rmax - height[r]\n",
    "            r -= 1\n",
    "        \n",
    "    return res"
   ]
  },
  {
   "cell_type": "code",
   "execution_count": 35,
   "id": "d9c07dfb-74b4-402b-9bf0-d40190ea5a8d",
   "metadata": {},
   "outputs": [
    {
     "data": {
      "text/plain": [
       "9"
      ]
     },
     "execution_count": 35,
     "metadata": {},
     "output_type": "execute_result"
    }
   ],
   "source": [
    "trap(height = [4,2,0,3,2,5])"
   ]
  },
  {
   "cell_type": "code",
   "execution_count": 36,
   "id": "519efac4-4ae5-4d7a-b312-23e3ba632201",
   "metadata": {},
   "outputs": [
    {
     "data": {
      "text/plain": [
       "6"
      ]
     },
     "execution_count": 36,
     "metadata": {},
     "output_type": "execute_result"
    }
   ],
   "source": [
    "trap(height = [0,1,0,2,1,0,1,3,2,1,2,1])"
   ]
  },
  {
   "cell_type": "code",
   "execution_count": null,
   "id": "0ed5d302-9034-4b03-99fd-20d55db9ebbc",
   "metadata": {},
   "outputs": [],
   "source": []
  }
 ],
 "metadata": {
  "kernelspec": {
   "display_name": "leetcode",
   "language": "python",
   "name": "leetcode"
  },
  "language_info": {
   "codemirror_mode": {
    "name": "ipython",
    "version": 3
   },
   "file_extension": ".py",
   "mimetype": "text/x-python",
   "name": "python",
   "nbconvert_exporter": "python",
   "pygments_lexer": "ipython3",
   "version": "3.9.18"
  }
 },
 "nbformat": 4,
 "nbformat_minor": 5
}
