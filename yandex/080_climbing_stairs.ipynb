{
 "cells": [
  {
   "cell_type": "markdown",
   "id": "e1c006d4-c675-411f-9290-7548d13d8d6d",
   "metadata": {},
   "source": [
    "## 70. Climbing Stairs"
   ]
  },
  {
   "cell_type": "code",
   "execution_count": 59,
   "id": "397602cc-3944-4123-b4c2-9aa477cf6ac0",
   "metadata": {},
   "outputs": [],
   "source": [
    "def climbStairs(n):\n",
    "    if n == 0 or n == 1:\n",
    "        return n\n",
    "    prev = old_prev = 1\n",
    "    \n",
    "    for i in range(2, n):\n",
    "        old_prev, prev = prev, old_prev + prev\n",
    "    \n",
    "    return old_prev + prev"
   ]
  },
  {
   "cell_type": "code",
   "execution_count": 60,
   "id": "8e94aa2a-b970-428c-942f-e8f3201dea1f",
   "metadata": {},
   "outputs": [
    {
     "data": {
      "text/plain": [
       "2"
      ]
     },
     "execution_count": 60,
     "metadata": {},
     "output_type": "execute_result"
    }
   ],
   "source": [
    "climbStairs(n=2)"
   ]
  },
  {
   "cell_type": "code",
   "execution_count": 61,
   "id": "3e81f68f-383e-485c-825f-0ae83735c428",
   "metadata": {},
   "outputs": [
    {
     "data": {
      "text/plain": [
       "3"
      ]
     },
     "execution_count": 61,
     "metadata": {},
     "output_type": "execute_result"
    }
   ],
   "source": [
    "climbStairs(n=3)"
   ]
  },
  {
   "cell_type": "code",
   "execution_count": 62,
   "id": "725459cd-16ba-4abd-9fd4-8d07fb026d49",
   "metadata": {},
   "outputs": [
    {
     "data": {
      "text/plain": [
       "8"
      ]
     },
     "execution_count": 62,
     "metadata": {},
     "output_type": "execute_result"
    }
   ],
   "source": [
    "climbStairs(n=5)"
   ]
  },
  {
   "cell_type": "code",
   "execution_count": 63,
   "id": "de7cb315-7f0d-4b33-a857-a4159406b792",
   "metadata": {},
   "outputs": [
    {
     "data": {
      "text/plain": [
       "1134903170"
      ]
     },
     "execution_count": 63,
     "metadata": {},
     "output_type": "execute_result"
    }
   ],
   "source": [
    "climbStairs(n=44)"
   ]
  }
 ],
 "metadata": {
  "kernelspec": {
   "display_name": "leetcode",
   "language": "python",
   "name": "leetcode"
  },
  "language_info": {
   "codemirror_mode": {
    "name": "ipython",
    "version": 3
   },
   "file_extension": ".py",
   "mimetype": "text/x-python",
   "name": "python",
   "nbconvert_exporter": "python",
   "pygments_lexer": "ipython3",
   "version": "3.9.18"
  }
 },
 "nbformat": 4,
 "nbformat_minor": 5
}
