{
 "cells": [
  {
   "cell_type": "markdown",
   "id": "516d7131-84aa-4139-bd35-bd6ba0e22e01",
   "metadata": {},
   "source": [
    "## 658. Find K Closest Elements"
   ]
  },
  {
   "cell_type": "code",
   "execution_count": 28,
   "id": "a202b48f-2ece-47c7-80e2-76ca5b8a9ee0",
   "metadata": {},
   "outputs": [],
   "source": [
    "def findClosestElements(arr, k, x):\n",
    "    l, r = 0, len(arr) - k\n",
    "\n",
    "    while l < r:\n",
    "        mid = (l + r) // 2\n",
    "        if x - arr[mid] <= arr[mid+k] - x:\n",
    "            r = mid\n",
    "        else:\n",
    "            l = mid + 1\n",
    "\n",
    "    return arr[l:l+k]"
   ]
  },
  {
   "cell_type": "code",
   "execution_count": 29,
   "id": "5b89c4ff-dd92-4e2e-a3ce-0b4bf03930b2",
   "metadata": {},
   "outputs": [
    {
     "data": {
      "text/plain": [
       "[1, 2, 3, 4]"
      ]
     },
     "execution_count": 29,
     "metadata": {},
     "output_type": "execute_result"
    }
   ],
   "source": [
    "findClosestElements(arr = [1,2,3,4,5], k = 4, x = 3)"
   ]
  },
  {
   "cell_type": "code",
   "execution_count": 30,
   "id": "2e3f20b4-302c-4f7d-8654-b853ad1a00da",
   "metadata": {},
   "outputs": [
    {
     "data": {
      "text/plain": [
       "[1, 2, 3, 4]"
      ]
     },
     "execution_count": 30,
     "metadata": {},
     "output_type": "execute_result"
    }
   ],
   "source": [
    "findClosestElements(arr = [1,2,3,4,5], k = 4, x = -1)"
   ]
  }
 ],
 "metadata": {
  "kernelspec": {
   "display_name": "leetcode",
   "language": "python",
   "name": "leetcode"
  },
  "language_info": {
   "codemirror_mode": {
    "name": "ipython",
    "version": 3
   },
   "file_extension": ".py",
   "mimetype": "text/x-python",
   "name": "python",
   "nbconvert_exporter": "python",
   "pygments_lexer": "ipython3",
   "version": "3.9.18"
  }
 },
 "nbformat": 4,
 "nbformat_minor": 5
}
