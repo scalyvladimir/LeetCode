{
 "cells": [
  {
   "cell_type": "markdown",
   "id": "08d17f38-7e81-4f5d-88ba-22604b0a5ff5",
   "metadata": {},
   "source": [
    "## 20. Valid Parentheses"
   ]
  },
  {
   "cell_type": "code",
   "execution_count": 22,
   "id": "073f036f-9c13-410a-ac7e-8d88e1fc2d83",
   "metadata": {},
   "outputs": [],
   "source": [
    "def isValid(s):\n",
    "    \n",
    "    stack = []\n",
    "    l2r = {\n",
    "        '(': ')',\n",
    "        '[': ']',\n",
    "        '{': '}'\n",
    "    }\n",
    "\n",
    "    for char in s:\n",
    "        if char in '({[':\n",
    "            stack.append(char)\n",
    "        elif len(stack) == -0 or l2r[stack.pop()] != char:\n",
    "            return False\n",
    "\n",
    "    return len(stack) == 0      "
   ]
  },
  {
   "cell_type": "code",
   "execution_count": 17,
   "id": "a532e5c8-fc22-48be-b3bc-7b194984990a",
   "metadata": {},
   "outputs": [
    {
     "data": {
      "text/plain": [
       "True"
      ]
     },
     "execution_count": 17,
     "metadata": {},
     "output_type": "execute_result"
    }
   ],
   "source": [
    "isValid(s=\"()\")"
   ]
  },
  {
   "cell_type": "code",
   "execution_count": 18,
   "id": "96f7f0e3-489e-40c0-bc35-a31101705bbb",
   "metadata": {},
   "outputs": [
    {
     "data": {
      "text/plain": [
       "True"
      ]
     },
     "execution_count": 18,
     "metadata": {},
     "output_type": "execute_result"
    }
   ],
   "source": [
    "isValid(s=\"()[]{}\")"
   ]
  },
  {
   "cell_type": "code",
   "execution_count": 19,
   "id": "8fe73713-3f1d-49df-8e61-c6ec34886ee0",
   "metadata": {},
   "outputs": [
    {
     "data": {
      "text/plain": [
       "False"
      ]
     },
     "execution_count": 19,
     "metadata": {},
     "output_type": "execute_result"
    }
   ],
   "source": [
    "isValid(s=\"(]\")"
   ]
  },
  {
   "cell_type": "code",
   "execution_count": 20,
   "id": "78be1146-241f-4db4-b259-0ed4e5551bac",
   "metadata": {},
   "outputs": [
    {
     "data": {
      "text/plain": [
       "False"
      ]
     },
     "execution_count": 20,
     "metadata": {},
     "output_type": "execute_result"
    }
   ],
   "source": [
    "isValid(s=\"((\")"
   ]
  },
  {
   "cell_type": "code",
   "execution_count": 23,
   "id": "9e9e02ca-c8f8-44f4-8f5c-b73fcd1c21ad",
   "metadata": {},
   "outputs": [
    {
     "data": {
      "text/plain": [
       "False"
      ]
     },
     "execution_count": 23,
     "metadata": {},
     "output_type": "execute_result"
    }
   ],
   "source": [
    "isValid(s=\"]\")"
   ]
  }
 ],
 "metadata": {
  "kernelspec": {
   "display_name": "leetcode",
   "language": "python",
   "name": "leetcode"
  },
  "language_info": {
   "codemirror_mode": {
    "name": "ipython",
    "version": 3
   },
   "file_extension": ".py",
   "mimetype": "text/x-python",
   "name": "python",
   "nbconvert_exporter": "python",
   "pygments_lexer": "ipython3",
   "version": "3.9.18"
  }
 },
 "nbformat": 4,
 "nbformat_minor": 5
}
