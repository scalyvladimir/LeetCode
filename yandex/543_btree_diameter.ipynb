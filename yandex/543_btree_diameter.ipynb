{
 "cells": [
  {
   "cell_type": "markdown",
   "id": "5c4ad406-aeab-4cae-80c7-f0a5a8dac9c0",
   "metadata": {},
   "source": [
    "## 543. Diameter of Binary Tree"
   ]
  },
  {
   "cell_type": "code",
   "execution_count": 1,
   "id": "4df0ca90-c4e5-41a9-beae-be0ee04725fb",
   "metadata": {},
   "outputs": [],
   "source": [
    "class TreeNode:\n",
    "    def __init__(self, val=0, left=None, right=None):\n",
    "        self.val = val\n",
    "        self.left = left\n",
    "        self.right = right"
   ]
  },
  {
   "cell_type": "code",
   "execution_count": 322,
   "id": "9f3ad4d7-efbc-4f10-8473-7116d4e89605",
   "metadata": {},
   "outputs": [],
   "source": [
    "def helper(root, d):\n",
    "    if not root.left and not root.right:\n",
    "        return 0\n",
    "    \n",
    "    left_res = 1 + helper(root.left, d) if root.left else 0\n",
    "    right_res = 1 + helper(root.right, d) if root.right else 0\n",
    "    d[0] = max(d[0], left_res + right_res)\n",
    "    \n",
    "    return max(left_res, right_res)\n",
    "    \n",
    "\n",
    "def diameterOfBinaryTree(root):\n",
    "    if not root:\n",
    "        return 0\n",
    "\n",
    "    d = [0] \n",
    "    helper(root, d)\n",
    "    \n",
    "    return d[0]"
   ]
  },
  {
   "cell_type": "code",
   "execution_count": 323,
   "id": "6a55cd9d-3c43-46ba-ba59-6cbed2b7bbe5",
   "metadata": {},
   "outputs": [],
   "source": [
    "root = TreeNode(1)\n",
    "\n",
    "root.left = TreeNode(2)\n",
    "root.right = TreeNode(3)\n",
    "\n",
    "root.left.left = TreeNode(4)\n",
    "root.left.right = TreeNode(5)"
   ]
  },
  {
   "cell_type": "code",
   "execution_count": 324,
   "id": "8fc558d6-b9e4-4603-b24d-380c97a7d08b",
   "metadata": {},
   "outputs": [],
   "source": [
    "assert diameterOfBinaryTree(root) == 3"
   ]
  },
  {
   "cell_type": "code",
   "execution_count": 325,
   "id": "3a9fb1ef-1c0b-4dc1-addb-854d72cefa7d",
   "metadata": {},
   "outputs": [],
   "source": [
    "root1 = TreeNode(1)\n",
    "\n",
    "root1.left = TreeNode(2)"
   ]
  },
  {
   "cell_type": "code",
   "execution_count": 326,
   "id": "3e762e31-daee-4de5-ac70-d9b87d9bb37f",
   "metadata": {},
   "outputs": [],
   "source": [
    "assert diameterOfBinaryTree(root1) == 1"
   ]
  },
  {
   "cell_type": "code",
   "execution_count": 327,
   "id": "f0b29861-21dc-49d2-b922-ccaff56d93e2",
   "metadata": {},
   "outputs": [],
   "source": [
    "root2 = TreeNode(1)"
   ]
  },
  {
   "cell_type": "code",
   "execution_count": 328,
   "id": "b99be4ed-151e-4280-a5dd-ed70573e438e",
   "metadata": {},
   "outputs": [],
   "source": [
    "assert diameterOfBinaryTree(root2) == 0"
   ]
  },
  {
   "cell_type": "code",
   "execution_count": 329,
   "id": "8988c925-5f54-4fdc-ad73-05264c52fe3c",
   "metadata": {},
   "outputs": [],
   "source": [
    "root3 = TreeNode(4)\n",
    "\n",
    "root3.left = TreeNode(-7)\n",
    "root3.right = TreeNode(-3)\n",
    "\n",
    "root3.right.left = TreeNode(-9)\n",
    "root3.right.right = TreeNode(-3)\n",
    "\n",
    "root3.right.left.left = TreeNode(9)\n",
    "root3.right.left.right = TreeNode(-7)\n",
    "\n",
    "root3.right.right.left = TreeNode(-4)\n",
    "\n",
    "root3.right.left.left.left = TreeNode(6)\n",
    "\n",
    "root3.right.left.right.left = TreeNode(-6)\n",
    "root3.right.left.right.right = TreeNode(-6)\n",
    "\n",
    "root3.right.left.left.left.left = TreeNode(0)\n",
    "root3.right.left.left.left.right = TreeNode(6)\n",
    "\n",
    "root3.right.left.left.left.left.right = TreeNode(-1)\n",
    "\n",
    "root3.right.left.left.left.right.left = TreeNode(-4)\n",
    "\n",
    "root3.right.left.right.left.left = TreeNode(5)\n",
    "\n",
    "root3.right.left.right.right.left = TreeNode(9)\n",
    "root3.right.left.right.right.left.left = TreeNode(-2)"
   ]
  },
  {
   "cell_type": "code",
   "execution_count": 330,
   "id": "709ef393-eda3-44ac-b3f7-2454bb986496",
   "metadata": {},
   "outputs": [
    {
     "data": {
      "text/plain": [
       "8"
      ]
     },
     "execution_count": 330,
     "metadata": {},
     "output_type": "execute_result"
    }
   ],
   "source": [
    "diameterOfBinaryTree(root3)"
   ]
  },
  {
   "cell_type": "code",
   "execution_count": null,
   "id": "b72cc8de-7334-4494-93f6-17f5c331833d",
   "metadata": {},
   "outputs": [],
   "source": []
  }
 ],
 "metadata": {
  "kernelspec": {
   "display_name": "leetcode",
   "language": "python",
   "name": "leetcode"
  },
  "language_info": {
   "codemirror_mode": {
    "name": "ipython",
    "version": 3
   },
   "file_extension": ".py",
   "mimetype": "text/x-python",
   "name": "python",
   "nbconvert_exporter": "python",
   "pygments_lexer": "ipython3",
   "version": "3.9.18"
  }
 },
 "nbformat": 4,
 "nbformat_minor": 5
}
