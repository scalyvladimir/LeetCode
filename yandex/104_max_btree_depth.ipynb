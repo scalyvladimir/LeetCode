{
 "cells": [
  {
   "cell_type": "markdown",
   "id": "778fcdec-def2-402d-a580-d876c1010da1",
   "metadata": {},
   "source": [
    "## 104. Maximum Depth of Binary Tree"
   ]
  },
  {
   "cell_type": "code",
   "execution_count": 1,
   "id": "4be3e9b7-eccf-49fc-91a4-5b307609a7d5",
   "metadata": {},
   "outputs": [],
   "source": [
    "class TreeNode:\n",
    "    def __init__(self, val=0, left=None, right=None):\n",
    "        self.val = val\n",
    "        self.left = left\n",
    "        self.right = right        "
   ]
  },
  {
   "cell_type": "code",
   "execution_count": 48,
   "id": "b3629a86-7f06-4acb-90d4-12adee492296",
   "metadata": {},
   "outputs": [],
   "source": [
    "def maxDepth(root):\n",
    "    if not root:\n",
    "        return 0\n",
    "    left_res = 1 + maxDepth(root.left) if root.left else 1\n",
    "    right_res = 1 + maxDepth(root.right) if root.right else 1\n",
    "    return max(left_res, right_res)"
   ]
  },
  {
   "cell_type": "code",
   "execution_count": 49,
   "id": "1a50ec8e-ea99-4b03-b638-8fa764a3a208",
   "metadata": {},
   "outputs": [],
   "source": [
    "root = TreeNode(3)\n",
    "\n",
    "root.left = TreeNode(9)\n",
    "root.right = TreeNode(20)\n",
    "\n",
    "root.right.right = TreeNode(15)\n",
    "root.right.left = TreeNode(7)"
   ]
  },
  {
   "cell_type": "code",
   "execution_count": 50,
   "id": "00c6cb40-6c0c-4525-b447-ddefe8a11428",
   "metadata": {},
   "outputs": [
    {
     "data": {
      "text/plain": [
       "3"
      ]
     },
     "execution_count": 50,
     "metadata": {},
     "output_type": "execute_result"
    }
   ],
   "source": [
    "maxDepth(root)"
   ]
  },
  {
   "cell_type": "code",
   "execution_count": 51,
   "id": "a60b5817-a418-4b48-b380-6fb48db365cf",
   "metadata": {},
   "outputs": [],
   "source": [
    "root1 = TreeNode(1)\n",
    "\n",
    "root1.right = TreeNode(2)"
   ]
  },
  {
   "cell_type": "code",
   "execution_count": 52,
   "id": "046acf93-50f6-4670-86f2-b6d88e60f269",
   "metadata": {},
   "outputs": [
    {
     "data": {
      "text/plain": [
       "2"
      ]
     },
     "execution_count": 52,
     "metadata": {},
     "output_type": "execute_result"
    }
   ],
   "source": [
    "maxDepth(root1)"
   ]
  }
 ],
 "metadata": {
  "kernelspec": {
   "display_name": "leetcode",
   "language": "python",
   "name": "leetcode"
  },
  "language_info": {
   "codemirror_mode": {
    "name": "ipython",
    "version": 3
   },
   "file_extension": ".py",
   "mimetype": "text/x-python",
   "name": "python",
   "nbconvert_exporter": "python",
   "pygments_lexer": "ipython3",
   "version": "3.9.18"
  }
 },
 "nbformat": 4,
 "nbformat_minor": 5
}
