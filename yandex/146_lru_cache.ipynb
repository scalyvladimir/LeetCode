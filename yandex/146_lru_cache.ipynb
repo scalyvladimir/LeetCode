{
 "cells": [
  {
   "cell_type": "markdown",
   "id": "330a6926-666f-4eca-87e1-c787611a052d",
   "metadata": {},
   "source": [
    "## 146. LRU Cache"
   ]
  },
  {
   "cell_type": "code",
   "execution_count": 3,
   "id": "16466f7f-908f-43bb-8646-2e42757702da",
   "metadata": {},
   "outputs": [],
   "source": [
    "from collections import OrderedDict"
   ]
  },
  {
   "cell_type": "code",
   "execution_count": 13,
   "id": "d5ada696-1bb8-41e9-9612-483e2f4fe8aa",
   "metadata": {},
   "outputs": [],
   "source": [
    "class LRUCache:\n",
    "    def __init__(self, capacity):\n",
    "        self.capacity = capacity \n",
    "        self.cache = OrderedDict()\n",
    "        \n",
    "    def get(self, key):\n",
    "        if key in self.cache:\n",
    "            self.cache.move_to_end(key)\n",
    "            return self.cache[key]\n",
    "        return -1\n",
    "\n",
    "    def put(self, key, value):\n",
    "        if len(self.cache) < self.capacity or len(self.cache) == self.capacity and key in self.cache:\n",
    "            self.cache[key] = value\n",
    "            # print(self.cache)\n",
    "        else:\n",
    "            self.cache.popitem(last=False)\n",
    "            self.cache[key] = value\n",
    "        self.cache.move_to_end(key)"
   ]
  },
  {
   "cell_type": "code",
   "execution_count": 14,
   "id": "dfd2a2b7-d033-4187-ae5c-4f19a7b95d5f",
   "metadata": {},
   "outputs": [
    {
     "name": "stdout",
     "output_type": "stream",
     "text": [
      "None\n",
      "None\n",
      "1\n",
      "None\n",
      "-1\n",
      "None\n",
      "-1\n",
      "3\n",
      "4\n"
     ]
    }
   ],
   "source": [
    "cache_obj = LRUCache(2)\n",
    "print(cache_obj.put(1, 1))\n",
    "print(cache_obj.put(2, 2))\n",
    "print(cache_obj.get(1))\n",
    "print(cache_obj.put(3, 3))\n",
    "print(cache_obj.get(2))\n",
    "print(cache_obj.put(4, 4))\n",
    "print(cache_obj.get(1))\n",
    "print(cache_obj.get(3))\n",
    "print(cache_obj.get(4))"
   ]
  },
  {
   "cell_type": "code",
   "execution_count": 15,
   "id": "495a9c25-66b3-4a27-837b-c03a4f1d567e",
   "metadata": {},
   "outputs": [
    {
     "name": "stdout",
     "output_type": "stream",
     "text": [
      "-1\n",
      "None\n",
      "-1\n",
      "None\n",
      "None\n",
      "2\n",
      "6\n"
     ]
    }
   ],
   "source": [
    "cache_obj = LRUCache(2)\n",
    "print(cache_obj.get(2))\n",
    "print(cache_obj.put(2, 6))\n",
    "print(cache_obj.get(1))\n",
    "print(cache_obj.put(1, 5))\n",
    "print(cache_obj.put(1, 2))\n",
    "print(cache_obj.get(1))\n",
    "print(cache_obj.get(2))"
   ]
  }
 ],
 "metadata": {
  "kernelspec": {
   "display_name": "leetcode",
   "language": "python",
   "name": "leetcode"
  },
  "language_info": {
   "codemirror_mode": {
    "name": "ipython",
    "version": 3
   },
   "file_extension": ".py",
   "mimetype": "text/x-python",
   "name": "python",
   "nbconvert_exporter": "python",
   "pygments_lexer": "ipython3",
   "version": "3.9.18"
  }
 },
 "nbformat": 4,
 "nbformat_minor": 5
}
