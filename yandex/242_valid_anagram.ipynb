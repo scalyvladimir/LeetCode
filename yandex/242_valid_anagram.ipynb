{
 "cells": [
  {
   "cell_type": "markdown",
   "id": "37b02b99-74a1-47d4-9ac4-f8460399cbdb",
   "metadata": {},
   "source": [
    "## 242. Valid Anagram"
   ]
  },
  {
   "cell_type": "code",
   "execution_count": 25,
   "id": "66ac26af-c221-49d4-ba41-fc672785b3b5",
   "metadata": {},
   "outputs": [],
   "source": [
    "from collections import defaultdict"
   ]
  },
  {
   "cell_type": "code",
   "execution_count": 77,
   "id": "d5f0c158-8a7a-4772-b2d0-4112c091ea3e",
   "metadata": {},
   "outputs": [],
   "source": [
    "def isAnagram(s, t):\n",
    "    if len(t) != len(s):\n",
    "        return False\n",
    "\n",
    "    t_dict = defaultdict(int)\n",
    "    \n",
    "    for char in t:\n",
    "        t_dict[char] += 1\n",
    "    \n",
    "    s_dict = defaultdict(int)\n",
    "\n",
    "    for i, _ in enumerate(t):\n",
    "        s_dict[s[i]] += 1\n",
    "\n",
    "    return s_dict == t_dict"
   ]
  },
  {
   "cell_type": "code",
   "execution_count": 78,
   "id": "0673afaf-2f42-4f8c-bc09-5c8dab5967b7",
   "metadata": {},
   "outputs": [
    {
     "data": {
      "text/plain": [
       "True"
      ]
     },
     "execution_count": 78,
     "metadata": {},
     "output_type": "execute_result"
    }
   ],
   "source": [
    "isAnagram(s = \"anagram\", t = \"nagaram\")"
   ]
  },
  {
   "cell_type": "code",
   "execution_count": 79,
   "id": "403fc066-e2e6-4cef-803c-7adbe49e0064",
   "metadata": {},
   "outputs": [
    {
     "data": {
      "text/plain": [
       "False"
      ]
     },
     "execution_count": 79,
     "metadata": {},
     "output_type": "execute_result"
    }
   ],
   "source": [
    "isAnagram(s = \"rat\", t = \"car\")"
   ]
  },
  {
   "cell_type": "code",
   "execution_count": 80,
   "id": "c13c930a-ff2b-42f8-9c54-dfefef159b08",
   "metadata": {},
   "outputs": [
    {
     "data": {
      "text/plain": [
       "False"
      ]
     },
     "execution_count": 80,
     "metadata": {},
     "output_type": "execute_result"
    }
   ],
   "source": [
    "isAnagram(s = \"ab\", t = \"a\")"
   ]
  },
  {
   "cell_type": "code",
   "execution_count": null,
   "id": "7286ca31-dc3e-4703-91b9-2c762eac0d9c",
   "metadata": {},
   "outputs": [],
   "source": []
  }
 ],
 "metadata": {
  "kernelspec": {
   "display_name": "leetcode",
   "language": "python",
   "name": "leetcode"
  },
  "language_info": {
   "codemirror_mode": {
    "name": "ipython",
    "version": 3
   },
   "file_extension": ".py",
   "mimetype": "text/x-python",
   "name": "python",
   "nbconvert_exporter": "python",
   "pygments_lexer": "ipython3",
   "version": "3.9.18"
  }
 },
 "nbformat": 4,
 "nbformat_minor": 5
}
