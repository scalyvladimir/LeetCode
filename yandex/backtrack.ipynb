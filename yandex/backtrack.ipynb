{
 "cells": [
  {
   "cell_type": "code",
   "execution_count": 199,
   "id": "bbccf61c-b264-4518-a370-387947b91752",
   "metadata": {},
   "outputs": [],
   "source": [
    "def counted(f):\n",
    "    def wrapped(*args, **kwargs):\n",
    "        wrapped.calls += 1\n",
    "        return f(*args, **kwargs)\n",
    "    wrapped.calls = -1\n",
    "    return wrapped\n",
    "\n",
    "@counted\n",
    "def diceRollHelper(dice, buffer):\n",
    "    if dice < 1:\n",
    "        print(buffer)\n",
    "        return\n",
    "    else:\n",
    "        for i in range(1, 4):\n",
    "            buffer.append(i)\n",
    "            diceRollHelper(dice-1, buffer)\n",
    "            buffer.remove(i)\n",
    "\n",
    "def diceRoll(dice):\n",
    "    buffer = []\n",
    "    diceRollHelper(dice, buffer)\n",
    "    return diceRollHelper.calls"
   ]
  },
  {
   "cell_type": "code",
   "execution_count": 200,
   "id": "7a0ee64e-306d-4309-88dd-421cc410aca3",
   "metadata": {},
   "outputs": [
    {
     "name": "stdout",
     "output_type": "stream",
     "text": [
      "[1, 1, 1]\n",
      "[1, 1, 2]\n",
      "[1, 1, 3]\n",
      "[1, 2, 1]\n",
      "[2, 1, 2]\n",
      "[1, 2, 3]\n",
      "[1, 3, 1]\n",
      "[3, 1, 2]\n",
      "[3, 1, 3]\n",
      "[2, 1, 1]\n",
      "[2, 1, 2]\n",
      "[1, 2, 3]\n",
      "[2, 2, 1]\n",
      "[2, 2, 2]\n",
      "[2, 2, 3]\n",
      "[2, 3, 1]\n",
      "[2, 3, 2]\n",
      "[3, 2, 3]\n",
      "[3, 1, 1]\n",
      "[3, 1, 2]\n",
      "[3, 1, 3]\n",
      "[3, 2, 1]\n",
      "[3, 2, 2]\n",
      "[3, 2, 3]\n",
      "[3, 3, 1]\n",
      "[3, 3, 2]\n",
      "[3, 3, 3]\n"
     ]
    },
    {
     "data": {
      "text/plain": [
       "39"
      ]
     },
     "execution_count": 200,
     "metadata": {},
     "output_type": "execute_result"
    }
   ],
   "source": [
    "diceRoll(3)"
   ]
  },
  {
   "cell_type": "code",
   "execution_count": 229,
   "id": "515e8892-fbf3-47be-a2d2-cd80d9285dcd",
   "metadata": {},
   "outputs": [],
   "source": [
    "@counted\n",
    "def diceRollSumHelper(dice, d_sum, runnning_sum, buffer):\n",
    "    if dice < 1:\n",
    "        if runnning_sum == d_sum:\n",
    "            print(buffer)\n",
    "        return\n",
    "    else:\n",
    "        for i in range(1, 6):\n",
    "            min_s = runnning_sum + i + 1 * (dice-1)\n",
    "            max_s = runnning_sum + i + 6 * (dice-1)\n",
    "            if min_s <= d_sum <= max_s:\n",
    "                buffer.append(i)\n",
    "                diceRollSumHelper(dice-1, d_sum, runnning_sum + i, buffer)\n",
    "                buffer.pop()\n",
    "\n",
    "def diceRollSum(dice, d_sum):\n",
    "    buffer = []\n",
    "    diceRollSumHelper(dice, d_sum, 0, buffer)\n",
    "    return diceRollSumHelper.calls"
   ]
  },
  {
   "cell_type": "code",
   "execution_count": 230,
   "id": "da250ef6-08e7-4ee1-9c5c-207b336831bb",
   "metadata": {},
   "outputs": [
    {
     "name": "stdout",
     "output_type": "stream",
     "text": [
      "[1, 1, 5]\n",
      "[1, 2, 4]\n",
      "[1, 3, 3]\n",
      "[1, 4, 2]\n",
      "[1, 5, 1]\n",
      "[2, 1, 4]\n",
      "[2, 2, 3]\n",
      "[2, 3, 2]\n",
      "[2, 4, 1]\n",
      "[3, 1, 3]\n",
      "[3, 2, 2]\n",
      "[3, 3, 1]\n",
      "[4, 1, 2]\n",
      "[4, 2, 1]\n",
      "[5, 1, 1]\n"
     ]
    },
    {
     "data": {
      "text/plain": [
       "35"
      ]
     },
     "execution_count": 230,
     "metadata": {},
     "output_type": "execute_result"
    }
   ],
   "source": [
    "diceRollSum(3, 7)"
   ]
  },
  {
   "cell_type": "code",
   "execution_count": 315,
   "id": "e66cbade-90c8-4868-b99e-1b589e9d2490",
   "metadata": {},
   "outputs": [],
   "source": [
    "@counted\n",
    "def sublistsHelper(buffer, arr, l):\n",
    "    # print('buf:', buffer, 'arr:', arr)\n",
    "    if arr:\n",
    "        for _ in enumerate(arr):\n",
    "            entry = arr.pop()\n",
    "\n",
    "            buffer.append(entry)\n",
    "            sublistsHelper(buffer, arr, l)\n",
    "    \n",
    "            buffer.pop()\n",
    "            # if len(buffer) == 3:\n",
    "                # sublistsHelper(buffer, arr)\n",
    "            arr.insert(0, entry)\n",
    "    elif len(buffer) == l:\n",
    "        # pass\n",
    "        print(buffer)\n",
    "        \n",
    "\n",
    "def sublists(arr):\n",
    "    buffer = []\n",
    "    sublistsHelper(buffer, arr, len(arr))\n",
    "    return sublistsHelper.calls"
   ]
  },
  {
   "cell_type": "code",
   "execution_count": 317,
   "id": "2465823d-79e8-4aa6-98a2-9a902b2083fb",
   "metadata": {},
   "outputs": [
    {
     "name": "stdout",
     "output_type": "stream",
     "text": [
      "[4, 5, 3, 2, 1]\n",
      "[4, 5, 3, 1, 2]\n",
      "[4, 5, 2, 1, 3]\n",
      "[4, 5, 2, 3, 1]\n",
      "[4, 5, 1, 3, 2]\n",
      "[4, 5, 1, 2, 3]\n",
      "[4, 3, 2, 1, 5]\n",
      "[4, 3, 2, 5, 1]\n",
      "[4, 3, 1, 5, 2]\n",
      "[4, 3, 1, 2, 5]\n",
      "[4, 3, 5, 2, 1]\n",
      "[4, 3, 5, 1, 2]\n",
      "[4, 2, 1, 5, 3]\n",
      "[4, 2, 1, 3, 5]\n",
      "[4, 2, 5, 3, 1]\n",
      "[4, 2, 5, 1, 3]\n",
      "[4, 2, 3, 1, 5]\n",
      "[4, 2, 3, 5, 1]\n",
      "[4, 1, 5, 3, 2]\n",
      "[4, 1, 5, 2, 3]\n",
      "[4, 1, 3, 2, 5]\n",
      "[4, 1, 3, 5, 2]\n",
      "[4, 1, 2, 5, 3]\n",
      "[4, 1, 2, 3, 5]\n",
      "[5, 3, 2, 1, 4]\n",
      "[5, 3, 2, 4, 1]\n",
      "[5, 3, 1, 4, 2]\n",
      "[5, 3, 1, 2, 4]\n",
      "[5, 3, 4, 2, 1]\n",
      "[5, 3, 4, 1, 2]\n",
      "[5, 2, 1, 4, 3]\n",
      "[5, 2, 1, 3, 4]\n",
      "[5, 2, 4, 3, 1]\n",
      "[5, 2, 4, 1, 3]\n",
      "[5, 2, 3, 1, 4]\n",
      "[5, 2, 3, 4, 1]\n",
      "[5, 1, 4, 3, 2]\n",
      "[5, 1, 4, 2, 3]\n",
      "[5, 1, 3, 2, 4]\n",
      "[5, 1, 3, 4, 2]\n",
      "[5, 1, 2, 4, 3]\n",
      "[5, 1, 2, 3, 4]\n",
      "[5, 4, 3, 2, 1]\n",
      "[5, 4, 3, 1, 2]\n",
      "[5, 4, 2, 1, 3]\n",
      "[5, 4, 2, 3, 1]\n",
      "[5, 4, 1, 3, 2]\n",
      "[5, 4, 1, 2, 3]\n",
      "[3, 2, 1, 4, 5]\n",
      "[3, 2, 1, 5, 4]\n",
      "[3, 2, 4, 5, 1]\n",
      "[3, 2, 4, 1, 5]\n",
      "[3, 2, 5, 1, 4]\n",
      "[3, 2, 5, 4, 1]\n",
      "[3, 1, 4, 5, 2]\n",
      "[3, 1, 4, 2, 5]\n",
      "[3, 1, 5, 2, 4]\n",
      "[3, 1, 5, 4, 2]\n",
      "[3, 1, 2, 4, 5]\n",
      "[3, 1, 2, 5, 4]\n",
      "[3, 4, 5, 2, 1]\n",
      "[3, 4, 5, 1, 2]\n",
      "[3, 4, 2, 1, 5]\n",
      "[3, 4, 2, 5, 1]\n",
      "[3, 4, 1, 5, 2]\n",
      "[3, 4, 1, 2, 5]\n",
      "[3, 5, 2, 1, 4]\n",
      "[3, 5, 2, 4, 1]\n",
      "[3, 5, 1, 4, 2]\n",
      "[3, 5, 1, 2, 4]\n",
      "[3, 5, 4, 2, 1]\n",
      "[3, 5, 4, 1, 2]\n",
      "[2, 1, 4, 5, 3]\n",
      "[2, 1, 4, 3, 5]\n",
      "[2, 1, 5, 3, 4]\n",
      "[2, 1, 5, 4, 3]\n",
      "[2, 1, 3, 4, 5]\n",
      "[2, 1, 3, 5, 4]\n",
      "[2, 4, 5, 3, 1]\n",
      "[2, 4, 5, 1, 3]\n",
      "[2, 4, 3, 1, 5]\n",
      "[2, 4, 3, 5, 1]\n",
      "[2, 4, 1, 5, 3]\n",
      "[2, 4, 1, 3, 5]\n",
      "[2, 5, 3, 1, 4]\n",
      "[2, 5, 3, 4, 1]\n",
      "[2, 5, 1, 4, 3]\n",
      "[2, 5, 1, 3, 4]\n",
      "[2, 5, 4, 3, 1]\n",
      "[2, 5, 4, 1, 3]\n",
      "[2, 3, 1, 4, 5]\n",
      "[2, 3, 1, 5, 4]\n",
      "[2, 3, 4, 5, 1]\n",
      "[2, 3, 4, 1, 5]\n",
      "[2, 3, 5, 1, 4]\n",
      "[2, 3, 5, 4, 1]\n",
      "[1, 4, 5, 3, 2]\n",
      "[1, 4, 5, 2, 3]\n",
      "[1, 4, 3, 2, 5]\n",
      "[1, 4, 3, 5, 2]\n",
      "[1, 4, 2, 5, 3]\n",
      "[1, 4, 2, 3, 5]\n",
      "[1, 5, 3, 2, 4]\n",
      "[1, 5, 3, 4, 2]\n",
      "[1, 5, 2, 4, 3]\n",
      "[1, 5, 2, 3, 4]\n",
      "[1, 5, 4, 3, 2]\n",
      "[1, 5, 4, 2, 3]\n",
      "[1, 3, 2, 4, 5]\n",
      "[1, 3, 2, 5, 4]\n",
      "[1, 3, 4, 5, 2]\n",
      "[1, 3, 4, 2, 5]\n",
      "[1, 3, 5, 2, 4]\n",
      "[1, 3, 5, 4, 2]\n",
      "[1, 2, 4, 5, 3]\n",
      "[1, 2, 4, 3, 5]\n",
      "[1, 2, 5, 3, 4]\n",
      "[1, 2, 5, 4, 3]\n",
      "[1, 2, 3, 4, 5]\n",
      "[1, 2, 3, 5, 4]\n"
     ]
    },
    {
     "data": {
      "text/plain": [
       "390"
      ]
     },
     "execution_count": 317,
     "metadata": {},
     "output_type": "execute_result"
    }
   ],
   "source": [
    "sublists([1, 2, 3, 5, 4])"
   ]
  }
 ],
 "metadata": {
  "kernelspec": {
   "display_name": "leetcode",
   "language": "python",
   "name": "leetcode"
  },
  "language_info": {
   "codemirror_mode": {
    "name": "ipython",
    "version": 3
   },
   "file_extension": ".py",
   "mimetype": "text/x-python",
   "name": "python",
   "nbconvert_exporter": "python",
   "pygments_lexer": "ipython3",
   "version": "3.9.18"
  }
 },
 "nbformat": 4,
 "nbformat_minor": 5
}
