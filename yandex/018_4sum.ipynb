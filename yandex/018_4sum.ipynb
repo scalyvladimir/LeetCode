{
 "cells": [
  {
   "cell_type": "markdown",
   "id": "00824b53-dcab-408c-aa4b-ca39e583c2f2",
   "metadata": {},
   "source": [
    "## 18. 4Sum"
   ]
  },
  {
   "cell_type": "code",
   "execution_count": 5,
   "id": "d2c3b557-7950-4872-b52f-ca74aeaf565e",
   "metadata": {},
   "outputs": [],
   "source": [
    "def partition(l, r, nums):\n",
    "    pivot = nums[r-1]\n",
    "    i = l - 1\n",
    "    for j in range(l, r):\n",
    "        if nums[j] <= pivot:\n",
    "            i += 1\n",
    "            if i != j:\n",
    "                nums[j], nums[i] = nums[i], nums[j]\n",
    "    return i    \n",
    "\n",
    "def qSort(l, r, nums):\n",
    "    if l < r:\n",
    "        pivot = partition(l, r, nums)\n",
    "        qSort(l, pivot, nums)\n",
    "        qSort(pivot+1, r, nums)"
   ]
  },
  {
   "cell_type": "code",
   "execution_count": 8,
   "id": "50f4707c-ebd6-45c1-9596-0d0e4ada31bb",
   "metadata": {},
   "outputs": [],
   "source": [
    "def fourSum(nums, target):\n",
    "\n",
    "    ans = []\n",
    "    \n",
    "    for i in range(len(nums) - 3):\n",
    "        if i > 0 and nums[i] == nums[i-1]:\n",
    "            continue\n",
    "        for j in range(i+1, len(nums) - 2):\n",
    "            if j > i+1 and nums[j] == nums[j-1]:\n",
    "                continue\n",
    "\n",
    "            beg = j + 1\n",
    "            end = len(nums) - 1\n",
    "\n",
    "            while beg < end:\n",
    "                tmp_sum = sum([nums[i], nums[j], nums[beg], nums[end]])\n",
    "\n",
    "                if tmp_sum == target:\n",
    "                    ans.append([nums[i], nums[j], nums[beg], nums[end]])\n",
    "\n",
    "                    while beg < end and nums[beg] == nums[beg+1]:\n",
    "                        beg += 1\n",
    "\n",
    "                    while beg < end and nums[end] == nums[end-1]:\n",
    "                        end -= 1\n",
    "\n",
    "                    beg += 1\n",
    "                    end -= 1\n",
    "                    \n",
    "                elif tmp_sum > target:\n",
    "                    end -= 1\n",
    "                elif tmp_sum < target:\n",
    "                    beg += 1\n",
    "\n",
    "    return ans"
   ]
  },
  {
   "cell_type": "code",
   "execution_count": 9,
   "id": "ee47b6d0-d0cc-4cef-9bf4-a99c97fd5275",
   "metadata": {},
   "outputs": [
    {
     "data": {
      "text/plain": [
       "[[0, 0, -2, 2]]"
      ]
     },
     "execution_count": 9,
     "metadata": {},
     "output_type": "execute_result"
    }
   ],
   "source": [
    "fourSum(nums=[1,0,-1,0,-2,2], target=0)"
   ]
  },
  {
   "cell_type": "code",
   "execution_count": 10,
   "id": "b4f601fc-1ff7-4045-944c-ed0a6c3a94e9",
   "metadata": {},
   "outputs": [
    {
     "data": {
      "text/plain": [
       "[[2, 2, 2, 2]]"
      ]
     },
     "execution_count": 10,
     "metadata": {},
     "output_type": "execute_result"
    }
   ],
   "source": [
    "fourSum(nums=[2,2,2,2,2], target=8)"
   ]
  }
 ],
 "metadata": {
  "kernelspec": {
   "display_name": "leetcode",
   "language": "python",
   "name": "leetcode"
  },
  "language_info": {
   "codemirror_mode": {
    "name": "ipython",
    "version": 3
   },
   "file_extension": ".py",
   "mimetype": "text/x-python",
   "name": "python",
   "nbconvert_exporter": "python",
   "pygments_lexer": "ipython3",
   "version": "3.9.18"
  }
 },
 "nbformat": 4,
 "nbformat_minor": 5
}
