{
 "cells": [
  {
   "cell_type": "markdown",
   "id": "0eab9495-c34d-4d79-9bc5-fd573ffbffce",
   "metadata": {},
   "source": [
    "## 23. Merge k Sorted Lists"
   ]
  },
  {
   "cell_type": "code",
   "execution_count": 84,
   "id": "e58ce513-d443-4b7f-b934-f09893a95349",
   "metadata": {},
   "outputs": [],
   "source": [
    "class ListNode:\n",
    "    def __init__(self, val=0, next=None):\n",
    "        self.val = val\n",
    "        self.next = next"
   ]
  },
  {
   "cell_type": "code",
   "execution_count": 85,
   "id": "d383257f-97ea-43c9-ae44-1726f9cc740c",
   "metadata": {},
   "outputs": [],
   "source": [
    "def linked_from_list(l_list):\n",
    "\n",
    "    create_head = False\n",
    "    head = None\n",
    "    tail = head\n",
    "\n",
    "    for l in l_list:\n",
    "\n",
    "        if not create_head:\n",
    "            create_head = True\n",
    "            head = ListNode(l)\n",
    "            tail = head\n",
    "        else:\n",
    "            tail.next = ListNode(l)\n",
    "            tail = tail.next\n",
    "\n",
    "    return head\n",
    "\n",
    "def get_len(l):\n",
    "    res = 0\n",
    "    \n",
    "    while(l):\n",
    "        l = l.next\n",
    "        res += 1\n",
    "\n",
    "    return res\n",
    "\n",
    "def print_l_list(l_list):\n",
    "    print(l_list.val if l_list else 'null', end=' ')\n",
    "\n",
    "    iterator = l_list\n",
    "    iterator = iterator.next if iterator else iterator\n",
    "\n",
    "    while iterator:\n",
    "        print(iterator.val, end=' ')\n",
    "        iterator = iterator.next"
   ]
  },
  {
   "cell_type": "code",
   "execution_count": 130,
   "id": "889d628b-109b-46b5-a84d-265c763883b3",
   "metadata": {},
   "outputs": [],
   "source": [
    "def mergeKLists(lists):\n",
    "    ListNode.__eq__ = lambda self, other: self.val == other.val\n",
    "    ListNode.__lt__ = lambda self, other: self.val < other.val\n",
    "    \n",
    "    import heapq\n",
    "        \n",
    "    q = []\n",
    "    for l in lists:\n",
    "        iter_copy = l\n",
    "        while iter_copy:\n",
    "            heapq.heappush(q, (iter_copy))\n",
    "            iter_copy = iter_copy.next\n",
    "\n",
    "    head = tail = None\n",
    "    \n",
    "    while q:\n",
    "        item = heapq.heappop(q)\n",
    "        if not head:\n",
    "            head = item\n",
    "            tail = head\n",
    "            tail.next = None\n",
    "        else:\n",
    "            tail.next = item\n",
    "            tail = tail.next\n",
    "            tail.next = None\n",
    "        if item.next:\n",
    "            heapq.heappush(q, item.next)\n",
    "\n",
    "    return head"
   ]
  },
  {
   "cell_type": "code",
   "execution_count": 131,
   "id": "9fbbb58d-55b8-45b1-9abb-c20f4344ad05",
   "metadata": {},
   "outputs": [
    {
     "name": "stdout",
     "output_type": "stream",
     "text": [
      "1 1 2 3 4 4 5 6 "
     ]
    }
   ],
   "source": [
    "ll = [linked_from_list(ll) for ll in [[1,4,5],[1,3,4],[2,6]]]\n",
    "print_l_list(mergeKLists(ll))"
   ]
  },
  {
   "cell_type": "code",
   "execution_count": 132,
   "id": "6485decc-ce5f-495d-8985-ebbc83ed638b",
   "metadata": {},
   "outputs": [
    {
     "name": "stdout",
     "output_type": "stream",
     "text": [
      "null "
     ]
    }
   ],
   "source": [
    "ll = [linked_from_list(ll) for ll in []]\n",
    "print_l_list(mergeKLists(ll))"
   ]
  },
  {
   "cell_type": "code",
   "execution_count": 133,
   "id": "e64e93cf-0c87-4042-87ee-88c4def05720",
   "metadata": {},
   "outputs": [
    {
     "name": "stdout",
     "output_type": "stream",
     "text": [
      "null "
     ]
    }
   ],
   "source": [
    "ll = [linked_from_list(ll) for ll in [[]]]\n",
    "print_l_list(mergeKLists(ll))"
   ]
  }
 ],
 "metadata": {
  "kernelspec": {
   "display_name": "leetcode",
   "language": "python",
   "name": "leetcode"
  },
  "language_info": {
   "codemirror_mode": {
    "name": "ipython",
    "version": 3
   },
   "file_extension": ".py",
   "mimetype": "text/x-python",
   "name": "python",
   "nbconvert_exporter": "python",
   "pygments_lexer": "ipython3",
   "version": "3.9.18"
  }
 },
 "nbformat": 4,
 "nbformat_minor": 5
}
