{
 "cells": [
  {
   "cell_type": "markdown",
   "id": "6783742c-7f13-46d5-bafc-767de21a103d",
   "metadata": {},
   "source": [
    "## 5. Longest Palindromic Substring"
   ]
  },
  {
   "cell_type": "code",
   "execution_count": 98,
   "id": "c2695c26-9aba-46c5-b00d-13721bebe085",
   "metadata": {},
   "outputs": [],
   "source": [
    "def longestPalindrome(s):\n",
    "    maxLen = 0\n",
    "    res = ''\n",
    "\n",
    "    for i, _ in enumerate(s):\n",
    "        l, r = i, i\n",
    "            \n",
    "        while l >= 0 and r < len(s) and s[l] == s[r]:\n",
    "            if maxLen < (r - l + 1):\n",
    "                res = s[l:r+1]\n",
    "                maxLen = (r - l + 1)\n",
    "\n",
    "                print('res:', res)\n",
    "\n",
    "            l -= 1\n",
    "            r += 1\n",
    "\n",
    "        l, r = i, i + 1\n",
    "        \n",
    "        while l >= 0 and r < len(s) and s[l] == s[r]:\n",
    "            if maxLen < (r - l + 1):\n",
    "                res = s[l:r+1]\n",
    "                maxLen = (r - l + 1)\n",
    "\n",
    "                print('res:', res)\n",
    "\n",
    "            l -= 1\n",
    "            r += 1\n",
    "    \n",
    "    return res"
   ]
  },
  {
   "cell_type": "code",
   "execution_count": 99,
   "id": "02cb3138-827a-426a-8b24-3ae7833642a1",
   "metadata": {},
   "outputs": [
    {
     "name": "stdout",
     "output_type": "stream",
     "text": [
      "res: b\n",
      "res: bab\n"
     ]
    },
    {
     "data": {
      "text/plain": [
       "'bab'"
      ]
     },
     "execution_count": 99,
     "metadata": {},
     "output_type": "execute_result"
    }
   ],
   "source": [
    "longestPalindrome(s = \"babad\")"
   ]
  },
  {
   "cell_type": "code",
   "execution_count": 100,
   "id": "90d04367-d896-47f0-a9c4-bcce35ebc751",
   "metadata": {},
   "outputs": [
    {
     "name": "stdout",
     "output_type": "stream",
     "text": [
      "res: c\n",
      "res: bb\n"
     ]
    },
    {
     "data": {
      "text/plain": [
       "'bb'"
      ]
     },
     "execution_count": 100,
     "metadata": {},
     "output_type": "execute_result"
    }
   ],
   "source": [
    "longestPalindrome(s = \"cbbd\")"
   ]
  },
  {
   "cell_type": "code",
   "execution_count": 101,
   "id": "9e066a76-c6f2-40c0-903d-090095cd8489",
   "metadata": {},
   "outputs": [
    {
     "name": "stdout",
     "output_type": "stream",
     "text": [
      "res: a\n",
      "res: aa\n",
      "res: aca\n"
     ]
    },
    {
     "data": {
      "text/plain": [
       "'aca'"
      ]
     },
     "execution_count": 101,
     "metadata": {},
     "output_type": "execute_result"
    }
   ],
   "source": [
    "longestPalindrome(s = \"aaca\")"
   ]
  },
  {
   "cell_type": "code",
   "execution_count": null,
   "id": "06d665d8-1a08-429c-9834-87da0c0f6d5f",
   "metadata": {},
   "outputs": [],
   "source": []
  }
 ],
 "metadata": {
  "kernelspec": {
   "display_name": "leetcode",
   "language": "python",
   "name": "leetcode"
  },
  "language_info": {
   "codemirror_mode": {
    "name": "ipython",
    "version": 3
   },
   "file_extension": ".py",
   "mimetype": "text/x-python",
   "name": "python",
   "nbconvert_exporter": "python",
   "pygments_lexer": "ipython3",
   "version": "3.9.18"
  }
 },
 "nbformat": 4,
 "nbformat_minor": 5
}
