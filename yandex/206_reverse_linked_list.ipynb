{
 "cells": [
  {
   "cell_type": "markdown",
   "id": "9022282e-c01d-4e5a-b0ef-06f055838747",
   "metadata": {},
   "source": [
    "## 206. Reverse Linked List"
   ]
  },
  {
   "cell_type": "code",
   "execution_count": 1,
   "id": "9f319424-f8fa-45ee-8b57-24ed9e21842f",
   "metadata": {},
   "outputs": [],
   "source": [
    "class ListNode:\n",
    "    def __init__(self, val=0, next=None):\n",
    "        self.val = val\n",
    "        self.next = next"
   ]
  },
  {
   "cell_type": "code",
   "execution_count": 21,
   "id": "655de3eb-d8d3-4459-b1e0-05796ad3919a",
   "metadata": {},
   "outputs": [],
   "source": [
    "def linked_from_list(l_list):\n",
    "\n",
    "    create_head = False\n",
    "    head = None\n",
    "    tail = head\n",
    "\n",
    "    for l in l_list:\n",
    "\n",
    "        if not create_head:\n",
    "            create_head = True\n",
    "            head = ListNode(l)\n",
    "            tail = head\n",
    "        else:\n",
    "            tail.next = ListNode(l)\n",
    "            tail = tail.next\n",
    "\n",
    "    return head\n",
    "\n",
    "def get_len(l):\n",
    "    res = 0\n",
    "    \n",
    "    while(l):\n",
    "        l = l.next\n",
    "        res += 1\n",
    "\n",
    "    return res"
   ]
  },
  {
   "cell_type": "code",
   "execution_count": 22,
   "id": "6ee88034-a569-4f01-a53e-5d6cbcee6cbf",
   "metadata": {},
   "outputs": [],
   "source": [
    "def print_l_list(l_list):\n",
    "    print(l_list.val, end=' ')\n",
    "\n",
    "    iterator = l_list\n",
    "    iterator = iterator.next\n",
    "\n",
    "    while iterator:\n",
    "        print(iterator.val, end=' ')\n",
    "        iterator = iterator.next"
   ]
  },
  {
   "cell_type": "code",
   "execution_count": 26,
   "id": "8f0f852c-a579-4d4b-bec6-9fa83c3e721b",
   "metadata": {},
   "outputs": [],
   "source": [
    "def reverseList(head):\n",
    "    if not head:\n",
    "        return head\n",
    "    \n",
    "    prev = head\n",
    "    curr = head.next\n",
    "\n",
    "    head.next = None\n",
    "    old_prev = head\n",
    "    \n",
    "    while curr:\n",
    "        \n",
    "        prev = curr\n",
    "        curr = curr.next\n",
    "\n",
    "        prev.next = old_prev\n",
    "        old_prev = prev\n",
    "\n",
    "    head = prev\n",
    "\n",
    "    return head"
   ]
  },
  {
   "cell_type": "code",
   "execution_count": 27,
   "id": "329f4324-34b7-4835-a5ed-c3c18dc70bfd",
   "metadata": {},
   "outputs": [
    {
     "name": "stdout",
     "output_type": "stream",
     "text": [
      "1 2 3 4 5 \n",
      "5 4 3 2 1 "
     ]
    }
   ],
   "source": [
    "l = linked_from_list([1, 2, 3, 4, 5])\n",
    "print_l_list(l)\n",
    "print()\n",
    "print_l_list(reverseList(l))"
   ]
  },
  {
   "cell_type": "code",
   "execution_count": null,
   "id": "08f1d96f-949f-436e-8b46-d83db1ffba93",
   "metadata": {},
   "outputs": [],
   "source": []
  }
 ],
 "metadata": {
  "kernelspec": {
   "display_name": "leetcode",
   "language": "python",
   "name": "leetcode"
  },
  "language_info": {
   "codemirror_mode": {
    "name": "ipython",
    "version": 3
   },
   "file_extension": ".py",
   "mimetype": "text/x-python",
   "name": "python",
   "nbconvert_exporter": "python",
   "pygments_lexer": "ipython3",
   "version": "3.9.18"
  }
 },
 "nbformat": 4,
 "nbformat_minor": 5
}
