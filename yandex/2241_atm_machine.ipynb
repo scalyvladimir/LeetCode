{
 "cells": [
  {
   "cell_type": "markdown",
   "id": "32c62082-5989-4aa7-92ce-1a4ef7a4123b",
   "metadata": {},
   "source": [
    "## 2241. Design an ATM Machine"
   ]
  },
  {
   "cell_type": "code",
   "execution_count": 45,
   "id": "65a159e5-6fb3-4eca-8a7f-3e66fdbeaf09",
   "metadata": {},
   "outputs": [],
   "source": [
    "from collections import defaultdict\n",
    "\n",
    "class ATM:\n",
    "\n",
    "    def __init__(self):\n",
    "        self.bank = defaultdict(int)\n",
    "        self.sorted_bn = [20, 50, 100, 200, 500]\n",
    "        \n",
    "    def deposit(self, banknotesCount):\n",
    "        for i, bn in enumerate(self.sorted_bn):\n",
    "            self.bank[bn] += banknotesCount[i]\n",
    "        \n",
    "    def withdraw(self, amount):\n",
    "        res = [0] * len(self.sorted_bn)\n",
    "\n",
    "        for i, bn in enumerate(self.sorted_bn[::-1]):\n",
    "            bn_cnt = 0\n",
    "\n",
    "            quantity = min(amount // bn, self.bank[bn])\n",
    "            amount -= bn * quantity\n",
    "\n",
    "            res[len(res)-1 - i] = quantity\n",
    "        \n",
    "        if amount != 0:\n",
    "            return [-1]\n",
    "        else:\n",
    "            self.deposit(list(map(lambda x: -x, res)))\n",
    "            \n",
    "            return res"
   ]
  },
  {
   "cell_type": "code",
   "execution_count": 46,
   "id": "2e3588a1-cf60-44e2-8ff9-ad0db3654fa4",
   "metadata": {},
   "outputs": [
    {
     "name": "stdout",
     "output_type": "stream",
     "text": [
      "defaultdict(<class 'int'>, {})\n",
      "defaultdict(<class 'int'>, {20: 0, 50: 0, 100: 1, 200: 2, 500: 1})\n",
      "res= [0, 0, 1, 0, 1]\n",
      "defaultdict(<class 'int'>, {20: 0, 50: 0, 100: 0, 200: 2, 500: 0})\n",
      "defaultdict(<class 'int'>, {20: 0, 50: 1, 100: 0, 200: 3, 500: 1})\n",
      "res= [-1]\n",
      "res= [0, 1, 0, 0, 1]\n",
      "defaultdict(<class 'int'>, {20: 0, 50: 0, 100: 0, 200: 3, 500: 0})\n"
     ]
    }
   ],
   "source": [
    "obj = ATM()\n",
    "print(obj.bank)\n",
    "obj.deposit([0,0,1,2,1])\n",
    "print(obj.bank)\n",
    "res = obj.withdraw(600)\n",
    "print('res=', res)\n",
    "print(obj.bank)\n",
    "obj.deposit([0,1,0,1,1])\n",
    "print(obj.bank)\n",
    "res = obj.withdraw(600)\n",
    "print('res=', res)\n",
    "res = obj.withdraw(550)\n",
    "print('res=', res)\n",
    "print(obj.bank)"
   ]
  }
 ],
 "metadata": {
  "kernelspec": {
   "display_name": "leetcode",
   "language": "python",
   "name": "leetcode"
  },
  "language_info": {
   "codemirror_mode": {
    "name": "ipython",
    "version": 3
   },
   "file_extension": ".py",
   "mimetype": "text/x-python",
   "name": "python",
   "nbconvert_exporter": "python",
   "pygments_lexer": "ipython3",
   "version": "3.9.18"
  }
 },
 "nbformat": 4,
 "nbformat_minor": 5
}
