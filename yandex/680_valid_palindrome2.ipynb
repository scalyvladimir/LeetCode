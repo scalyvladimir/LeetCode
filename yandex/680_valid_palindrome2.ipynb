{
 "cells": [
  {
   "cell_type": "markdown",
   "id": "f318dada-8549-4bee-af74-89923cb461bb",
   "metadata": {},
   "source": [
    "## 680. Valid Palindrome II"
   ]
  },
  {
   "cell_type": "code",
   "execution_count": 119,
   "id": "d39e7fb7-464d-4b3a-bb26-3ab9ad710424",
   "metadata": {},
   "outputs": [],
   "source": [
    "def isPalindrome(l, r, s):\n",
    "   \n",
    "    while l < r:\n",
    "        if s[l] != s[r]:\n",
    "            return False\n",
    "        else:\n",
    "            l += 1\n",
    "            r -= 1\n",
    "\n",
    "    return True\n",
    "    \n",
    "\n",
    "def validPalindrome(s):\n",
    "    l = 0\n",
    "    r = len(s) - 1\n",
    "\n",
    "    while l < r:\n",
    "        if s[l] == s[r]:\n",
    "            l += 1\n",
    "            r -= 1\n",
    "        else:\n",
    "            return isPalindrome(l, r-1, s) or isPalindrome(l+1, r, s)\n",
    "\n",
    "    return True"
   ]
  },
  {
   "cell_type": "code",
   "execution_count": 120,
   "id": "9100bfd2-5e66-4104-8b65-a5b173f4879e",
   "metadata": {},
   "outputs": [
    {
     "data": {
      "text/plain": [
       "True"
      ]
     },
     "execution_count": 120,
     "metadata": {},
     "output_type": "execute_result"
    }
   ],
   "source": [
    "validPalindrome(s=\"aba\")"
   ]
  },
  {
   "cell_type": "code",
   "execution_count": 121,
   "id": "3c154a43-f31c-4085-8f29-a5b797ef6862",
   "metadata": {},
   "outputs": [
    {
     "data": {
      "text/plain": [
       "True"
      ]
     },
     "execution_count": 121,
     "metadata": {},
     "output_type": "execute_result"
    }
   ],
   "source": [
    "validPalindrome(s=\"abca\")"
   ]
  },
  {
   "cell_type": "code",
   "execution_count": 122,
   "id": "9c81e167-8a49-4924-8a2f-b0198b3a491c",
   "metadata": {},
   "outputs": [
    {
     "data": {
      "text/plain": [
       "False"
      ]
     },
     "execution_count": 122,
     "metadata": {},
     "output_type": "execute_result"
    }
   ],
   "source": [
    "validPalindrome(s=\"abc\")"
   ]
  },
  {
   "cell_type": "code",
   "execution_count": 123,
   "id": "ab633a5d-01db-4059-98e6-e7ca9b53f843",
   "metadata": {},
   "outputs": [
    {
     "data": {
      "text/plain": [
       "False"
      ]
     },
     "execution_count": 123,
     "metadata": {},
     "output_type": "execute_result"
    }
   ],
   "source": [
    "validPalindrome(s=\"eeccccbebaeeabebccceea\")"
   ]
  },
  {
   "cell_type": "code",
   "execution_count": 124,
   "id": "c7997677-fee0-4391-b397-334b6d7a8ef2",
   "metadata": {},
   "outputs": [
    {
     "data": {
      "text/plain": [
       "False"
      ]
     },
     "execution_count": 124,
     "metadata": {},
     "output_type": "execute_result"
    }
   ],
   "source": [
    "validPalindrome(s=\"eeccccbebaeeabebccceea\")"
   ]
  },
  {
   "cell_type": "code",
   "execution_count": null,
   "id": "03f64e9b-93ed-4380-9559-540ce85aca96",
   "metadata": {},
   "outputs": [],
   "source": []
  }
 ],
 "metadata": {
  "kernelspec": {
   "display_name": "leetcode",
   "language": "python",
   "name": "leetcode"
  },
  "language_info": {
   "codemirror_mode": {
    "name": "ipython",
    "version": 3
   },
   "file_extension": ".py",
   "mimetype": "text/x-python",
   "name": "python",
   "nbconvert_exporter": "python",
   "pygments_lexer": "ipython3",
   "version": "3.9.18"
  }
 },
 "nbformat": 4,
 "nbformat_minor": 5
}
