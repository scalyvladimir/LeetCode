{
 "cells": [
  {
   "cell_type": "markdown",
   "id": "09404509-5181-4c6b-a26d-27f789a6e362",
   "metadata": {},
   "source": [
    "## 3. Longest Substring Without Repeating Characters"
   ]
  },
  {
   "cell_type": "code",
   "execution_count": 56,
   "id": "d37abf26-f5bc-4517-a5b8-29807dffcada",
   "metadata": {},
   "outputs": [],
   "source": [
    "def lengthOfLongestSubstring(s):\n",
    "    char2id = {}\n",
    "\n",
    "    max_len = 0\n",
    "    start_idx = 0\n",
    "    \n",
    "    for i, char in enumerate(s):\n",
    "        if char not in char2id:\n",
    "            char2id[char] = i\n",
    "        else:\n",
    "            start_idx = max(start_idx, char2id[char] + 1)\n",
    "            char2id[char] = i\n",
    "\n",
    "        max_len = max((i - start_idx + 1), max_len)\n",
    "\n",
    "    return max_len"
   ]
  },
  {
   "cell_type": "code",
   "execution_count": 57,
   "id": "c1a8e017-8edb-45ed-89f2-640defd4f30d",
   "metadata": {},
   "outputs": [
    {
     "name": "stdout",
     "output_type": "stream",
     "text": [
      "0 {'a': 0} start_idx: 0\n",
      "1 {'a': 0, 'b': 1} start_idx: 0\n",
      "2 {'a': 0, 'b': 1, 'c': 2} start_idx: 0\n",
      "3 {'a': 3, 'b': 1, 'c': 2} start_idx: 1\n",
      "4 {'a': 3, 'b': 4, 'c': 2} start_idx: 2\n",
      "5 {'a': 3, 'b': 4, 'c': 5} start_idx: 3\n",
      "6 {'a': 3, 'b': 6, 'c': 5} start_idx: 5\n",
      "7 {'a': 3, 'b': 7, 'c': 5} start_idx: 7\n"
     ]
    },
    {
     "data": {
      "text/plain": [
       "3"
      ]
     },
     "execution_count": 57,
     "metadata": {},
     "output_type": "execute_result"
    }
   ],
   "source": [
    "lengthOfLongestSubstring(s=\"abcabcbb\")"
   ]
  },
  {
   "cell_type": "code",
   "execution_count": 58,
   "id": "8dbe2dc1-05bc-4beb-b8a0-85657799019a",
   "metadata": {},
   "outputs": [
    {
     "name": "stdout",
     "output_type": "stream",
     "text": [
      "0 {'b': 0} start_idx: 0\n",
      "1 {'b': 1} start_idx: 1\n",
      "2 {'b': 2} start_idx: 2\n",
      "3 {'b': 3} start_idx: 3\n",
      "4 {'b': 4} start_idx: 4\n"
     ]
    },
    {
     "data": {
      "text/plain": [
       "1"
      ]
     },
     "execution_count": 58,
     "metadata": {},
     "output_type": "execute_result"
    }
   ],
   "source": [
    "lengthOfLongestSubstring(s=\"bbbbb\")"
   ]
  },
  {
   "cell_type": "code",
   "execution_count": 59,
   "id": "302dccf7-fd8f-4c63-9593-48858e9c52cd",
   "metadata": {},
   "outputs": [
    {
     "name": "stdout",
     "output_type": "stream",
     "text": [
      "0 {'p': 0} start_idx: 0\n",
      "1 {'p': 0, 'w': 1} start_idx: 0\n",
      "2 {'p': 0, 'w': 2} start_idx: 2\n",
      "3 {'p': 0, 'w': 2, 'k': 3} start_idx: 2\n",
      "4 {'p': 0, 'w': 2, 'k': 3, 'e': 4} start_idx: 2\n",
      "5 {'p': 0, 'w': 5, 'k': 3, 'e': 4} start_idx: 3\n"
     ]
    },
    {
     "data": {
      "text/plain": [
       "3"
      ]
     },
     "execution_count": 59,
     "metadata": {},
     "output_type": "execute_result"
    }
   ],
   "source": [
    "lengthOfLongestSubstring(s=\"pwwkew\")"
   ]
  },
  {
   "cell_type": "code",
   "execution_count": 60,
   "id": "65283546-9d5e-42a9-8b5e-e69603eb5865",
   "metadata": {},
   "outputs": [
    {
     "name": "stdout",
     "output_type": "stream",
     "text": [
      "0 {'a': 0} start_idx: 0\n",
      "1 {'a': 0, 'b': 1} start_idx: 0\n",
      "2 {'a': 0, 'b': 1, 'c': 2} start_idx: 0\n",
      "3 {'a': 0, 'b': 1, 'c': 3} start_idx: 3\n",
      "4 {'a': 0, 'b': 1, 'c': 3, 'd': 4} start_idx: 3\n"
     ]
    },
    {
     "data": {
      "text/plain": [
       "3"
      ]
     },
     "execution_count": 60,
     "metadata": {},
     "output_type": "execute_result"
    }
   ],
   "source": [
    "lengthOfLongestSubstring(s=\"abccd\")"
   ]
  },
  {
   "cell_type": "code",
   "execution_count": 61,
   "id": "4d998b69-7f47-4d93-b6d5-798d784b6497",
   "metadata": {},
   "outputs": [
    {
     "name": "stdout",
     "output_type": "stream",
     "text": [
      "0 {'a': 0} start_idx: 0\n",
      "1 {'a': 0, 'b': 1} start_idx: 0\n",
      "2 {'a': 0, 'b': 2} start_idx: 2\n",
      "3 {'a': 3, 'b': 2} start_idx: 2\n"
     ]
    },
    {
     "data": {
      "text/plain": [
       "2"
      ]
     },
     "execution_count": 61,
     "metadata": {},
     "output_type": "execute_result"
    }
   ],
   "source": [
    "lengthOfLongestSubstring(s=\"abba\")"
   ]
  },
  {
   "cell_type": "code",
   "execution_count": null,
   "id": "88fbd52c-57a0-4426-b901-a7c230e9cf1e",
   "metadata": {},
   "outputs": [],
   "source": []
  },
  {
   "cell_type": "code",
   "execution_count": null,
   "id": "28a59275-cbe6-4d1d-aea7-cbfbc59e7665",
   "metadata": {},
   "outputs": [],
   "source": []
  }
 ],
 "metadata": {
  "kernelspec": {
   "display_name": "leetcode",
   "language": "python",
   "name": "leetcode"
  },
  "language_info": {
   "codemirror_mode": {
    "name": "ipython",
    "version": 3
   },
   "file_extension": ".py",
   "mimetype": "text/x-python",
   "name": "python",
   "nbconvert_exporter": "python",
   "pygments_lexer": "ipython3",
   "version": "3.9.18"
  }
 },
 "nbformat": 4,
 "nbformat_minor": 5
}
