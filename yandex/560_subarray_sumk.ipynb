{
 "cells": [
  {
   "cell_type": "markdown",
   "id": "a5bee694-82e6-4932-b421-838247378a49",
   "metadata": {},
   "source": [
    "## 560. Subarray Sum Equals K"
   ]
  },
  {
   "cell_type": "code",
   "execution_count": 57,
   "id": "140701c9-797e-4e3d-9fc4-5a332e415f3e",
   "metadata": {},
   "outputs": [],
   "source": [
    "from collections import defaultdict\n",
    "\n",
    "def subarraySum(nums, k):\n",
    "    prefix = defaultdict(int, {0:1})\n",
    "    sum = 0\n",
    "    ans = 0\n",
    "\n",
    "    for n in nums:\n",
    "        sum += n\n",
    "        if sum - k in prefix:\n",
    "            ans += prefix[sum - k]\n",
    "        \n",
    "        prefix[sum] += 1\n",
    "\n",
    "    return ans"
   ]
  },
  {
   "cell_type": "code",
   "execution_count": 58,
   "id": "de00bc35-9398-4730-870c-b28c90a4c3db",
   "metadata": {},
   "outputs": [
    {
     "data": {
      "text/plain": [
       "2"
      ]
     },
     "execution_count": 58,
     "metadata": {},
     "output_type": "execute_result"
    }
   ],
   "source": [
    "subarraySum(nums = [1,1,1], k = 2)"
   ]
  },
  {
   "cell_type": "code",
   "execution_count": 59,
   "id": "19f9c43b-e0c6-414c-b69a-57d1722b992f",
   "metadata": {},
   "outputs": [
    {
     "data": {
      "text/plain": [
       "2"
      ]
     },
     "execution_count": 59,
     "metadata": {},
     "output_type": "execute_result"
    }
   ],
   "source": [
    "subarraySum(nums = [1,2,3], k = 3)"
   ]
  },
  {
   "cell_type": "code",
   "execution_count": 60,
   "id": "252e6450-3a59-4dec-9afb-a58c52179fd5",
   "metadata": {},
   "outputs": [
    {
     "data": {
      "text/plain": [
       "6"
      ]
     },
     "execution_count": 60,
     "metadata": {},
     "output_type": "execute_result"
    }
   ],
   "source": [
    "subarraySum(nums = [0,0,0], k = 0)"
   ]
  }
 ],
 "metadata": {
  "kernelspec": {
   "display_name": "leetcode",
   "language": "python",
   "name": "leetcode"
  },
  "language_info": {
   "codemirror_mode": {
    "name": "ipython",
    "version": 3
   },
   "file_extension": ".py",
   "mimetype": "text/x-python",
   "name": "python",
   "nbconvert_exporter": "python",
   "pygments_lexer": "ipython3",
   "version": "3.9.18"
  }
 },
 "nbformat": 4,
 "nbformat_minor": 5
}
