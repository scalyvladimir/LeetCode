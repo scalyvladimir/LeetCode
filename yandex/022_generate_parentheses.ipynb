{
 "cells": [
  {
   "cell_type": "markdown",
   "id": "327b7dd2-b24d-42f4-bf24-cf770f5428d6",
   "metadata": {},
   "source": [
    "## 22. Generate Parentheses"
   ]
  },
  {
   "cell_type": "code",
   "execution_count": 248,
   "id": "07e6cb78-53c0-48af-9f5d-ec1ec19fa076",
   "metadata": {},
   "outputs": [],
   "source": [
    "def counter(f):\n",
    "    def wrapped(*arg, **kwargs):\n",
    "        wrapped.calls += 1\n",
    "        return f(*arg, **kwargs)\n",
    "    wrapped.calls = -1\n",
    "    return wrapped\n",
    "\n",
    "@counter\n",
    "def helper(result, cur_str, open_cnt, close_cnt, length):\n",
    "    if len(cur_str) == 2 * length:\n",
    "        result.append(cur_str)\n",
    "        return\n",
    "    if open_cnt > close_cnt:\n",
    "        helper(result, cur_str + ')', open_cnt, close_cnt+1, length)\n",
    "    if open_cnt < length:\n",
    "        helper(result, cur_str + '(', open_cnt+1, close_cnt, length)"
   ]
  },
  {
   "cell_type": "code",
   "execution_count": 249,
   "id": "0b642b55-cc2a-42fd-b02e-6ace841f69c1",
   "metadata": {},
   "outputs": [],
   "source": [
    "def generateParenthesis(n):\n",
    "    helper.calls = -1\n",
    "    result = []\n",
    "    helper(result, '(', 1, 0, length=n)\n",
    "    return helper.calls, result"
   ]
  },
  {
   "cell_type": "code",
   "execution_count": 250,
   "id": "662fb4d1-72a3-4b43-b009-0b2f69b655c2",
   "metadata": {},
   "outputs": [
    {
     "data": {
      "text/plain": [
       "(20, ['()()()', '()(())', '(())()', '(()())', '((()))'])"
      ]
     },
     "execution_count": 250,
     "metadata": {},
     "output_type": "execute_result"
    }
   ],
   "source": [
    "generateParenthesis(n=3)"
   ]
  },
  {
   "cell_type": "code",
   "execution_count": 251,
   "id": "a28defe4-8a98-45f6-b3fa-a6c1ec2a77b7",
   "metadata": {},
   "outputs": [
    {
     "data": {
      "text/plain": [
       "(1, ['()'])"
      ]
     },
     "execution_count": 251,
     "metadata": {},
     "output_type": "execute_result"
    }
   ],
   "source": [
    "generateParenthesis(n=1)"
   ]
  }
 ],
 "metadata": {
  "kernelspec": {
   "display_name": "leetcode",
   "language": "python",
   "name": "leetcode"
  },
  "language_info": {
   "codemirror_mode": {
    "name": "ipython",
    "version": 3
   },
   "file_extension": ".py",
   "mimetype": "text/x-python",
   "name": "python",
   "nbconvert_exporter": "python",
   "pygments_lexer": "ipython3",
   "version": "3.9.18"
  }
 },
 "nbformat": 4,
 "nbformat_minor": 5
}
