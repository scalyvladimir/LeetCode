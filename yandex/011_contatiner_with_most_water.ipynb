{
 "cells": [
  {
   "cell_type": "markdown",
   "id": "fbfebb9e-aec2-41e9-aefe-da813ca69979",
   "metadata": {},
   "source": [
    "## 11. Container With Most Water"
   ]
  },
  {
   "cell_type": "code",
   "execution_count": 5,
   "id": "9c74ea18-407a-4a16-a821-901147aa04dd",
   "metadata": {},
   "outputs": [],
   "source": [
    "def maxArea(height):\n",
    "    def getArea(l, r, height):\n",
    "        return min(height[l], height[r]) * (r - l)\n",
    "    \n",
    "    left, right = 0, len(height) - 1\n",
    "    \n",
    "    max_area = getArea(left, right, height)\n",
    "\n",
    "    while left < right:\n",
    "        if height[left] < height[right]:\n",
    "            left += 1\n",
    "            if height[left-1] < height[left] and left < right:\n",
    "                max_area = max(getArea(left, right, height), max_area)                \n",
    "        else:\n",
    "            right -= 1\n",
    "            if height[right+1] < height[right] and left < right:\n",
    "                max_area = max(getArea(left, right, height), max_area)                \n",
    "\n",
    "    \n",
    "    return max_area    "
   ]
  },
  {
   "cell_type": "code",
   "execution_count": 6,
   "id": "75c67d6f-a297-4bf0-9946-4f6f03a40bd0",
   "metadata": {},
   "outputs": [],
   "source": [
    "assert maxArea(height=[1,8,6,2,5,4,8,3,7]) == 49"
   ]
  },
  {
   "cell_type": "code",
   "execution_count": 7,
   "id": "7dd7dd30-15ed-4fe6-b586-4d40ea15af24",
   "metadata": {},
   "outputs": [],
   "source": [
    "assert maxArea(height=[1,1]) == 1"
   ]
  },
  {
   "cell_type": "code",
   "execution_count": null,
   "id": "a2db40f9-dd8a-4569-b625-f8b0dce974db",
   "metadata": {},
   "outputs": [],
   "source": []
  }
 ],
 "metadata": {
  "kernelspec": {
   "display_name": "leetcode",
   "language": "python",
   "name": "leetcode"
  },
  "language_info": {
   "codemirror_mode": {
    "name": "ipython",
    "version": 3
   },
   "file_extension": ".py",
   "mimetype": "text/x-python",
   "name": "python",
   "nbconvert_exporter": "python",
   "pygments_lexer": "ipython3",
   "version": "3.9.18"
  }
 },
 "nbformat": 4,
 "nbformat_minor": 5
}
