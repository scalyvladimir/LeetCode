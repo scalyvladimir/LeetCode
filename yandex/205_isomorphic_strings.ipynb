{
 "cells": [
  {
   "cell_type": "markdown",
   "id": "acf6c756-9ae7-4e67-a505-55dc935de612",
   "metadata": {},
   "source": [
    "## 205. Isomorphic Strings"
   ]
  },
  {
   "cell_type": "code",
   "execution_count": 43,
   "id": "659fdeb6-79d8-40df-a113-3369512a4922",
   "metadata": {},
   "outputs": [],
   "source": [
    "from collections import defaultdict\n",
    "\n",
    "def isIsomorphic(s, t):   \n",
    "    if not s or not t or len(s) != len(t):\n",
    "        return False\n",
    "    \n",
    "    s2t = {}\n",
    "    t2s = {}\n",
    "\n",
    "    for val1, val2 in zip(s, t):\n",
    "        \n",
    "        if (val1 in s2t and s2t[val1] != val2) or (val2 in t2s and t2s[val2] != val1):\n",
    "            return False\n",
    "        \n",
    "        if val1 not in s2t:\n",
    "            s2t[val1] = val2\n",
    "        if val2 not in t2s:\n",
    "            t2s[val2] = val1\n",
    "\n",
    "    return True"
   ]
  },
  {
   "cell_type": "code",
   "execution_count": 44,
   "id": "48f7fde8-2db1-44ab-afc3-f2e2b1a74eda",
   "metadata": {},
   "outputs": [
    {
     "data": {
      "text/plain": [
       "True"
      ]
     },
     "execution_count": 44,
     "metadata": {},
     "output_type": "execute_result"
    }
   ],
   "source": [
    "isIsomorphic(s = \"egg\", t = \"add\")"
   ]
  },
  {
   "cell_type": "code",
   "execution_count": 45,
   "id": "a62a541b-a35d-4202-954c-28b23cbd9a98",
   "metadata": {},
   "outputs": [
    {
     "data": {
      "text/plain": [
       "False"
      ]
     },
     "execution_count": 45,
     "metadata": {},
     "output_type": "execute_result"
    }
   ],
   "source": [
    "isIsomorphic(s = \"foo\", t = \"bar\")"
   ]
  },
  {
   "cell_type": "code",
   "execution_count": 46,
   "id": "f00a8e09-ff32-40a4-999f-a9bf902aad80",
   "metadata": {},
   "outputs": [
    {
     "data": {
      "text/plain": [
       "True"
      ]
     },
     "execution_count": 46,
     "metadata": {},
     "output_type": "execute_result"
    }
   ],
   "source": [
    "isIsomorphic(s = \"paper\", t = \"title\")"
   ]
  },
  {
   "cell_type": "code",
   "execution_count": null,
   "id": "e79a3aa2-fa7f-49f8-b156-c74b88f26e53",
   "metadata": {},
   "outputs": [],
   "source": []
  }
 ],
 "metadata": {
  "kernelspec": {
   "display_name": "leetcode",
   "language": "python",
   "name": "leetcode"
  },
  "language_info": {
   "codemirror_mode": {
    "name": "ipython",
    "version": 3
   },
   "file_extension": ".py",
   "mimetype": "text/x-python",
   "name": "python",
   "nbconvert_exporter": "python",
   "pygments_lexer": "ipython3",
   "version": "3.9.18"
  }
 },
 "nbformat": 4,
 "nbformat_minor": 5
}
