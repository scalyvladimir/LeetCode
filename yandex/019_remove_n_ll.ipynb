{
 "cells": [
  {
   "cell_type": "markdown",
   "id": "eae58554-f262-48b6-a3b3-c1f5a5b4cf72",
   "metadata": {},
   "source": [
    "## 19. Remove Nth Node From End of List"
   ]
  },
  {
   "cell_type": "code",
   "execution_count": 1,
   "id": "d3050f62-fcb5-4a79-afc9-ae3fcefd5c3e",
   "metadata": {},
   "outputs": [],
   "source": [
    "class ListNode:\n",
    "    def __init__(self, val=0, next=None):\n",
    "        self.val = val\n",
    "        self.next = next"
   ]
  },
  {
   "cell_type": "code",
   "execution_count": 89,
   "id": "79be15a1-33d6-4fd0-9a6b-981f41be465e",
   "metadata": {},
   "outputs": [],
   "source": [
    "def linked_from_list(l_list):\n",
    "\n",
    "    create_head = False\n",
    "    head = None\n",
    "    tail = head\n",
    "\n",
    "    for l in l_list:\n",
    "\n",
    "        if not create_head:\n",
    "            create_head = True\n",
    "            head = ListNode(l)\n",
    "            tail = head\n",
    "        else:\n",
    "            tail.next = ListNode(l)\n",
    "            tail = tail.next\n",
    "\n",
    "    return head\n",
    "\n",
    "def get_len(l):\n",
    "    res = 0\n",
    "    \n",
    "    while(l):\n",
    "        l = l.next\n",
    "        res += 1\n",
    "\n",
    "    return res\n",
    "\n",
    "def print_l_list(l_list):\n",
    "    print(l_list.val if l_list else 'null', end=' ')\n",
    "\n",
    "    iterator = l_list\n",
    "    iterator = iterator.next if iterator else iterator\n",
    "\n",
    "    while iterator:\n",
    "        print(iterator.val, end=' ')\n",
    "        iterator = iterator.next"
   ]
  },
  {
   "cell_type": "code",
   "execution_count": 90,
   "id": "2b5c1555-70d2-4924-9a34-5592cb0611aa",
   "metadata": {},
   "outputs": [],
   "source": [
    "def removeNthFromEnd(head, n):\n",
    "    if head is None:\n",
    "        return head\n",
    "    list_len = get_len(head)\n",
    "    \n",
    "    if list_len == 1:\n",
    "        head = None\n",
    "        return head\n",
    "    elif list_len == n:\n",
    "        head = head.next\n",
    "        return head\n",
    "    \n",
    "    node_id = list_len - n\n",
    "    prev = None\n",
    "    curr = head\n",
    "    i = 0\n",
    "    \n",
    "    while i < node_id:\n",
    "        prev = curr\n",
    "        curr = curr.next\n",
    "        i += 1\n",
    "    if not curr.next:\n",
    "        prev.next = None\n",
    "    else:\n",
    "        prev.next = curr.next\n",
    "        curr.next = None\n",
    "\n",
    "    return head"
   ]
  },
  {
   "cell_type": "code",
   "execution_count": 91,
   "id": "195d7846-88dc-4691-95c1-3c37d217f5bf",
   "metadata": {},
   "outputs": [
    {
     "name": "stdout",
     "output_type": "stream",
     "text": [
      "1 2 3 5 "
     ]
    }
   ],
   "source": [
    "l = removeNthFromEnd(head=linked_from_list([1, 2, 3, 4, 5]), n=2)\n",
    "print_l_list(l)"
   ]
  },
  {
   "cell_type": "code",
   "execution_count": 92,
   "id": "351d2b4f-3d4f-4c62-a109-2d72a092665b",
   "metadata": {},
   "outputs": [
    {
     "name": "stdout",
     "output_type": "stream",
     "text": [
      "null "
     ]
    }
   ],
   "source": [
    "l = removeNthFromEnd(head=linked_from_list([1]), n=1)\n",
    "print_l_list(l)"
   ]
  },
  {
   "cell_type": "code",
   "execution_count": 93,
   "id": "206da655-785a-461e-9481-b2edc1778f85",
   "metadata": {},
   "outputs": [
    {
     "name": "stdout",
     "output_type": "stream",
     "text": [
      "1 "
     ]
    }
   ],
   "source": [
    "l = removeNthFromEnd(head=linked_from_list([1, 2]), n=1)\n",
    "print_l_list(l)"
   ]
  },
  {
   "cell_type": "code",
   "execution_count": 94,
   "id": "b7dadf9c-9daa-4ec7-952a-25541bcd000e",
   "metadata": {},
   "outputs": [
    {
     "name": "stdout",
     "output_type": "stream",
     "text": [
      "2 "
     ]
    }
   ],
   "source": [
    "l = removeNthFromEnd(head=linked_from_list([1, 2]), n=2)\n",
    "print_l_list(l)"
   ]
  },
  {
   "cell_type": "code",
   "execution_count": null,
   "id": "dd9fd1a2-06a5-4ecb-96c5-cdb0a7bcda8f",
   "metadata": {},
   "outputs": [],
   "source": []
  }
 ],
 "metadata": {
  "kernelspec": {
   "display_name": "leetcode",
   "language": "python",
   "name": "leetcode"
  },
  "language_info": {
   "codemirror_mode": {
    "name": "ipython",
    "version": 3
   },
   "file_extension": ".py",
   "mimetype": "text/x-python",
   "name": "python",
   "nbconvert_exporter": "python",
   "pygments_lexer": "ipython3",
   "version": "3.9.18"
  }
 },
 "nbformat": 4,
 "nbformat_minor": 5
}
