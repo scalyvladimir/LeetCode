{
 "cells": [
  {
   "cell_type": "markdown",
   "id": "ca9e84c6-c102-45c1-9813-45f587acb722",
   "metadata": {},
   "source": [
    "## 141. Linked List Cycle"
   ]
  },
  {
   "cell_type": "code",
   "execution_count": 1,
   "id": "ae8395dc-9460-4f59-b95e-dd6c0454176c",
   "metadata": {},
   "outputs": [],
   "source": [
    "class ListNode:\n",
    "    def __init__(self, val=0, next=None):\n",
    "        self.val = val\n",
    "        self.next = next"
   ]
  },
  {
   "cell_type": "code",
   "execution_count": 2,
   "id": "fc0da708-c9e3-4d10-99d3-197751a63677",
   "metadata": {},
   "outputs": [],
   "source": [
    "def linked_from_list(l_list):\n",
    "\n",
    "    create_head = False\n",
    "    head = None\n",
    "    tail = head\n",
    "\n",
    "    for l in l_list:\n",
    "\n",
    "        if not create_head:\n",
    "            create_head = True\n",
    "            head = ListNode(l)\n",
    "            tail = head\n",
    "        else:\n",
    "            tail.next = ListNode(l)\n",
    "            tail = tail.next\n",
    "\n",
    "    return head\n",
    "\n",
    "def get_len(l):\n",
    "    res = 0\n",
    "    \n",
    "    while(l):\n",
    "        l = l.next\n",
    "        res += 1\n",
    "\n",
    "    return res"
   ]
  },
  {
   "cell_type": "code",
   "execution_count": 3,
   "id": "20c3c4e6-ca98-47eb-9da9-6ae7d89e23fa",
   "metadata": {},
   "outputs": [],
   "source": [
    "def print_l_list(l_list):\n",
    "    print(l_list.val, end=' ')\n",
    "\n",
    "    iterator = l_list\n",
    "    iterator = iterator.next\n",
    "\n",
    "    while iterator:\n",
    "        print(iterator.val, end=' ')\n",
    "        iterator = iterator.next"
   ]
  },
  {
   "cell_type": "code",
   "execution_count": 41,
   "id": "406ad860-3ea9-498d-9b68-ff4d3a69d0c5",
   "metadata": {},
   "outputs": [],
   "source": [
    "def hasCycle(head):\n",
    "    if not head:\n",
    "        return False\n",
    "    \n",
    "    slow = head\n",
    "    fast = slow.next\n",
    "\n",
    "    while slow and fast and fast.next:\n",
    "        if slow == fast:\n",
    "            return True\n",
    "        slow = slow.next\n",
    "        fast = fast.next.next\n",
    "    \n",
    "    return False"
   ]
  },
  {
   "cell_type": "code",
   "execution_count": 42,
   "id": "66d51254-e865-4f27-9793-43054a0493c3",
   "metadata": {},
   "outputs": [
    {
     "data": {
      "text/plain": [
       "True"
      ]
     },
     "execution_count": 42,
     "metadata": {},
     "output_type": "execute_result"
    }
   ],
   "source": [
    "node1 = ListNode(2)\n",
    "node2 = ListNode(-4)\n",
    "node2.next = node1\n",
    "head = ListNode(3)\n",
    "head.next = node1\n",
    "node1.next = ListNode(0)\n",
    "node1.next.next = node2\n",
    "\n",
    "hasCycle(head)"
   ]
  },
  {
   "cell_type": "code",
   "execution_count": 43,
   "id": "78a1a82e-fd13-4e9f-9674-a53ee3ca755c",
   "metadata": {},
   "outputs": [
    {
     "data": {
      "text/plain": [
       "True"
      ]
     },
     "execution_count": 43,
     "metadata": {},
     "output_type": "execute_result"
    }
   ],
   "source": [
    "node1 = ListNode(1)\n",
    "node2 = ListNode(2)\n",
    "\n",
    "node1.next = node2\n",
    "node2.next = node1\n",
    "head = node1\n",
    "\n",
    "hasCycle(head)"
   ]
  },
  {
   "cell_type": "code",
   "execution_count": 44,
   "id": "eff30e58-6362-46da-bedd-5dfd506f32dc",
   "metadata": {},
   "outputs": [
    {
     "data": {
      "text/plain": [
       "False"
      ]
     },
     "execution_count": 44,
     "metadata": {},
     "output_type": "execute_result"
    }
   ],
   "source": [
    "node1 = ListNode(1)\n",
    "head = node1\n",
    "\n",
    "hasCycle(head)"
   ]
  },
  {
   "cell_type": "code",
   "execution_count": null,
   "id": "4d86c41a-2143-44c3-bc1c-5d909a52b4aa",
   "metadata": {},
   "outputs": [],
   "source": []
  }
 ],
 "metadata": {
  "kernelspec": {
   "display_name": "leetcode",
   "language": "python",
   "name": "leetcode"
  },
  "language_info": {
   "codemirror_mode": {
    "name": "ipython",
    "version": 3
   },
   "file_extension": ".py",
   "mimetype": "text/x-python",
   "name": "python",
   "nbconvert_exporter": "python",
   "pygments_lexer": "ipython3",
   "version": "3.9.18"
  }
 },
 "nbformat": 4,
 "nbformat_minor": 5
}
