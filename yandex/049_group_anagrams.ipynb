{
 "cells": [
  {
   "cell_type": "markdown",
   "id": "4164a17f-232b-4125-89d5-02516da59555",
   "metadata": {},
   "source": [
    "## 49. Group Anagrams"
   ]
  },
  {
   "cell_type": "code",
   "execution_count": 60,
   "id": "6caadfe0-2d35-448f-91f8-401cea3ee7d8",
   "metadata": {},
   "outputs": [],
   "source": [
    "from collections import defaultdict\n",
    "\n",
    "def groupAnagrams(strs):\n",
    "    anag2id = defaultdict(list)\n",
    "\n",
    "    for i, s in enumerate(strs):\n",
    "        uniq = ''.join(sorted(s))\n",
    "        anag2id[uniq].append(s)\n",
    "\n",
    "    return list(anag2id.values())"
   ]
  },
  {
   "cell_type": "code",
   "execution_count": 61,
   "id": "0935051b-0b0e-4e2e-95c6-a2e6dd5a5886",
   "metadata": {},
   "outputs": [
    {
     "data": {
      "text/plain": [
       "[['eat', 'tea', 'ate'], ['tan', 'nat'], ['bat']]"
      ]
     },
     "execution_count": 61,
     "metadata": {},
     "output_type": "execute_result"
    }
   ],
   "source": [
    "groupAnagrams(strs=[\"eat\",\"tea\",\"tan\",\"ate\",\"nat\",\"bat\"])"
   ]
  },
  {
   "cell_type": "code",
   "execution_count": 62,
   "id": "cb3acc9c-2259-4168-83ad-7810428c1467",
   "metadata": {},
   "outputs": [
    {
     "data": {
      "text/plain": [
       "[['']]"
      ]
     },
     "execution_count": 62,
     "metadata": {},
     "output_type": "execute_result"
    }
   ],
   "source": [
    "groupAnagrams(strs=[\"\"])"
   ]
  },
  {
   "cell_type": "code",
   "execution_count": 63,
   "id": "4ca4063b-2b12-4eae-8731-b1598a603d3d",
   "metadata": {},
   "outputs": [
    {
     "data": {
      "text/plain": [
       "[['a']]"
      ]
     },
     "execution_count": 63,
     "metadata": {},
     "output_type": "execute_result"
    }
   ],
   "source": [
    "groupAnagrams(strs=[\"a\"])"
   ]
  },
  {
   "cell_type": "code",
   "execution_count": null,
   "id": "7dcbeae5-c3e6-4f2b-853d-117093e336da",
   "metadata": {},
   "outputs": [],
   "source": []
  }
 ],
 "metadata": {
  "kernelspec": {
   "display_name": "leetcode",
   "language": "python",
   "name": "leetcode"
  },
  "language_info": {
   "codemirror_mode": {
    "name": "ipython",
    "version": 3
   },
   "file_extension": ".py",
   "mimetype": "text/x-python",
   "name": "python",
   "nbconvert_exporter": "python",
   "pygments_lexer": "ipython3",
   "version": "3.9.18"
  }
 },
 "nbformat": 4,
 "nbformat_minor": 5
}
