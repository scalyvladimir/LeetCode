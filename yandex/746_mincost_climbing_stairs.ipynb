{
 "cells": [
  {
   "cell_type": "markdown",
   "id": "a5f51600-438b-4717-ab9a-6b4780cf43e2",
   "metadata": {},
   "source": [
    "## 746. Min Cost Climbing Stairs"
   ]
  },
  {
   "cell_type": "code",
   "execution_count": 130,
   "id": "5b5dfcf1-8662-4019-94b8-18e3eb9accd5",
   "metadata": {},
   "outputs": [],
   "source": [
    "def helper(n, cost):\n",
    "    if n == 0:\n",
    "        return 0\n",
    "    if n == 1:\n",
    "        return cost[n]\n",
    "    else:\n",
    "        return cost[n] + min(helper(n-1, cost),  helper(n-2, cost))\n",
    "\n",
    "def minCostClimbingStairs(cost):\n",
    "    cost.append(0)\n",
    "    if len(cost) <= 2:\n",
    "        return min(cost)\n",
    "\n",
    "    for i in range(len(cost)-3, -1, -1):\n",
    "        print(i)\n",
    "        cost[i] += min(cost[i+1], cost[i+2])\n",
    "    print(cost)\n",
    "    \n",
    "    return min(cost[:2])\n",
    "    \n",
    "\n",
    "# def minCostClimbingStairs(cost):\n",
    "    # return helper(len(cost)+1, [0] + cost + [0])"
   ]
  },
  {
   "cell_type": "code",
   "execution_count": 126,
   "id": "7bf738b7-b40a-4ae9-aea9-d894d2fa890f",
   "metadata": {},
   "outputs": [
    {
     "data": {
      "text/plain": [
       "15"
      ]
     },
     "execution_count": 126,
     "metadata": {},
     "output_type": "execute_result"
    }
   ],
   "source": [
    "minCostClimbingStairs(cost=[10,15,20])"
   ]
  },
  {
   "cell_type": "code",
   "execution_count": 127,
   "id": "c7e1798f-bd96-4370-8ad4-4fb2f7751dc1",
   "metadata": {},
   "outputs": [
    {
     "data": {
      "text/plain": [
       "6"
      ]
     },
     "execution_count": 127,
     "metadata": {},
     "output_type": "execute_result"
    }
   ],
   "source": [
    "minCostClimbingStairs(cost=[1,100,1,1,1,100,1,1,100,1])"
   ]
  },
  {
   "cell_type": "code",
   "execution_count": 131,
   "id": "63cc7b98-8249-40bc-99f3-d3a98978379e",
   "metadata": {},
   "outputs": [
    {
     "data": {
      "text/plain": [
       "0"
      ]
     },
     "execution_count": 131,
     "metadata": {},
     "output_type": "execute_result"
    }
   ],
   "source": [
    "minCostClimbingStairs(cost=[10])"
   ]
  }
 ],
 "metadata": {
  "kernelspec": {
   "display_name": "leetcode",
   "language": "python",
   "name": "leetcode"
  },
  "language_info": {
   "codemirror_mode": {
    "name": "ipython",
    "version": 3
   },
   "file_extension": ".py",
   "mimetype": "text/x-python",
   "name": "python",
   "nbconvert_exporter": "python",
   "pygments_lexer": "ipython3",
   "version": "3.9.18"
  }
 },
 "nbformat": 4,
 "nbformat_minor": 5
}
