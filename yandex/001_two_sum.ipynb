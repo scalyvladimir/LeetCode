{
 "cells": [
  {
   "cell_type": "markdown",
   "id": "e5ad43fd-d0c2-47ab-9de4-8344589c0ecb",
   "metadata": {},
   "source": [
    "## 1. Two Sum"
   ]
  },
  {
   "cell_type": "code",
   "execution_count": 323,
   "id": "4ca2f764-b153-47b3-a049-788208c59b51",
   "metadata": {},
   "outputs": [],
   "source": [
    "import numpy as np\n",
    "\n",
    "def twoSum(nums, target):\n",
    "\n",
    "    num2id = dict(zip(nums, range(len(nums))))\n",
    "    \n",
    "    for i, num in enumerate(nums):\n",
    "        complement = target - num\n",
    "        if complement in num2id.keys() and num2id[complement] != i:\n",
    "            return [i, num2id[complement]]\n",
    "\n",
    "    return []"
   ]
  },
  {
   "cell_type": "code",
   "execution_count": 324,
   "id": "ebf28804-5016-41c6-8c84-1b5c892caf59",
   "metadata": {},
   "outputs": [
    {
     "data": {
      "text/plain": [
       "[0, 1]"
      ]
     },
     "execution_count": 324,
     "metadata": {},
     "output_type": "execute_result"
    }
   ],
   "source": [
    "twoSum(nums = [2,7,11,15], target = 9)"
   ]
  },
  {
   "cell_type": "code",
   "execution_count": 325,
   "id": "d1cee32b-6763-4812-ad56-9023c052df71",
   "metadata": {},
   "outputs": [
    {
     "data": {
      "text/plain": [
       "[1, 2]"
      ]
     },
     "execution_count": 325,
     "metadata": {},
     "output_type": "execute_result"
    }
   ],
   "source": [
    "twoSum(nums = [3,2,4], target = 6)"
   ]
  },
  {
   "cell_type": "code",
   "execution_count": 326,
   "id": "812a946e-2f0c-4ca9-8733-b5f77e357165",
   "metadata": {},
   "outputs": [
    {
     "data": {
      "text/plain": [
       "[2, 4]"
      ]
     },
     "execution_count": 326,
     "metadata": {},
     "output_type": "execute_result"
    }
   ],
   "source": [
    "twoSum( nums = [-1,-2,-3,-4,-5], target = -8)"
   ]
  },
  {
   "cell_type": "code",
   "execution_count": 327,
   "id": "ac40245a-5e29-4fa2-a671-3a8c5b8f0d80",
   "metadata": {},
   "outputs": [
    {
     "data": {
      "text/plain": [
       "[0, 1]"
      ]
     },
     "execution_count": 327,
     "metadata": {},
     "output_type": "execute_result"
    }
   ],
   "source": [
    "twoSum( nums = [3, 3], target = 6)"
   ]
  },
  {
   "cell_type": "code",
   "execution_count": 329,
   "id": "764421b9-b0fa-4fd6-a22c-7514875806d3",
   "metadata": {},
   "outputs": [
    {
     "data": {
      "text/plain": [
       "[1, 2]"
      ]
     },
     "execution_count": 329,
     "metadata": {},
     "output_type": "execute_result"
    }
   ],
   "source": [
    "twoSum( nums = [-10,-1,-18,-19], target = -19)"
   ]
  },
  {
   "cell_type": "code",
   "execution_count": null,
   "id": "68695d0c-5fac-409c-89b6-3025a70e44dd",
   "metadata": {},
   "outputs": [],
   "source": []
  }
 ],
 "metadata": {
  "kernelspec": {
   "display_name": "leetcode",
   "language": "python",
   "name": "leetcode"
  },
  "language_info": {
   "codemirror_mode": {
    "name": "ipython",
    "version": 3
   },
   "file_extension": ".py",
   "mimetype": "text/x-python",
   "name": "python",
   "nbconvert_exporter": "python",
   "pygments_lexer": "ipython3",
   "version": "3.9.18"
  }
 },
 "nbformat": 4,
 "nbformat_minor": 5
}
