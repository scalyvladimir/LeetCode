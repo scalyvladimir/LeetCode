{
 "cells": [
  {
   "cell_type": "markdown",
   "id": "85f68604-c51b-4f79-81c1-1630f2921c4e",
   "metadata": {},
   "source": [
    "## 28. Find the Index of the First Occurrence in a String"
   ]
  },
  {
   "cell_type": "code",
   "execution_count": 13,
   "id": "f9273e68-5152-4807-844f-a4ac1cad945f",
   "metadata": {},
   "outputs": [],
   "source": [
    "def pi(s):\n",
    "    pi = [0] * len(s)\n",
    "\n",
    "    for i in range(1, len(s)):\n",
    "        k = pi[i - 1]\n",
    "\n",
    "        while k > 0 and s[k] != s[i]:\n",
    "            k = pi[k-1]\n",
    "\n",
    "        if s[k] == s[i]:\n",
    "            pi[i] = k + 1\n",
    "\n",
    "    return pi\n",
    "\n",
    "def strStr(haystack, needle):\n",
    "    ans = -1\n",
    "\n",
    "    if len(needle) > len(haystack):\n",
    "        return ans\n",
    "    \n",
    "    s = needle + '#' + haystack\n",
    "    pi_f = pi(s)\n",
    "\n",
    "    for i, pi_val in enumerate(pi_f):\n",
    "        if pi_val == len(needle):\n",
    "            ans = i - 2 * len(needle)\n",
    "            break\n",
    "    \n",
    "    return ans    "
   ]
  },
  {
   "cell_type": "code",
   "execution_count": 14,
   "id": "24796e58-30b1-4dc0-a03b-b78da3614971",
   "metadata": {},
   "outputs": [
    {
     "data": {
      "text/plain": [
       "0"
      ]
     },
     "execution_count": 14,
     "metadata": {},
     "output_type": "execute_result"
    }
   ],
   "source": [
    "strStr(haystack=\"sadbutsad\", needle=\"sad\")"
   ]
  },
  {
   "cell_type": "code",
   "execution_count": 15,
   "id": "1ce63265-5197-4898-a77c-7a3b4a588821",
   "metadata": {},
   "outputs": [
    {
     "data": {
      "text/plain": [
       "-1"
      ]
     },
     "execution_count": 15,
     "metadata": {},
     "output_type": "execute_result"
    }
   ],
   "source": [
    "strStr(haystack=\"leetcode\", needle=\"leeto\")"
   ]
  }
 ],
 "metadata": {
  "kernelspec": {
   "display_name": "Python 3 (ipykernel)",
   "language": "python",
   "name": "python3"
  },
  "language_info": {
   "codemirror_mode": {
    "name": "ipython",
    "version": 3
   },
   "file_extension": ".py",
   "mimetype": "text/x-python",
   "name": "python",
   "nbconvert_exporter": "python",
   "pygments_lexer": "ipython3",
   "version": "3.9.6"
  }
 },
 "nbformat": 4,
 "nbformat_minor": 5
}
