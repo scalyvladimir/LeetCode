{
 "cells": [
  {
   "cell_type": "markdown",
   "id": "3f68eef2-b655-4f71-9962-965ecaf9c0c8",
   "metadata": {},
   "source": [
    "## 4. Median of Two Sorted Arrays"
   ]
  },
  {
   "cell_type": "code",
   "execution_count": 106,
   "id": "6b43161a-d749-423b-8445-90cc5fcb7733",
   "metadata": {},
   "outputs": [],
   "source": [
    "def findMedianSortedArrays(nums1, nums2):\n",
    "    if not nums1 and not nums2:\n",
    "        return -1\n",
    "    \n",
    "    if not nums1:\n",
    "        l, r = 0, len(nums2) - 1\n",
    "        \n",
    "        return nums2[l + r // 2] if len(nums2) % 2 != 0 else (nums2[(r - l) // 2] + nums2[(r - l + 1) // 2]) / 2 \n",
    "    \n",
    "    if not nums2:\n",
    "        l, r = 0, len(nums1) - 1\n",
    "        \n",
    "        return nums1[l + r // 2] if len(nums1) % 2 != 0 else (nums1[(r - l) // 2] + nums1[(r - l + 1) // 2]) / 2 \n",
    "\n",
    "    if len(nums2) > len(nums1):\n",
    "        nums1, nums2 = nums2, nums1 \n",
    "    \n",
    "    total = len(nums1) + len(nums2)\n",
    "    half = total // 2\n",
    "\n",
    "    l2, r2 = 0, len(nums2) - 1\n",
    "\n",
    "    m2 = (len(nums2)-1 + l2) // 2\n",
    "    m1 = half - m2 - 2\n",
    "\n",
    "    while True: \n",
    "        mid1 = nums1[m1] if m1 >= 0 else float('-inf')\n",
    "        mid2 = nums2[m2] if m2 >= 0 else float('-inf')\n",
    "        right1 = nums1[m1 + 1] if m1 + 1 < len(nums1) else float('inf')\n",
    "        right2 = nums2[m2 + 1] if m2 + 1 < len(nums2) else float('inf') \n",
    "        \n",
    "        if mid2 <= right1 and mid1 <= right2:            \n",
    "            return min(right1, right2) if total % 2 != 0 else (max(mid1, mid2) + min(right1, right2)) / 2\n",
    "        \n",
    "        if mid1 > right2:\n",
    "            l2 = m2 + 1\n",
    "        elif mid2 > right1:\n",
    "            r2 = m2 - 1\n",
    "\n",
    "        m2 = (r2 + l2) // 2\n",
    "        m1 = half - m2 - 2\n",
    "\n",
    "\n",
    "    return -1"
   ]
  },
  {
   "cell_type": "code",
   "execution_count": 107,
   "id": "4ef7ead3-d823-4701-9926-c8b41c35fbc7",
   "metadata": {},
   "outputs": [
    {
     "data": {
      "text/plain": [
       "1.5"
      ]
     },
     "execution_count": 107,
     "metadata": {},
     "output_type": "execute_result"
    }
   ],
   "source": [
    "findMedianSortedArrays(nums1 = [1], nums2 = [2])"
   ]
  },
  {
   "cell_type": "code",
   "execution_count": 108,
   "id": "9990cff3-4014-4a24-a4da-105e72fcd5de",
   "metadata": {},
   "outputs": [
    {
     "data": {
      "text/plain": [
       "2"
      ]
     },
     "execution_count": 108,
     "metadata": {},
     "output_type": "execute_result"
    }
   ],
   "source": [
    "findMedianSortedArrays(nums1 = [1,3], nums2 = [2])"
   ]
  },
  {
   "cell_type": "code",
   "execution_count": 109,
   "id": "6cb53505-8a59-4f6e-98ca-fc75e1746dab",
   "metadata": {},
   "outputs": [
    {
     "data": {
      "text/plain": [
       "2.5"
      ]
     },
     "execution_count": 109,
     "metadata": {},
     "output_type": "execute_result"
    }
   ],
   "source": [
    "findMedianSortedArrays(nums1 = [1,2], nums2 = [3,4])"
   ]
  },
  {
   "cell_type": "code",
   "execution_count": 110,
   "id": "b3859ac1-1b7d-45c0-bdb1-c307211e3507",
   "metadata": {},
   "outputs": [
    {
     "data": {
      "text/plain": [
       "1.5"
      ]
     },
     "execution_count": 110,
     "metadata": {},
     "output_type": "execute_result"
    }
   ],
   "source": [
    "findMedianSortedArrays(nums1 = [1], nums2 = [2])"
   ]
  },
  {
   "cell_type": "code",
   "execution_count": 111,
   "id": "d5334b13-8bf5-4c93-8d44-f5afbf377d83",
   "metadata": {},
   "outputs": [
    {
     "data": {
      "text/plain": [
       "1.5"
      ]
     },
     "execution_count": 111,
     "metadata": {},
     "output_type": "execute_result"
    }
   ],
   "source": [
    "findMedianSortedArrays(nums1 = [2], nums2 = [1])"
   ]
  },
  {
   "cell_type": "code",
   "execution_count": 112,
   "id": "4b816ccd-0aa6-49e4-86af-e70a01234684",
   "metadata": {},
   "outputs": [
    {
     "data": {
      "text/plain": [
       "2.5"
      ]
     },
     "execution_count": 112,
     "metadata": {},
     "output_type": "execute_result"
    }
   ],
   "source": [
    "findMedianSortedArrays(nums1 = [1, 2], nums2 = [3, 4])"
   ]
  },
  {
   "cell_type": "code",
   "execution_count": null,
   "id": "eaf4e3ec-fe12-4995-b550-6be957702e70",
   "metadata": {},
   "outputs": [],
   "source": []
  }
 ],
 "metadata": {
  "kernelspec": {
   "display_name": "leetcode",
   "language": "python",
   "name": "leetcode"
  },
  "language_info": {
   "codemirror_mode": {
    "name": "ipython",
    "version": 3
   },
   "file_extension": ".py",
   "mimetype": "text/x-python",
   "name": "python",
   "nbconvert_exporter": "python",
   "pygments_lexer": "ipython3",
   "version": "3.9.18"
  }
 },
 "nbformat": 4,
 "nbformat_minor": 5
}
