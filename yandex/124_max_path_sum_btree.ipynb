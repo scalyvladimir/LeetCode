{
 "cells": [
  {
   "cell_type": "markdown",
   "id": "e07e8afc-c599-4ef4-8249-4625579f38bc",
   "metadata": {},
   "source": [
    "## 124. Binary Tree Maximum Path Sum"
   ]
  },
  {
   "cell_type": "code",
   "execution_count": 8,
   "id": "23308e52-c853-4f8d-9f7e-8bd9c2b75f50",
   "metadata": {},
   "outputs": [],
   "source": [
    "class TreeNode:\n",
    "    def __init__(self, val=0, left=None, right=None):\n",
    "        self.val = val\n",
    "        self.left = left\n",
    "        self.right = right"
   ]
  },
  {
   "cell_type": "code",
   "execution_count": 158,
   "id": "dc21dc7f-e62d-4a95-9889-6d00836f63c5",
   "metadata": {},
   "outputs": [],
   "source": [
    "def helper(root, s):\n",
    "    if not root.left and not root.right:\n",
    "        return root.val\n",
    "\n",
    "    left_res = root.val + helper(root.left, s) if root.left else 0\n",
    "    right_res = root.val + helper(root.right, s) if root.right else 0\n",
    "    s[0] = max(s[0], left_res + right_res - root.val)\n",
    "\n",
    "    return max(left_res, right_res)\n",
    "\n",
    "def maxPathSum(root):\n",
    "\n",
    "    if not root:\n",
    "        return 0\n",
    "\n",
    "    s = [0]\n",
    "    \n",
    "    helper(root, s)\n",
    "\n",
    "    return s[0]"
   ]
  },
  {
   "cell_type": "code",
   "execution_count": 159,
   "id": "324bc74b-c01b-479c-b4ac-402143350442",
   "metadata": {},
   "outputs": [],
   "source": [
    "root = TreeNode(1)\n",
    "\n",
    "root.left = TreeNode(2)\n",
    "root.right = TreeNode(3)"
   ]
  },
  {
   "cell_type": "code",
   "execution_count": 160,
   "id": "65fe7716-d54a-4db4-9ce9-040f8cb619a8",
   "metadata": {},
   "outputs": [],
   "source": [
    "assert maxPathSum(root) == 6"
   ]
  },
  {
   "cell_type": "code",
   "execution_count": 161,
   "id": "d7b61cb8-6350-4e88-ae81-63b1f6379284",
   "metadata": {},
   "outputs": [],
   "source": [
    "root1 = TreeNode(-10)\n",
    "\n",
    "root1.left = TreeNode(9)\n",
    "root1.right = TreeNode(20)\n",
    "\n",
    "root1.right.left = TreeNode(15)\n",
    "root1.right.right = TreeNode(7)"
   ]
  },
  {
   "cell_type": "code",
   "execution_count": 162,
   "id": "eb1a0b35-f04c-4223-91cf-20ced36b450e",
   "metadata": {},
   "outputs": [],
   "source": [
    "assert maxPathSum(root1) == 42"
   ]
  },
  {
   "cell_type": "code",
   "execution_count": 163,
   "id": "5ae542b8-8484-4de7-ba13-406a15e3d837",
   "metadata": {},
   "outputs": [],
   "source": [
    "root2 = TreeNode(1)"
   ]
  },
  {
   "cell_type": "code",
   "execution_count": 164,
   "id": "2fec7650-2293-4c90-8959-977e77214800",
   "metadata": {},
   "outputs": [
    {
     "data": {
      "text/plain": [
       "1"
      ]
     },
     "execution_count": 164,
     "metadata": {},
     "output_type": "execute_result"
    }
   ],
   "source": [
    "maxPathSum(root2)"
   ]
  }
 ],
 "metadata": {
  "kernelspec": {
   "display_name": "leetcode",
   "language": "python",
   "name": "leetcode"
  },
  "language_info": {
   "codemirror_mode": {
    "name": "ipython",
    "version": 3
   },
   "file_extension": ".py",
   "mimetype": "text/x-python",
   "name": "python",
   "nbconvert_exporter": "python",
   "pygments_lexer": "ipython3",
   "version": "3.9.18"
  }
 },
 "nbformat": 4,
 "nbformat_minor": 5
}
