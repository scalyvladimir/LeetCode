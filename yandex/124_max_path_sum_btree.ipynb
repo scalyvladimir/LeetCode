{
 "cells": [
  {
   "cell_type": "markdown",
   "id": "e07e8afc-c599-4ef4-8249-4625579f38bc",
   "metadata": {},
   "source": [
    "## 124. Binary Tree Maximum Path Sum"
   ]
  },
  {
   "cell_type": "code",
   "execution_count": 1,
   "id": "23308e52-c853-4f8d-9f7e-8bd9c2b75f50",
   "metadata": {},
   "outputs": [],
   "source": [
    "class TreeNode:\n",
    "    def __init__(self, val=0, left=None, right=None):\n",
    "        self.val = val\n",
    "        self.left = left\n",
    "        self.right = right"
   ]
  },
  {
   "cell_type": "code",
   "execution_count": 236,
   "id": "dc21dc7f-e62d-4a95-9889-6d00836f63c5",
   "metadata": {},
   "outputs": [],
   "source": [
    "def helper(root, s):\n",
    "    if not root.left and not root.right:\n",
    "        return root.val\n",
    "\n",
    "    left_res = root.val + helper(root.left, s) if root.left else float('-inf')\n",
    "    right_res = root.val + helper(root.right, s) if root.right else float('-inf')\n",
    "    print('left_res:', left_res, 'right_res:', right_res, 'root:', root.val)\n",
    "    if root.left and root.right:\n",
    "        s[0] = max(s[0], max(root.val, left_res + right_res - root.val))\n",
    "    if root.right:\n",
    "        s[0] = max(s[0], max(root.val, max(right_res - root.val, right_res)))\n",
    "    if root.left: \n",
    "        s[0] = max(s[0], max(root.val, max(left_res - root.val, left_res)))\n",
    "\n",
    "    return max(left_res, right_res)\n",
    "\n",
    "def maxPathSum(root):\n",
    "\n",
    "    if not root:\n",
    "        return 0\n",
    "\n",
    "    s = [root.val]\n",
    "    \n",
    "    helper(root, s)\n",
    "\n",
    "    return s[0]"
   ]
  },
  {
   "cell_type": "code",
   "execution_count": 237,
   "id": "324bc74b-c01b-479c-b4ac-402143350442",
   "metadata": {},
   "outputs": [],
   "source": [
    "root = TreeNode(1)\n",
    "\n",
    "root.left = TreeNode(2)\n",
    "root.right = TreeNode(3)"
   ]
  },
  {
   "cell_type": "code",
   "execution_count": 238,
   "id": "65fe7716-d54a-4db4-9ce9-040f8cb619a8",
   "metadata": {},
   "outputs": [
    {
     "name": "stdout",
     "output_type": "stream",
     "text": [
      "left_res: 3 right_res: 4 root: 1\n"
     ]
    }
   ],
   "source": [
    "assert maxPathSum(root) == 6"
   ]
  },
  {
   "cell_type": "code",
   "execution_count": 239,
   "id": "d7b61cb8-6350-4e88-ae81-63b1f6379284",
   "metadata": {},
   "outputs": [],
   "source": [
    "root1 = TreeNode(-10)\n",
    "\n",
    "root1.left = TreeNode(9)\n",
    "root1.right = TreeNode(20)\n",
    "\n",
    "root1.right.left = TreeNode(15)\n",
    "root1.right.right = TreeNode(7)"
   ]
  },
  {
   "cell_type": "code",
   "execution_count": 240,
   "id": "eb1a0b35-f04c-4223-91cf-20ced36b450e",
   "metadata": {},
   "outputs": [
    {
     "name": "stdout",
     "output_type": "stream",
     "text": [
      "left_res: 35 right_res: 27 root: 20\n",
      "left_res: -1 right_res: 25 root: -10\n"
     ]
    }
   ],
   "source": [
    "assert maxPathSum(root1) == 42"
   ]
  },
  {
   "cell_type": "code",
   "execution_count": 241,
   "id": "5ae542b8-8484-4de7-ba13-406a15e3d837",
   "metadata": {},
   "outputs": [],
   "source": [
    "root2 = TreeNode(1)"
   ]
  },
  {
   "cell_type": "code",
   "execution_count": 242,
   "id": "2fec7650-2293-4c90-8959-977e77214800",
   "metadata": {},
   "outputs": [],
   "source": [
    "assert maxPathSum(root2) == 1"
   ]
  },
  {
   "cell_type": "code",
   "execution_count": 243,
   "id": "249f57b2",
   "metadata": {},
   "outputs": [],
   "source": [
    "root3 = TreeNode(1)\n",
    "root3.left = TreeNode(2)"
   ]
  },
  {
   "cell_type": "code",
   "execution_count": 244,
   "id": "e97e1658",
   "metadata": {},
   "outputs": [
    {
     "name": "stdout",
     "output_type": "stream",
     "text": [
      "left_res: 3 right_res: -inf root: 1\n"
     ]
    }
   ],
   "source": [
    "assert maxPathSum(root3) == 3"
   ]
  },
  {
   "cell_type": "code",
   "execution_count": 245,
   "id": "3c167a85",
   "metadata": {},
   "outputs": [],
   "source": [
    "root4 = TreeNode(-2)\n",
    "root4.left = TreeNode(1)"
   ]
  },
  {
   "cell_type": "code",
   "execution_count": 246,
   "id": "b684f7be",
   "metadata": {},
   "outputs": [
    {
     "name": "stdout",
     "output_type": "stream",
     "text": [
      "left_res: -1 right_res: -inf root: -2\n"
     ]
    }
   ],
   "source": [
    "assert maxPathSum(root4) == 1"
   ]
  },
  {
   "cell_type": "code",
   "execution_count": 247,
   "id": "04dd4bcb",
   "metadata": {},
   "outputs": [],
   "source": [
    "root5 = TreeNode(-2)\n",
    "root5.left = TreeNode(-1)"
   ]
  },
  {
   "cell_type": "code",
   "execution_count": 248,
   "id": "af185b5e",
   "metadata": {},
   "outputs": [
    {
     "name": "stdout",
     "output_type": "stream",
     "text": [
      "left_res: -3 right_res: -inf root: -2\n"
     ]
    }
   ],
   "source": [
    "assert maxPathSum(root5) == -1"
   ]
  },
  {
   "cell_type": "code",
   "execution_count": 249,
   "id": "8db95a92-0f7c-4b90-b8e1-e64098cadcb4",
   "metadata": {},
   "outputs": [],
   "source": [
    "root5 = TreeNode(1)\n",
    "root5.left = TreeNode(-2)\n",
    "root5.right = TreeNode(3)"
   ]
  },
  {
   "cell_type": "code",
   "execution_count": 250,
   "id": "f9dd52e8-7a4b-4f83-a63a-87da19b506fd",
   "metadata": {},
   "outputs": [
    {
     "name": "stdout",
     "output_type": "stream",
     "text": [
      "left_res: -1 right_res: 4 root: 1\n"
     ]
    }
   ],
   "source": [
    "assert maxPathSum(root5) == 4"
   ]
  },
  {
   "cell_type": "code",
   "execution_count": null,
   "id": "ce251b96-ced9-4f97-8f00-8c3bcd2a0a30",
   "metadata": {},
   "outputs": [],
   "source": []
  }
 ],
 "metadata": {
  "kernelspec": {
   "display_name": "leetcode",
   "language": "python",
   "name": "leetcode"
  },
  "language_info": {
   "codemirror_mode": {
    "name": "ipython",
    "version": 3
   },
   "file_extension": ".py",
   "mimetype": "text/x-python",
   "name": "python",
   "nbconvert_exporter": "python",
   "pygments_lexer": "ipython3",
   "version": "3.9.18"
  }
 },
 "nbformat": 4,
 "nbformat_minor": 5
}
