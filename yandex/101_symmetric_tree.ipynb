{
 "cells": [
  {
   "cell_type": "markdown",
   "id": "e7289571-42df-4504-ab20-af1da26b3bd5",
   "metadata": {},
   "source": [
    "## 101. Symmetric Tree"
   ]
  },
  {
   "cell_type": "code",
   "execution_count": 1,
   "id": "0128c5d7-0dc5-40ca-bf13-8b33950a16be",
   "metadata": {},
   "outputs": [],
   "source": [
    "class TreeNode:\n",
    "    def __init__(self, val=0, left=None, right=None):\n",
    "        self.val = val\n",
    "        self.left = left\n",
    "        self.right = right"
   ]
  },
  {
   "cell_type": "code",
   "execution_count": 38,
   "id": "882e715d-9986-45cd-a283-142fb6462379",
   "metadata": {},
   "outputs": [],
   "source": [
    "def left_traversal(left, right):\n",
    "    if not left or not right:\n",
    "        return\n",
    "    print(left.val, right.val)\n",
    "    left_traversal(left.left, right.left)\n",
    "\n",
    "def right_traversal(left, right):\n",
    "    if not left or not right:\n",
    "        return\n",
    "    print(left.val, right.val)\n",
    "    left_traversal(left.right, right.right)\n",
    "\n",
    "def sim_traversal(left, right):    \n",
    "    if not left and not right:\n",
    "        return True\n",
    "\n",
    "    elif left and right and left.val == right.val:\n",
    "        return sim_traversal(left.left, right.right) and sim_traversal(left.right, right.left)\n",
    "    else:\n",
    "        return False\n",
    "\n",
    "\n",
    "def isSymmetric(root, trav_func):\n",
    "\n",
    "    return trav_func(root.left, root.right)"
   ]
  },
  {
   "cell_type": "code",
   "execution_count": 39,
   "id": "b7dbceb9-2800-4b3c-bb97-9416aa02a24c",
   "metadata": {},
   "outputs": [],
   "source": [
    "root = TreeNode(1)\n",
    "\n",
    "root.left = TreeNode(2)\n",
    "root.right = TreeNode(2)\n",
    "\n",
    "root.left.left = TreeNode(3)\n",
    "root.left.right = TreeNode(4)\n",
    "\n",
    "root.right.right = TreeNode(3)\n",
    "root.right.left = TreeNode(4)"
   ]
  },
  {
   "cell_type": "code",
   "execution_count": 40,
   "id": "8c73b104-e565-4e2e-b388-fbb3503b7d55",
   "metadata": {},
   "outputs": [
    {
     "data": {
      "text/plain": [
       "True"
      ]
     },
     "execution_count": 40,
     "metadata": {},
     "output_type": "execute_result"
    }
   ],
   "source": [
    "isSymmetric(root, sim_traversal)"
   ]
  },
  {
   "cell_type": "code",
   "execution_count": 41,
   "id": "1527c7a9-4a75-47b7-a6b2-7fc055397519",
   "metadata": {},
   "outputs": [],
   "source": [
    "root1 = TreeNode(1)\n",
    "\n",
    "root1.left = TreeNode(2)\n",
    "root1.right = TreeNode(2)\n",
    "\n",
    "root1.left.right = TreeNode(3)\n",
    "\n",
    "root1.right.right = TreeNode(3)"
   ]
  },
  {
   "cell_type": "code",
   "execution_count": 42,
   "id": "66f9028e-5173-4a20-b7aa-2e7df9fdbd06",
   "metadata": {},
   "outputs": [
    {
     "data": {
      "text/plain": [
       "False"
      ]
     },
     "execution_count": 42,
     "metadata": {},
     "output_type": "execute_result"
    }
   ],
   "source": [
    "isSymmetric(root1, sim_traversal)"
   ]
  },
  {
   "cell_type": "code",
   "execution_count": 43,
   "id": "2fa3efc1-ae70-4423-9617-d29562184751",
   "metadata": {},
   "outputs": [],
   "source": [
    "root2 = TreeNode(2)\n",
    "\n",
    "root2.left = TreeNode(3)\n",
    "root2.right = TreeNode(3)\n",
    "\n",
    "root2.left.left = TreeNode(4)\n",
    "root2.left.right = TreeNode(5)\n",
    "\n",
    "root2.right.right = TreeNode(4)"
   ]
  },
  {
   "cell_type": "code",
   "execution_count": 44,
   "id": "774a5b66-f050-4490-be6d-b2552f83177a",
   "metadata": {},
   "outputs": [
    {
     "data": {
      "text/plain": [
       "False"
      ]
     },
     "execution_count": 44,
     "metadata": {},
     "output_type": "execute_result"
    }
   ],
   "source": [
    "isSymmetric(root2, sim_traversal)"
   ]
  },
  {
   "cell_type": "code",
   "execution_count": null,
   "id": "3bc47b63-2594-4c0b-9914-298000935208",
   "metadata": {},
   "outputs": [],
   "source": []
  }
 ],
 "metadata": {
  "kernelspec": {
   "display_name": "Python 3 (ipykernel)",
   "language": "python",
   "name": "python3"
  },
  "language_info": {
   "codemirror_mode": {
    "name": "ipython",
    "version": 3
   },
   "file_extension": ".py",
   "mimetype": "text/x-python",
   "name": "python",
   "nbconvert_exporter": "python",
   "pygments_lexer": "ipython3",
   "version": "3.9.6"
  }
 },
 "nbformat": 4,
 "nbformat_minor": 5
}
