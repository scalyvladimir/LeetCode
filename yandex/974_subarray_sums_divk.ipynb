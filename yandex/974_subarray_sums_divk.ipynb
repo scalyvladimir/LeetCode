{
 "cells": [
  {
   "cell_type": "markdown",
   "id": "a3c28a67-c124-425d-b88c-b41e67cccf6f",
   "metadata": {},
   "source": [
    "## 974. Subarray Sums Divisible by K"
   ]
  },
  {
   "cell_type": "code",
   "execution_count": 22,
   "id": "cf773bb7-d765-4083-87d4-ec2cea289726",
   "metadata": {},
   "outputs": [],
   "source": [
    "from collections import defaultdict\n",
    "\n",
    "def subarraysDivByK(nums, k):\n",
    "    prefix = defaultdict(int, {0:1})\n",
    "    ans = 0\n",
    "    sum = 0\n",
    "\n",
    "    for n in nums:\n",
    "        sum += n\n",
    "\n",
    "        if sum % k in prefix:\n",
    "            ans += prefix[sum % k]\n",
    "\n",
    "        prefix[sum % k] += 1\n",
    "\n",
    "    return ans    "
   ]
  },
  {
   "cell_type": "code",
   "execution_count": 23,
   "id": "5e84a3d9-8fd6-4f0b-bbd9-7ca359f15b98",
   "metadata": {},
   "outputs": [
    {
     "data": {
      "text/plain": [
       "7"
      ]
     },
     "execution_count": 23,
     "metadata": {},
     "output_type": "execute_result"
    }
   ],
   "source": [
    "subarraysDivByK(nums = [4,5,0,-2,-3,1], k = 5)"
   ]
  },
  {
   "cell_type": "code",
   "execution_count": 24,
   "id": "feb35f5f-473c-4691-99d5-991ab63bd160",
   "metadata": {},
   "outputs": [
    {
     "data": {
      "text/plain": [
       "0"
      ]
     },
     "execution_count": 24,
     "metadata": {},
     "output_type": "execute_result"
    }
   ],
   "source": [
    "subarraysDivByK(nums = [5], k = 9)"
   ]
  }
 ],
 "metadata": {
  "kernelspec": {
   "display_name": "leetcode",
   "language": "python",
   "name": "leetcode"
  },
  "language_info": {
   "codemirror_mode": {
    "name": "ipython",
    "version": 3
   },
   "file_extension": ".py",
   "mimetype": "text/x-python",
   "name": "python",
   "nbconvert_exporter": "python",
   "pygments_lexer": "ipython3",
   "version": "3.9.18"
  }
 },
 "nbformat": 4,
 "nbformat_minor": 5
}
