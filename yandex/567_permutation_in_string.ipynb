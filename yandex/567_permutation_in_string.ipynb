{
 "cells": [
  {
   "cell_type": "markdown",
   "id": "b0735d63-d4bf-49d0-b5ba-803d4ced4a98",
   "metadata": {},
   "source": [
    "## 567. Permutation in String"
   ]
  },
  {
   "cell_type": "code",
   "execution_count": 29,
   "id": "a81276db-3fef-4cb7-9579-384ccfe59918",
   "metadata": {},
   "outputs": [],
   "source": [
    "from collections import defaultdict\n",
    "\n",
    "def checkInclusion(s1, s2):\n",
    "    if not s1 or not s2 or len(s1) > len(s2):\n",
    "        return False\n",
    "\n",
    "    s1_dict = defaultdict(int)\n",
    "    s2_dict = defaultdict(int)\n",
    "\n",
    "    for s in s1:\n",
    "        s1_dict[s] += 1 \n",
    "\n",
    "    i = 0\n",
    "    while i < len(s1):\n",
    "        s2_dict[s2[i]] += 1\n",
    "        i += 1\n",
    "    \n",
    "    if s1_dict == s2_dict:\n",
    "        return True\n",
    "        \n",
    "    while i < len(s2):\n",
    "\n",
    "        if s2_dict[s2[i - len(s1)]] == 1:\n",
    "            del s2_dict[s2[i - len(s1)]]\n",
    "        else:\n",
    "            s2_dict[s2[i - len(s1)]] -= 1\n",
    "            \n",
    "        s2_dict[s2[i]] += 1\n",
    "        \n",
    "        if s1_dict == s2_dict:\n",
    "            return True\n",
    "        \n",
    "        i += 1\n",
    "\n",
    "    return False"
   ]
  },
  {
   "cell_type": "code",
   "execution_count": 27,
   "id": "f4c806e2-b8ae-48bd-8938-a6e405085d1f",
   "metadata": {},
   "outputs": [
    {
     "data": {
      "text/plain": [
       "True"
      ]
     },
     "execution_count": 27,
     "metadata": {},
     "output_type": "execute_result"
    }
   ],
   "source": [
    "checkInclusion(s1 = \"ab\", s2 = \"eidbaooo\")"
   ]
  },
  {
   "cell_type": "code",
   "execution_count": 28,
   "id": "7d28b498-199c-468a-b36f-0f33be25efb5",
   "metadata": {},
   "outputs": [
    {
     "data": {
      "text/plain": [
       "False"
      ]
     },
     "execution_count": 28,
     "metadata": {},
     "output_type": "execute_result"
    }
   ],
   "source": [
    "checkInclusion(s1 = \"ab\", s2 = \"eidboaoo\")"
   ]
  }
 ],
 "metadata": {
  "kernelspec": {
   "display_name": "leetcode",
   "language": "python",
   "name": "leetcode"
  },
  "language_info": {
   "codemirror_mode": {
    "name": "ipython",
    "version": 3
   },
   "file_extension": ".py",
   "mimetype": "text/x-python",
   "name": "python",
   "nbconvert_exporter": "python",
   "pygments_lexer": "ipython3",
   "version": "3.9.18"
  }
 },
 "nbformat": 4,
 "nbformat_minor": 5
}
