{
 "cells": [
  {
   "cell_type": "markdown",
   "id": "c310bcf3-92ae-4f34-ab85-e0713e815360",
   "metadata": {},
   "source": [
    "## 849. Maximize Distance to Closest Person"
   ]
  },
  {
   "cell_type": "code",
   "execution_count": 69,
   "id": "f96f8215-e14a-46e5-9cf0-e0f088723ce9",
   "metadata": {},
   "outputs": [],
   "source": [
    "def maxDistToClosest(seats):\n",
    "    maxLen = 1\n",
    "    last_zero_id = -1\n",
    "\n",
    "    i = 0\n",
    "\n",
    "    while i < len(seats) and seats[i] == 0:\n",
    "        i += 1\n",
    "        \n",
    "    maxLen = max(maxLen, i)\n",
    "\n",
    "    i = len(seats)-1\n",
    "\n",
    "    while i > -1 and seats[i] == 0:\n",
    "        i -= 1\n",
    "        \n",
    "    maxLen = max(maxLen, len(seats) - 1 - i)\n",
    "        \n",
    "    i  = 0\n",
    "\n",
    "    while i < len(seats):\n",
    "        if seats[i] == 1:\n",
    "            i += 1\n",
    "            continue\n",
    "        last_zero_id = i\n",
    "        while i < len(seats) and seats[i] == 0:\n",
    "            i += 1\n",
    "        maxLen = max(maxLen, (i - last_zero_id + 1) // 2)\n",
    "\n",
    "    return maxLen    "
   ]
  },
  {
   "cell_type": "code",
   "execution_count": 70,
   "id": "7841cbb6-f26b-4dce-a29c-699adedaef67",
   "metadata": {},
   "outputs": [],
   "source": [
    "\n",
    "#          v\n",
    "# [1,0,0,0,1,0,1]\n",
    "#    ^"
   ]
  },
  {
   "cell_type": "code",
   "execution_count": 71,
   "id": "c0e6a22b-ec90-45d6-9b04-50784d5d9ea4",
   "metadata": {},
   "outputs": [
    {
     "data": {
      "text/plain": [
       "2"
      ]
     },
     "execution_count": 71,
     "metadata": {},
     "output_type": "execute_result"
    }
   ],
   "source": [
    "maxDistToClosest(seats = [1,0,0,0,1,0,1])"
   ]
  },
  {
   "cell_type": "code",
   "execution_count": 72,
   "id": "64d0298b-491e-4084-91ec-ec64702d1b36",
   "metadata": {},
   "outputs": [
    {
     "data": {
      "text/plain": [
       "3"
      ]
     },
     "execution_count": 72,
     "metadata": {},
     "output_type": "execute_result"
    }
   ],
   "source": [
    "maxDistToClosest(seats = [1,0,0,0])"
   ]
  },
  {
   "cell_type": "code",
   "execution_count": 73,
   "id": "d31f2172-0b06-4be7-82b3-d97dd97ab608",
   "metadata": {},
   "outputs": [
    {
     "data": {
      "text/plain": [
       "1"
      ]
     },
     "execution_count": 73,
     "metadata": {},
     "output_type": "execute_result"
    }
   ],
   "source": [
    "maxDistToClosest(seats = [0,1])"
   ]
  },
  {
   "cell_type": "code",
   "execution_count": 74,
   "id": "4d90f661-4918-4860-ab74-881e34e845b4",
   "metadata": {},
   "outputs": [
    {
     "data": {
      "text/plain": [
       "6"
      ]
     },
     "execution_count": 74,
     "metadata": {},
     "output_type": "execute_result"
    }
   ],
   "source": [
    "maxDistToClosest(seats = [1,0,0,0,0,0,0])"
   ]
  },
  {
   "cell_type": "code",
   "execution_count": 75,
   "id": "e455604a-a2fc-43f5-ab8b-eddf60db7051",
   "metadata": {},
   "outputs": [
    {
     "data": {
      "text/plain": [
       "6"
      ]
     },
     "execution_count": 75,
     "metadata": {},
     "output_type": "execute_result"
    }
   ],
   "source": [
    "maxDistToClosest(seats = [0,0,0,0,0,0,1])"
   ]
  },
  {
   "cell_type": "code",
   "execution_count": 76,
   "id": "fe0d0b1e-8882-4612-9862-b00b43341d2c",
   "metadata": {},
   "outputs": [
    {
     "data": {
      "text/plain": [
       "5"
      ]
     },
     "execution_count": 76,
     "metadata": {},
     "output_type": "execute_result"
    }
   ],
   "source": [
    "maxDistToClosest(seats = [0,0,0,0,0,1,0])"
   ]
  },
  {
   "cell_type": "code",
   "execution_count": 77,
   "id": "95bc279a-e8c9-4ec4-9549-2a88085edb4a",
   "metadata": {},
   "outputs": [
    {
     "data": {
      "text/plain": [
       "5"
      ]
     },
     "execution_count": 77,
     "metadata": {},
     "output_type": "execute_result"
    }
   ],
   "source": [
    "maxDistToClosest(seats = [0,1,0,0,0,0,0])"
   ]
  },
  {
   "cell_type": "code",
   "execution_count": null,
   "id": "d93f8cd8-228d-4f78-bbd3-bac6f1f52a89",
   "metadata": {},
   "outputs": [],
   "source": []
  }
 ],
 "metadata": {
  "kernelspec": {
   "display_name": "leetcode",
   "language": "python",
   "name": "leetcode"
  },
  "language_info": {
   "codemirror_mode": {
    "name": "ipython",
    "version": 3
   },
   "file_extension": ".py",
   "mimetype": "text/x-python",
   "name": "python",
   "nbconvert_exporter": "python",
   "pygments_lexer": "ipython3",
   "version": "3.9.18"
  }
 },
 "nbformat": 4,
 "nbformat_minor": 5
}
