{
 "cells": [
  {
   "cell_type": "markdown",
   "id": "a23215be-0b3f-46ff-9e22-8c5a6f05b5cb",
   "metadata": {},
   "source": [
    "## 33. Search in Rotated Sorted Array"
   ]
  },
  {
   "cell_type": "code",
   "execution_count": 14,
   "id": "b7d79ff2-12c4-45ee-8a28-8ca691469c9f",
   "metadata": {},
   "outputs": [],
   "source": [
    "def search(nums, target):\n",
    "    l, r = 0, len(nums) - 1\n",
    "\n",
    "    while l <= r:\n",
    "        mid = (l + r) // 2\n",
    "        if nums[mid] == target:\n",
    "            return mid\n",
    "        \n",
    "        if nums[l] <= nums[mid]:\n",
    "            if nums[mid] < target or target < nums[l]:\n",
    "                l = mid + 1\n",
    "            else:\n",
    "                r = mid - 1\n",
    "        else:\n",
    "            if nums[r] < target or target < nums[mid]:\n",
    "                r = mid - 1\n",
    "            else:\n",
    "                l = mid + 1\n",
    "\n",
    "    return -1"
   ]
  },
  {
   "cell_type": "code",
   "execution_count": 15,
   "id": "1d53306f-11fd-4cde-b57d-58a08e9ac06c",
   "metadata": {},
   "outputs": [
    {
     "data": {
      "text/plain": [
       "4"
      ]
     },
     "execution_count": 15,
     "metadata": {},
     "output_type": "execute_result"
    }
   ],
   "source": [
    "search(nums=[4,5,6,7,0,1,2], target=0)"
   ]
  },
  {
   "cell_type": "code",
   "execution_count": 16,
   "id": "41ff2523-c35b-4eea-8cc6-275a2cb6cc30",
   "metadata": {},
   "outputs": [
    {
     "data": {
      "text/plain": [
       "-1"
      ]
     },
     "execution_count": 16,
     "metadata": {},
     "output_type": "execute_result"
    }
   ],
   "source": [
    "search(nums=[5,6,7,0,1,2,4], target=3)"
   ]
  },
  {
   "cell_type": "code",
   "execution_count": 17,
   "id": "9b34ae31-a77c-4c28-915c-e891c8fec477",
   "metadata": {},
   "outputs": [
    {
     "data": {
      "text/plain": [
       "-1"
      ]
     },
     "execution_count": 17,
     "metadata": {},
     "output_type": "execute_result"
    }
   ],
   "source": [
    "search(nums=[1], target=0)"
   ]
  },
  {
   "cell_type": "code",
   "execution_count": null,
   "id": "aa6cd67a",
   "metadata": {},
   "outputs": [],
   "source": []
  }
 ],
 "metadata": {
  "kernelspec": {
   "display_name": "Python 3 (ipykernel)",
   "language": "python",
   "name": "python3"
  },
  "language_info": {
   "codemirror_mode": {
    "name": "ipython",
    "version": 3
   },
   "file_extension": ".py",
   "mimetype": "text/x-python",
   "name": "python",
   "nbconvert_exporter": "python",
   "pygments_lexer": "ipython3",
   "version": "3.9.6"
  }
 },
 "nbformat": 4,
 "nbformat_minor": 5
}
