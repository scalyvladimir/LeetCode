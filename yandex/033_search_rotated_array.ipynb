{
 "cells": [
  {
   "cell_type": "markdown",
   "id": "a23215be-0b3f-46ff-9e22-8c5a6f05b5cb",
   "metadata": {},
   "source": [
    "## 33. Search in Rotated Sorted Array"
   ]
  },
  {
   "cell_type": "code",
   "execution_count": 1,
   "id": "3ae6cc1b-48ec-4c42-be55-83b55f1256cd",
   "metadata": {},
   "outputs": [],
   "source": [
    "def bin_search(nums, target):\n",
    "    l, r = 0, len(nums) - 1\n",
    "\n",
    "    while l < r:\n",
    "        mid = (l + r) // 2\n",
    "        if nums[mid] > target:\n",
    "            r = mid\n",
    "        elif nums[mid] < target:\n",
    "            l = mid\n",
    "        else:\n",
    "            return mid\n",
    "    return -1"
   ]
  },
  {
   "cell_type": "code",
   "execution_count": 43,
   "id": "b7d79ff2-12c4-45ee-8a28-8ca691469c9f",
   "metadata": {},
   "outputs": [],
   "source": [
    "def median_search(nums):\n",
    "    l, r = 0, len(nums) - 1\n",
    "\n",
    "    while l < r:\n",
    "        mid = (l + r) // 2\n",
    "        print(nums[mid])\n",
    "        if nums[l] < nums[mid] < nums[r]:\n",
    "            return mid\n",
    "        elif nums[l] > nums[mid]:\n",
    "            l = mid\n",
    "        elif nums[mid] > nums[r]:\n",
    "            r = mid\n",
    "    return -1"
   ]
  },
  {
   "cell_type": "code",
   "execution_count": 44,
   "id": "1d53306f-11fd-4cde-b57d-58a08e9ac06c",
   "metadata": {},
   "outputs": [
    {
     "name": "stdout",
     "output_type": "stream",
     "text": [
      "7\n",
      "5\n"
     ]
    },
    {
     "data": {
      "text/plain": [
       "1"
      ]
     },
     "execution_count": 44,
     "metadata": {},
     "output_type": "execute_result"
    }
   ],
   "source": [
    "median_search(nums=[4,5,6,7,0,1,2])"
   ]
  },
  {
   "cell_type": "code",
   "execution_count": 41,
   "id": "41ff2523-c35b-4eea-8cc6-275a2cb6cc30",
   "metadata": {},
   "outputs": [
    {
     "data": {
      "text/plain": [
       "4"
      ]
     },
     "execution_count": 41,
     "metadata": {},
     "output_type": "execute_result"
    }
   ],
   "source": [
    "median_search(nums=[5,6,7,0,1,2,4])"
   ]
  },
  {
   "cell_type": "code",
   "execution_count": null,
   "id": "e02f2b27-40a2-48f4-ba5f-6df52fda3932",
   "metadata": {},
   "outputs": [],
   "source": [
    "def search(nums, target):"
   ]
  },
  {
   "cell_type": "code",
   "execution_count": 7,
   "id": "15c0f654-350d-478a-b643-ccb4329b0ff2",
   "metadata": {},
   "outputs": [
    {
     "data": {
      "text/plain": [
       "-1"
      ]
     },
     "execution_count": 7,
     "metadata": {},
     "output_type": "execute_result"
    }
   ],
   "source": [
    "bin_search(nums=[4,5,6,7,0,1,2], target=0)"
   ]
  },
  {
   "cell_type": "code",
   "execution_count": 8,
   "id": "7dfea207-c094-47fa-b105-3817b8681e53",
   "metadata": {},
   "outputs": [
    {
     "data": {
      "text/plain": [
       "-1"
      ]
     },
     "execution_count": 8,
     "metadata": {},
     "output_type": "execute_result"
    }
   ],
   "source": [
    "bin_search(nums=[4,5,6,7,0,1,2], target=3)"
   ]
  },
  {
   "cell_type": "code",
   "execution_count": 9,
   "id": "9b34ae31-a77c-4c28-915c-e891c8fec477",
   "metadata": {},
   "outputs": [
    {
     "data": {
      "text/plain": [
       "-1"
      ]
     },
     "execution_count": 9,
     "metadata": {},
     "output_type": "execute_result"
    }
   ],
   "source": [
    "bin_search(nums=[1], target=0)"
   ]
  }
 ],
 "metadata": {
  "kernelspec": {
   "display_name": "leetcode",
   "language": "python",
   "name": "leetcode"
  },
  "language_info": {
   "codemirror_mode": {
    "name": "ipython",
    "version": 3
   },
   "file_extension": ".py",
   "mimetype": "text/x-python",
   "name": "python",
   "nbconvert_exporter": "python",
   "pygments_lexer": "ipython3",
   "version": "3.9.18"
  }
 },
 "nbformat": 4,
 "nbformat_minor": 5
}
