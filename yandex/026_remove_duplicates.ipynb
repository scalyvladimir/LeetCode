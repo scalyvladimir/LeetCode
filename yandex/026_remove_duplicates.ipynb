{
 "cells": [
  {
   "cell_type": "markdown",
   "id": "bc782faf-cdeb-4e27-ac18-7195f90468d9",
   "metadata": {},
   "source": [
    "## 26. Remove Duplicates from Sorted Array"
   ]
  },
  {
   "cell_type": "code",
   "execution_count": 18,
   "id": "98c906ad-ace2-4cc1-982a-999fd2dff5a8",
   "metadata": {},
   "outputs": [],
   "source": [
    "def removeDuplicates(nums):\n",
    "    l = 0\n",
    "    r = 1\n",
    "\n",
    "    while r < len(nums):\n",
    "        while r < len(nums) and nums[l] == nums[r]:\n",
    "            r += 1\n",
    "        if l + 1 < len(nums) and r < len(nums):\n",
    "            nums[l+1], nums[r] = nums[r], nums[l+1]\n",
    "            l += 1\n",
    "        r += 1\n",
    "    \n",
    "    return l + 1"
   ]
  },
  {
   "cell_type": "code",
   "execution_count": 19,
   "id": "20831767-967c-474f-9326-5744ddb4fcd2",
   "metadata": {},
   "outputs": [
    {
     "data": {
      "text/plain": [
       "2"
      ]
     },
     "execution_count": 19,
     "metadata": {},
     "output_type": "execute_result"
    }
   ],
   "source": [
    "removeDuplicates(nums=[1,1,2])"
   ]
  },
  {
   "cell_type": "code",
   "execution_count": 20,
   "id": "60712959-4973-4b80-a494-5f7a47a2f222",
   "metadata": {},
   "outputs": [
    {
     "data": {
      "text/plain": [
       "5"
      ]
     },
     "execution_count": 20,
     "metadata": {},
     "output_type": "execute_result"
    }
   ],
   "source": [
    "removeDuplicates(nums=[0,0,1,1,1,2,2,3,3,4])"
   ]
  },
  {
   "cell_type": "code",
   "execution_count": 21,
   "id": "bbe4e43c-64d9-42ca-8dd8-fb56260e277b",
   "metadata": {},
   "outputs": [
    {
     "data": {
      "text/plain": [
       "1"
      ]
     },
     "execution_count": 21,
     "metadata": {},
     "output_type": "execute_result"
    }
   ],
   "source": [
    "removeDuplicates(nums=[1])"
   ]
  },
  {
   "cell_type": "code",
   "execution_count": 23,
   "id": "fd16432d-71b0-4a5e-b7b5-61206fdb3848",
   "metadata": {},
   "outputs": [
    {
     "data": {
      "text/plain": [
       "3"
      ]
     },
     "execution_count": 23,
     "metadata": {},
     "output_type": "execute_result"
    }
   ],
   "source": [
    "removeDuplicates(nums=[1, 1, 1, 1, 2, 2, 2, 1])"
   ]
  }
 ],
 "metadata": {
  "kernelspec": {
   "display_name": "leetcode",
   "language": "python",
   "name": "leetcode"
  },
  "language_info": {
   "codemirror_mode": {
    "name": "ipython",
    "version": 3
   },
   "file_extension": ".py",
   "mimetype": "text/x-python",
   "name": "python",
   "nbconvert_exporter": "python",
   "pygments_lexer": "ipython3",
   "version": "3.9.18"
  }
 },
 "nbformat": 4,
 "nbformat_minor": 5
}
