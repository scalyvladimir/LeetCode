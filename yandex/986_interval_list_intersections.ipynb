{
 "cells": [
  {
   "cell_type": "markdown",
   "id": "942432bc-2313-4cd4-b5b8-4062cafbcff8",
   "metadata": {},
   "source": [
    "## 986. Interval List Intersections"
   ]
  },
  {
   "cell_type": "code",
   "execution_count": 16,
   "id": "eec3fe9f-114f-4ead-af38-c438df22d672",
   "metadata": {},
   "outputs": [],
   "source": [
    "def get_intersection(a, b):\n",
    "    res = []\n",
    "    \n",
    "    if min(a) <= min(b):\n",
    "        left = a\n",
    "        right = b\n",
    "    elif min(b) <= min(a):\n",
    "        left = b\n",
    "        right = a\n",
    "\n",
    "    if max(left) >= min(right):\n",
    "        right_lim = min(left[1], right[1])\n",
    "        left_lim = max(left[0], right[0])\n",
    "        res = [left_lim, right_lim]\n",
    "\n",
    "    return res"
   ]
  },
  {
   "cell_type": "code",
   "execution_count": 75,
   "id": "7708cf8f-3063-48b5-b0cb-129ec7f9fbcd",
   "metadata": {},
   "outputs": [],
   "source": [
    "def intervalIntersection(firstList, secondList):\n",
    "    res = []\n",
    "    if not firstList and not secondList:\n",
    "        return res\n",
    "        \n",
    "    if not firstList:\n",
    "        return secondList\n",
    "    \n",
    "    if not secondList:\n",
    "        return firstList\n",
    "\n",
    "    i, j = 0, 0\n",
    "\n",
    "    while i < len(firstList) and j < len(secondList):\n",
    "\n",
    "        a, b = firstList[i], secondList[j]\n",
    "\n",
    "        overlap = get_intersection(a, b)\n",
    "\n",
    "        # print(f'a:{a}')\n",
    "        # print(f'b:{b}')\n",
    "        # print(f'overlap:{overlap}')\n",
    "        # print()\n",
    "\n",
    "        if overlap:\n",
    "            res.append(overlap)\n",
    "\n",
    "        if a[1] > b[1]:\n",
    "            j += 1\n",
    "        else:\n",
    "            i += 1                \n",
    "\n",
    "    if i < len(firstList):\n",
    "        a, b = res[-1], firstList[i]\n",
    "\n",
    "        overlap = get_intersection(a, b)\n",
    "        if overlap:\n",
    "            res[-1] = overlap\n",
    "            # i += 1\n",
    "        # if i < len(firstList):\n",
    "            # res += firstList[i-1:]\n",
    "\n",
    "    if j < len(secondList):\n",
    "        a, b = res[-1], secondList[j]\n",
    "\n",
    "        overlap = get_intersection(a, b)\n",
    "        if overlap:\n",
    "            res[-1] = overlap\n",
    "            # j += 1\n",
    "        # if j < len(secondList):\n",
    "          # res += secondList[j-1:]\n",
    "        \n",
    "    return res"
   ]
  },
  {
   "cell_type": "code",
   "execution_count": 76,
   "id": "1a8fb05e-fbf4-499f-b070-171900e90cdb",
   "metadata": {},
   "outputs": [
    {
     "data": {
      "text/plain": [
       "[[1, 3], [5, 9]]"
      ]
     },
     "execution_count": 76,
     "metadata": {},
     "output_type": "execute_result"
    }
   ],
   "source": [
    "intervalIntersection(\n",
    "    firstList=[[1,3],[5,9]],\n",
    "    secondList=[]\n",
    ")"
   ]
  },
  {
   "cell_type": "code",
   "execution_count": 77,
   "id": "7b700b0a-df19-4cea-9247-d3b1299fafaa",
   "metadata": {},
   "outputs": [
    {
     "data": {
      "text/plain": [
       "[[1, 2], [5, 5], [8, 10], [15, 23], [24, 24], [25, 25]]"
      ]
     },
     "execution_count": 77,
     "metadata": {},
     "output_type": "execute_result"
    }
   ],
   "source": [
    "intervalIntersection(\n",
    "    firstList=[[0,2],[5,10],[13,23],[24,25]],\n",
    "    secondList=[[1,5],[8,12],[15,24],[25,26]]\n",
    ")"
   ]
  },
  {
   "cell_type": "code",
   "execution_count": 78,
   "id": "81c6161b-d557-4e9f-bdb5-8d48c4488ed0",
   "metadata": {},
   "outputs": [
    {
     "data": {
      "text/plain": [
       "[[8, 11]]"
      ]
     },
     "execution_count": 78,
     "metadata": {},
     "output_type": "execute_result"
    }
   ],
   "source": [
    "intervalIntersection(\n",
    "    firstList=[[4,11]],\n",
    "    secondList=[[1,2],[8,11],[12,13],[14,15],[17,19]]\n",
    ")"
   ]
  },
  {
   "cell_type": "code",
   "execution_count": null,
   "id": "02315998-0eb9-41bd-86df-919396f1a9f8",
   "metadata": {},
   "outputs": [],
   "source": []
  }
 ],
 "metadata": {
  "kernelspec": {
   "display_name": "leetcode",
   "language": "python",
   "name": "leetcode"
  },
  "language_info": {
   "codemirror_mode": {
    "name": "ipython",
    "version": 3
   },
   "file_extension": ".py",
   "mimetype": "text/x-python",
   "name": "python",
   "nbconvert_exporter": "python",
   "pygments_lexer": "ipython3",
   "version": "3.9.18"
  }
 },
 "nbformat": 4,
 "nbformat_minor": 5
}
