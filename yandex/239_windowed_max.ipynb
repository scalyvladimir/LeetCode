{
 "cells": [
  {
   "cell_type": "code",
   "execution_count": 2,
   "id": "472243cf-c874-4bde-8836-28cbe3a1d55f",
   "metadata": {},
   "outputs": [],
   "source": [
    "from collections import deque"
   ]
  },
  {
   "cell_type": "code",
   "execution_count": 250,
   "id": "267e6d4b-5050-4e62-8cc4-aa4035f8d9c1",
   "metadata": {},
   "outputs": [],
   "source": [
    "def maxSlidingWindow(nums, k):\n",
    "    q = deque()\n",
    "    ans = []\n",
    "    \n",
    "    for i, num in enumerate(nums):\n",
    "        while q and num > nums[q[-1]]:\n",
    "            q.pop()\n",
    "        \n",
    "        q.append(i)\n",
    "        while q[0] < i - k + 1:\n",
    "            q.popleft()\n",
    "\n",
    "        print(q)\n",
    "        if i >= k - 1:\n",
    "            ans.append(nums[q[0]])\n",
    "    \n",
    "    return ans"
   ]
  },
  {
   "cell_type": "code",
   "execution_count": 251,
   "id": "c872b2d2-d764-4256-9c36-d0b54e952c7f",
   "metadata": {},
   "outputs": [
    {
     "name": "stdout",
     "output_type": "stream",
     "text": [
      "deque([0])\n",
      "deque([1])\n",
      "deque([1, 2])\n",
      "deque([1, 2, 3])\n",
      "deque([4])\n",
      "deque([4, 5])\n",
      "deque([6])\n",
      "deque([7])\n"
     ]
    },
    {
     "data": {
      "text/plain": [
       "[3, 3, 5, 5, 6, 7]"
      ]
     },
     "execution_count": 251,
     "metadata": {},
     "output_type": "execute_result"
    }
   ],
   "source": [
    "maxSlidingWindow(nums=[1,3,-1,-3,5,3,6,7], k=3)"
   ]
  },
  {
   "cell_type": "code",
   "execution_count": 252,
   "id": "6fb22603-25f0-429c-a7da-c00c3da1dc54",
   "metadata": {},
   "outputs": [
    {
     "name": "stdout",
     "output_type": "stream",
     "text": [
      "deque([0])\n"
     ]
    },
    {
     "data": {
      "text/plain": [
       "[1]"
      ]
     },
     "execution_count": 252,
     "metadata": {},
     "output_type": "execute_result"
    }
   ],
   "source": [
    "maxSlidingWindow(nums=[1], k=1)"
   ]
  },
  {
   "cell_type": "code",
   "execution_count": 253,
   "id": "50ee2694-1105-4181-814c-5b206a366e9d",
   "metadata": {},
   "outputs": [
    {
     "name": "stdout",
     "output_type": "stream",
     "text": [
      "deque([0])\n",
      "deque([1])\n"
     ]
    },
    {
     "data": {
      "text/plain": [
       "[1, -1]"
      ]
     },
     "execution_count": 253,
     "metadata": {},
     "output_type": "execute_result"
    }
   ],
   "source": [
    "maxSlidingWindow(nums=[1,-1], k=1)"
   ]
  },
  {
   "cell_type": "code",
   "execution_count": 254,
   "id": "33d66043-1caa-44d1-9234-c44a85eff608",
   "metadata": {},
   "outputs": [
    {
     "name": "stdout",
     "output_type": "stream",
     "text": [
      "deque([0])\n",
      "deque([0, 1])\n",
      "deque([2])\n"
     ]
    },
    {
     "data": {
      "text/plain": [
       "[7, 4]"
      ]
     },
     "execution_count": 254,
     "metadata": {},
     "output_type": "execute_result"
    }
   ],
   "source": [
    "maxSlidingWindow(nums=[7,2,4], k=2)"
   ]
  },
  {
   "cell_type": "code",
   "execution_count": null,
   "id": "c3f82cd8-1cee-42bb-a261-efbaf9a2b348",
   "metadata": {},
   "outputs": [],
   "source": []
  }
 ],
 "metadata": {
  "kernelspec": {
   "display_name": "leetcode",
   "language": "python",
   "name": "leetcode"
  },
  "language_info": {
   "codemirror_mode": {
    "name": "ipython",
    "version": 3
   },
   "file_extension": ".py",
   "mimetype": "text/x-python",
   "name": "python",
   "nbconvert_exporter": "python",
   "pygments_lexer": "ipython3",
   "version": "3.9.18"
  }
 },
 "nbformat": 4,
 "nbformat_minor": 5
}
