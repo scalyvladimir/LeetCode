{
 "cells": [
  {
   "cell_type": "markdown",
   "id": "60240981-17f9-497d-820a-ab54f6c41bce",
   "metadata": {},
   "source": [
    "## 356. Line Reflection"
   ]
  },
  {
   "cell_type": "code",
   "execution_count": 8,
   "id": "89f20b31-ba31-421f-b8d7-5a71f4ad4f8d",
   "metadata": {},
   "outputs": [],
   "source": [
    "def isReflected(points):\n",
    "    uniq_pts = set([tuple(pt) for pt in points]) \n",
    "    max_x = points[0][0] \n",
    "    min_x = points[0][0]\n",
    "    \n",
    "    for x, y in uniq_pts:\n",
    "        max_x = max(max_x, x)\n",
    "        min_x = min(min_x, x)\n",
    "    \n",
    "    mid = min_x + max_x\n",
    "    for x, y in uniq_pts:\n",
    "        if (mid - x, y) not in uniq_pts:\n",
    "            return False\n",
    "    return True"
   ]
  },
  {
   "cell_type": "code",
   "execution_count": 9,
   "id": "58f68bcb-904c-4f58-b085-2fec29f8dcf4",
   "metadata": {},
   "outputs": [
    {
     "data": {
      "text/plain": [
       "True"
      ]
     },
     "execution_count": 9,
     "metadata": {},
     "output_type": "execute_result"
    }
   ],
   "source": [
    "isReflected(points=[[1,1],[-1,1]])"
   ]
  },
  {
   "cell_type": "code",
   "execution_count": 10,
   "id": "88a6d443-21ee-4776-aa97-f66a498c10e7",
   "metadata": {},
   "outputs": [
    {
     "data": {
      "text/plain": [
       "False"
      ]
     },
     "execution_count": 10,
     "metadata": {},
     "output_type": "execute_result"
    }
   ],
   "source": [
    "isReflected(points=[[1,1],[-1,-1]])"
   ]
  }
 ],
 "metadata": {
  "kernelspec": {
   "display_name": "leetcode",
   "language": "python",
   "name": "leetcode"
  },
  "language_info": {
   "codemirror_mode": {
    "name": "ipython",
    "version": 3
   },
   "file_extension": ".py",
   "mimetype": "text/x-python",
   "name": "python",
   "nbconvert_exporter": "python",
   "pygments_lexer": "ipython3",
   "version": "3.9.18"
  }
 },
 "nbformat": 4,
 "nbformat_minor": 5
}
