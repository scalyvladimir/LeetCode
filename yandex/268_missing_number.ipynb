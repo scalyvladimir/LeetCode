{
 "cells": [
  {
   "cell_type": "markdown",
   "id": "f3cbbdd1-11e9-4d69-b310-607cb725172d",
   "metadata": {},
   "source": [
    "## 268. Missing Number"
   ]
  },
  {
   "cell_type": "code",
   "execution_count": 34,
   "id": "2c876b4a-c77a-4510-8198-6b2158ea9372",
   "metadata": {},
   "outputs": [],
   "source": [
    "def missingNumber(nums):\n",
    "    return len(nums) * (len(nums) + 1) // 2 - sum(nums)"
   ]
  },
  {
   "cell_type": "code",
   "execution_count": 35,
   "id": "95cbbecb-cc66-4d40-add0-2d8725092c48",
   "metadata": {},
   "outputs": [
    {
     "data": {
      "text/plain": [
       "2"
      ]
     },
     "execution_count": 35,
     "metadata": {},
     "output_type": "execute_result"
    }
   ],
   "source": [
    "missingNumber(nums=[3,0,1])"
   ]
  },
  {
   "cell_type": "code",
   "execution_count": 36,
   "id": "325b767e-7ce3-43fe-865f-18de207c49f3",
   "metadata": {},
   "outputs": [
    {
     "data": {
      "text/plain": [
       "2"
      ]
     },
     "execution_count": 36,
     "metadata": {},
     "output_type": "execute_result"
    }
   ],
   "source": [
    "missingNumber(nums=[0, 1])"
   ]
  },
  {
   "cell_type": "code",
   "execution_count": 37,
   "id": "925e34e7-6ce2-41b2-9cd2-ba49080039eb",
   "metadata": {},
   "outputs": [
    {
     "data": {
      "text/plain": [
       "8"
      ]
     },
     "execution_count": 37,
     "metadata": {},
     "output_type": "execute_result"
    }
   ],
   "source": [
    "missingNumber(nums=[9,6,4,2,3,5,7,0,1])"
   ]
  }
 ],
 "metadata": {
  "kernelspec": {
   "display_name": "leetcode",
   "language": "python",
   "name": "leetcode"
  },
  "language_info": {
   "codemirror_mode": {
    "name": "ipython",
    "version": 3
   },
   "file_extension": ".py",
   "mimetype": "text/x-python",
   "name": "python",
   "nbconvert_exporter": "python",
   "pygments_lexer": "ipython3",
   "version": "3.9.18"
  }
 },
 "nbformat": 4,
 "nbformat_minor": 5
}
