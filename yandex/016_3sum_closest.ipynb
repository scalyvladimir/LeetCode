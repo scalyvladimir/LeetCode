{
 "cells": [
  {
   "cell_type": "markdown",
   "id": "56439cd4-8c90-4875-be90-761746f8ca6a",
   "metadata": {},
   "source": [
    "## 16. 3Sum Closest"
   ]
  },
  {
   "cell_type": "code",
   "execution_count": 3,
   "id": "259eaf97-fd9d-47f6-b489-040391971b33",
   "metadata": {},
   "outputs": [],
   "source": [
    "def partition(l, r, arr):\n",
    "    pivot = arr[r-1]\n",
    "    i = l - 1\n",
    "    for j in range(l, r):\n",
    "        if arr[j] <= pivot:\n",
    "            i += 1\n",
    "            if i != j:\n",
    "                arr[i], arr[j] = arr[j], arr[i]\n",
    "    return i\n",
    "\n",
    "def qSort(l, r, arr):\n",
    "    if l < r:\n",
    "        p = partition(l, r, arr)\n",
    "        qSort(l, p, arr)\n",
    "        qSort(p+1, r, arr)"
   ]
  },
  {
   "cell_type": "code",
   "execution_count": 42,
   "id": "ff36b3b1-d517-4f4a-8119-955c38430e8c",
   "metadata": {},
   "outputs": [],
   "source": [
    "def threeSumClosest(nums, target):\n",
    "    qSort(0, len(nums), nums)\n",
    "    \n",
    "    ans = sum(nums[:3])\n",
    "\n",
    "    el = 0\n",
    "\n",
    "    for el in range(len(nums)-2):\n",
    "        if el > 0 and nums[el] == nums[el-1]:\n",
    "            continue\n",
    "\n",
    "        beg = el + 1\n",
    "        end = len(nums)-1\n",
    "        \n",
    "        while beg < end:\n",
    "            tmp_sum = nums[beg] + nums[el] + nums[end]\n",
    "            if abs(tmp_sum - target) < abs(ans - target):\n",
    "                ans = tmp_sum\n",
    "            if tmp_sum < target:\n",
    "                beg += 1\n",
    "            elif tmp_sum > target:\n",
    "                end -= 1\n",
    "            else:\n",
    "                return tmp_sum\n",
    "\n",
    "    return ans"
   ]
  },
  {
   "cell_type": "code",
   "execution_count": 43,
   "id": "48707095-a9ba-4045-8e75-476e24aacc23",
   "metadata": {},
   "outputs": [
    {
     "data": {
      "text/plain": [
       "2"
      ]
     },
     "execution_count": 43,
     "metadata": {},
     "output_type": "execute_result"
    }
   ],
   "source": [
    "threeSumClosest(nums=[-1,2,1,-4], target=1)"
   ]
  },
  {
   "cell_type": "code",
   "execution_count": 44,
   "id": "b84e8bab-2809-476c-8027-944085d85f1a",
   "metadata": {},
   "outputs": [
    {
     "data": {
      "text/plain": [
       "0"
      ]
     },
     "execution_count": 44,
     "metadata": {},
     "output_type": "execute_result"
    }
   ],
   "source": [
    "threeSumClosest(nums=[0,0,0], target=1)"
   ]
  },
  {
   "cell_type": "code",
   "execution_count": 45,
   "id": "e61a3cc9-2325-4112-8d55-369311fd6f79",
   "metadata": {},
   "outputs": [
    {
     "data": {
      "text/plain": [
       "3"
      ]
     },
     "execution_count": 45,
     "metadata": {},
     "output_type": "execute_result"
    }
   ],
   "source": [
    "threeSumClosest(nums=[0,1,2], target=0)"
   ]
  },
  {
   "cell_type": "code",
   "execution_count": null,
   "id": "0ec31b02-8a52-40e3-8dba-8cde6c52edc6",
   "metadata": {},
   "outputs": [],
   "source": []
  }
 ],
 "metadata": {
  "kernelspec": {
   "display_name": "leetcode",
   "language": "python",
   "name": "leetcode"
  },
  "language_info": {
   "codemirror_mode": {
    "name": "ipython",
    "version": 3
   },
   "file_extension": ".py",
   "mimetype": "text/x-python",
   "name": "python",
   "nbconvert_exporter": "python",
   "pygments_lexer": "ipython3",
   "version": "3.9.18"
  }
 },
 "nbformat": 4,
 "nbformat_minor": 5
}
