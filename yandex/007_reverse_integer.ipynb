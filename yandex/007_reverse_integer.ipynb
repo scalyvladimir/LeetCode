{
 "cells": [
  {
   "cell_type": "markdown",
   "id": "e3b1ceea-67d1-432f-9606-adc6e6b753b0",
   "metadata": {},
   "source": [
    "## 7. Reverse Integer"
   ]
  },
  {
   "cell_type": "code",
   "execution_count": 92,
   "id": "9b74482f-185a-40ef-aff2-40bb8432ff40",
   "metadata": {},
   "outputs": [],
   "source": [
    "def isGreater(lhs, rhs):\n",
    "    if len(lhs) > len(rhs):\n",
    "        return True\n",
    "    elif len(rhs) > len(lhs):\n",
    "        return False\n",
    "    else:\n",
    "        i = 0\n",
    "\n",
    "        while i < len(lhs) and lhs[i] == rhs[i]:\n",
    "            i += 1\n",
    "\n",
    "    return lhs[i] > rhs[i] if i < len(lhs) else False"
   ]
  },
  {
   "cell_type": "code",
   "execution_count": 205,
   "id": "24b63f55-9448-4039-877d-602d300e8dfb",
   "metadata": {},
   "outputs": [],
   "source": [
    "def reverse(num, cnt):\n",
    "    if cnt == 1:\n",
    "        return lhs > rhs\n",
    "    \n",
    "    return lhs % 10 * 10**(cnt-1) > rhs // 10**(cnt-1) or RecIsGreater(lhs // 10, rhs % 10**(cnt-1), cnt-1)"
   ]
  },
  {
   "cell_type": "code",
   "execution_count": 207,
   "id": "443b9649-ac72-4b64-a074-a51963377797",
   "metadata": {},
   "outputs": [],
   "source": [
    "# def reverse(x, gr_func):\n",
    "#     sign = False\n",
    "\n",
    "#     num = str(x)\n",
    "#     if '-' in num:\n",
    "#         num = num.strip('-')\n",
    "#         sign = True\n",
    "\n",
    "#     num = num[::-1]\n",
    "#     cmp_num = str(2**31) if sign else str(2**31-1)\n",
    "#     flag = isGreater(num, cmp_num)\n",
    "\n",
    "#     num = '-' + num if sign else num\n",
    "\n",
    "#     return int(num) if not flag else 0"
   ]
  },
  {
   "cell_type": "code",
   "execution_count": 256,
   "id": "d472267b-82ba-4194-9957-b48f2a7fc00b",
   "metadata": {},
   "outputs": [],
   "source": [
    "def rec_reverse(x):\n",
    "    sign = x < 0\n",
    "\n",
    "    cmp_num = 2**31 if sign else 2**31-1\n",
    "\n",
    "    x = abs(x)\n",
    "    rev_x = 0\n",
    "    cnt = 9\n",
    "    while x > 0 and cnt > 0:\n",
    "        rev_x = rev_x * 10 + x % 10\n",
    "\n",
    "        x //= 10\n",
    "        cnt -= 1\n",
    "\n",
    "    if cnt == 0 and x > 0:\n",
    "        if cmp_num // 10 >= rev_x and cmp_num % 10 >= x % 10:\n",
    "            rev_x = rev_x * 10 + x % 10\n",
    "        else:\n",
    "            return 0\n",
    "\n",
    "    num = int(-rev_x if sign else rev_x)\n",
    "\n",
    "    return num"
   ]
  },
  {
   "cell_type": "code",
   "execution_count": 257,
   "id": "66bbc439-e3df-44fe-8ed3-b9b21a059313",
   "metadata": {},
   "outputs": [],
   "source": [
    "assert rec_reverse(x=123) == 321"
   ]
  },
  {
   "cell_type": "code",
   "execution_count": 258,
   "id": "5a71bd6a-e29a-4607-8d18-aa08baaa84dc",
   "metadata": {},
   "outputs": [],
   "source": [
    "assert rec_reverse(x=-123) == -321"
   ]
  },
  {
   "cell_type": "code",
   "execution_count": 259,
   "id": "9c09dd00-a371-4149-a443-bfa2fb1d013d",
   "metadata": {},
   "outputs": [],
   "source": [
    "assert rec_reverse(x=120) == 21"
   ]
  },
  {
   "cell_type": "code",
   "execution_count": 260,
   "id": "1c77c729-606e-49cf-94e2-ba719d00e097",
   "metadata": {},
   "outputs": [],
   "source": [
    "assert rec_reverse(x=1534236469) == 0"
   ]
  },
  {
   "cell_type": "code",
   "execution_count": 261,
   "id": "9240424c-9e3f-4266-9942-1bba019c2e1c",
   "metadata": {},
   "outputs": [],
   "source": [
    "assert rec_reverse(x=-2147483412) == -2143847412"
   ]
  },
  {
   "cell_type": "code",
   "execution_count": 264,
   "id": "b6560e82-c9f6-47ad-b4de-9d11b42859f3",
   "metadata": {},
   "outputs": [],
   "source": [
    "assert rec_reverse(x=1463847412) == 2147483641"
   ]
  }
 ],
 "metadata": {
  "kernelspec": {
   "display_name": "leetcode",
   "language": "python",
   "name": "leetcode"
  },
  "language_info": {
   "codemirror_mode": {
    "name": "ipython",
    "version": 3
   },
   "file_extension": ".py",
   "mimetype": "text/x-python",
   "name": "python",
   "nbconvert_exporter": "python",
   "pygments_lexer": "ipython3",
   "version": "3.9.18"
  }
 },
 "nbformat": 4,
 "nbformat_minor": 5
}
