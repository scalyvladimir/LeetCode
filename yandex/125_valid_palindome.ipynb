{
 "cells": [
  {
   "cell_type": "markdown",
   "id": "b5a39ae4-4e2b-4138-9a83-ada752722d6f",
   "metadata": {},
   "source": [
    "## 125. Valid Palindrome"
   ]
  },
  {
   "cell_type": "code",
   "execution_count": 86,
   "id": "98c65e62-3537-47ce-aa89-7ec64c212267",
   "metadata": {},
   "outputs": [],
   "source": [
    " def isPalindrome(s):\n",
    "    \n",
    "    left = 0\n",
    "    right = len(s) - 1\n",
    "     \n",
    "    while left < right:\n",
    "        while left < len(s) and not s[left].isalnum().lower():\n",
    "            left += 1\n",
    "        while left < len(s) and not s[right].lower().isalnum():\n",
    "            right -= 1\n",
    "\n",
    "        if left < right and not s[left].lower() == s[right].lower(): \n",
    "            return False\n",
    "        else:\n",
    "            left += 1\n",
    "            right -= 1\n",
    "\n",
    "    return True"
   ]
  },
  {
   "cell_type": "code",
   "execution_count": 87,
   "id": "9e33b27d-4142-406c-9f00-0a424ae362b7",
   "metadata": {},
   "outputs": [
    {
     "data": {
      "text/plain": [
       "True"
      ]
     },
     "execution_count": 87,
     "metadata": {},
     "output_type": "execute_result"
    }
   ],
   "source": [
    "isPalindrome1(s=\"A man, a plan, a canal: Panama\")"
   ]
  },
  {
   "cell_type": "code",
   "execution_count": 88,
   "id": "a6c793f3-037a-4786-a5ef-37b9e1d51c27",
   "metadata": {},
   "outputs": [
    {
     "data": {
      "text/plain": [
       "False"
      ]
     },
     "execution_count": 88,
     "metadata": {},
     "output_type": "execute_result"
    }
   ],
   "source": [
    "isPalindrome1(s=\"race a car\")"
   ]
  },
  {
   "cell_type": "code",
   "execution_count": 89,
   "id": "006638aa-8ea5-4493-9991-ba57641a0975",
   "metadata": {},
   "outputs": [
    {
     "data": {
      "text/plain": [
       "True"
      ]
     },
     "execution_count": 89,
     "metadata": {},
     "output_type": "execute_result"
    }
   ],
   "source": [
    "isPalindrome1(s=\" \")"
   ]
  }
 ],
 "metadata": {
  "kernelspec": {
   "display_name": "leetcode",
   "language": "python",
   "name": "leetcode"
  },
  "language_info": {
   "codemirror_mode": {
    "name": "ipython",
    "version": 3
   },
   "file_extension": ".py",
   "mimetype": "text/x-python",
   "name": "python",
   "nbconvert_exporter": "python",
   "pygments_lexer": "ipython3",
   "version": "3.9.18"
  }
 },
 "nbformat": 4,
 "nbformat_minor": 5
}
