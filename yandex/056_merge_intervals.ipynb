{
 "cells": [
  {
   "cell_type": "markdown",
   "id": "64fabb98-dfce-49b8-9197-68058eaa2295",
   "metadata": {},
   "source": [
    "## 56. Merge Intervals"
   ]
  },
  {
   "cell_type": "code",
   "execution_count": 23,
   "id": "94fb89ec-b3eb-497c-a259-2a2007283ea1",
   "metadata": {},
   "outputs": [],
   "source": [
    "def merge(intervals):\n",
    "    if not intervals or len(intervals) == 1:\n",
    "        return intervals\n",
    "\n",
    "    intervals = sorted(intervals, key=lambda x: x[0])\n",
    "    \n",
    "    res = []\n",
    "\n",
    "    l, r = 0, 1\n",
    "\n",
    "    while l < len(intervals):\n",
    "        left_bound = intervals[l][0]\n",
    "        right_bound = intervals[l][1]\n",
    "        \n",
    "        while r < len(intervals) and intervals[r][0] <= right_bound:\n",
    "            right_bound = max(right_bound, intervals[r][1])\n",
    "            r += 1\n",
    "        \n",
    "        res.append([left_bound, right_bound])\n",
    "        l = r\n",
    "        r = l + 1     \n",
    "\n",
    "    return res"
   ]
  },
  {
   "cell_type": "code",
   "execution_count": 24,
   "id": "c3ac24d8-da41-440b-b8fc-b801ce90b195",
   "metadata": {},
   "outputs": [
    {
     "data": {
      "text/plain": [
       "[[1, 6], [8, 10], [15, 18]]"
      ]
     },
     "execution_count": 24,
     "metadata": {},
     "output_type": "execute_result"
    }
   ],
   "source": [
    "merge(intervals = [[1,3],[2,6],[8,10],[15,18]])"
   ]
  },
  {
   "cell_type": "code",
   "execution_count": 25,
   "id": "436d5c50-e361-4ec3-9e44-ec3387944aa9",
   "metadata": {},
   "outputs": [
    {
     "data": {
      "text/plain": [
       "[[1, 5]]"
      ]
     },
     "execution_count": 25,
     "metadata": {},
     "output_type": "execute_result"
    }
   ],
   "source": [
    "merge(intervals = [[1,4],[4,5]])"
   ]
  },
  {
   "cell_type": "code",
   "execution_count": 26,
   "id": "893f5d1f-db1b-4f51-aa93-7acafc70c1ac",
   "metadata": {},
   "outputs": [
    {
     "data": {
      "text/plain": [
       "[[1, 3], [15, 18]]"
      ]
     },
     "execution_count": 26,
     "metadata": {},
     "output_type": "execute_result"
    }
   ],
   "source": [
    "merge(intervals = [[1,3],[1,3],[1,3],[15,18]])"
   ]
  },
  {
   "cell_type": "code",
   "execution_count": 27,
   "id": "babbeb92-48a5-4de1-8850-29631120e7bd",
   "metadata": {},
   "outputs": [
    {
     "data": {
      "text/plain": [
       "[[1, 3], [4, 10]]"
      ]
     },
     "execution_count": 27,
     "metadata": {},
     "output_type": "execute_result"
    }
   ],
   "source": [
    "merge(intervals = [[4,10],[1,3],[1,1],[2,2]])"
   ]
  },
  {
   "cell_type": "code",
   "execution_count": 28,
   "id": "1ef1999f-e242-4797-958d-a075ae079482",
   "metadata": {},
   "outputs": [
    {
     "data": {
      "text/plain": [
       "[[1, 1], [2, 2], [3, 3], [4, 4]]"
      ]
     },
     "execution_count": 28,
     "metadata": {},
     "output_type": "execute_result"
    }
   ],
   "source": [
    "merge(intervals = [[4,4],[1,1],[2,2],[3,3]])"
   ]
  },
  {
   "cell_type": "code",
   "execution_count": 29,
   "id": "4fca9011-3191-4af4-9947-0da30499419f",
   "metadata": {},
   "outputs": [
    {
     "data": {
      "text/plain": [
       "[]"
      ]
     },
     "execution_count": 29,
     "metadata": {},
     "output_type": "execute_result"
    }
   ],
   "source": [
    "merge(intervals = [])"
   ]
  },
  {
   "cell_type": "code",
   "execution_count": 30,
   "id": "0980b886-b306-4e4e-a30c-1e2084fcc49e",
   "metadata": {},
   "outputs": [
    {
     "data": {
      "text/plain": [
       "[[-2, 0], [2, 10]]"
      ]
     },
     "execution_count": 30,
     "metadata": {},
     "output_type": "execute_result"
    }
   ],
   "source": [
    "merge(intervals = [[-2, 0], [2, 10]])"
   ]
  },
  {
   "cell_type": "code",
   "execution_count": 31,
   "id": "15bbbdcd-73e3-4dce-b6d6-d3eff1cd5d06",
   "metadata": {},
   "outputs": [
    {
     "data": {
      "text/plain": [
       "[[0, 5]]"
      ]
     },
     "execution_count": 31,
     "metadata": {},
     "output_type": "execute_result"
    }
   ],
   "source": [
    "merge(intervals = [[1,4],[0,2],[3,5]])"
   ]
  }
 ],
 "metadata": {
  "kernelspec": {
   "display_name": "leetcode",
   "language": "python",
   "name": "leetcode"
  },
  "language_info": {
   "codemirror_mode": {
    "name": "ipython",
    "version": 3
   },
   "file_extension": ".py",
   "mimetype": "text/x-python",
   "name": "python",
   "nbconvert_exporter": "python",
   "pygments_lexer": "ipython3",
   "version": "3.9.18"
  }
 },
 "nbformat": 4,
 "nbformat_minor": 5
}
