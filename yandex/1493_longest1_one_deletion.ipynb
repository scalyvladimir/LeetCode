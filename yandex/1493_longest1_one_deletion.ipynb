{
 "cells": [
  {
   "cell_type": "markdown",
   "id": "2e395a0e-661f-457b-ab2f-c52073e27d8a",
   "metadata": {},
   "source": [
    "## 1493. Longest Subarray of 1's After Deleting One Element"
   ]
  },
  {
   "cell_type": "code",
   "execution_count": 209,
   "id": "9e8dcf44-6068-4175-aa5d-bf1ba3bd0636",
   "metadata": {},
   "outputs": [],
   "source": [
    "def longestSubarray(nums):\n",
    "    maxLen = 0\n",
    "    first_zero_id = -1\n",
    "    # last_zero_id = 0\n",
    "    i = 0\n",
    "    zero_cnt = 1\n",
    "\n",
    "    while i < len(nums):\n",
    "        \n",
    "        while i < len(nums) and nums[i] == 0:\n",
    "            first_zero_id = i\n",
    "            i += 1\n",
    "        \n",
    "        while i < len(nums) and (nums[i] == 1 or nums[i] == 0 and zero_cnt > 0):\n",
    "            if nums[i] == 0:\n",
    "                zero_cnt -= 1\n",
    "                last_zero_id = i\n",
    "            i += 1        \n",
    "\n",
    "        maxLen = max(maxLen, i-1 if first_zero_id == -1 else i - first_zero_id - 1 - (1-zero_cnt))\n",
    "        if i < len(nums):\n",
    "            i = last_zero_id + 1\n",
    "            first_zero_id = last_zero_id\n",
    "        else:\n",
    "            break\n",
    "        zero_cnt = 1\n",
    "\n",
    "    return maxLen"
   ]
  },
  {
   "cell_type": "code",
   "execution_count": null,
   "id": "6118c3ed-245f-4d7c-94d3-71c62131448f",
   "metadata": {},
   "outputs": [],
   "source": [
    "                  x\n",
    "  [1, 0, 1, 1, 1, 0, 1, 1, 1, 1, 1]\n",
    "                  xx               ^  "
   ]
  },
  {
   "cell_type": "code",
   "execution_count": 36,
   "id": "bbfe12c1-3f9e-4e26-9fb3-390929a06c28",
   "metadata": {},
   "outputs": [],
   "source": [
    "         v\n",
    "  [0,1,1,0,1,0,1,1,1]\n",
    "fz ^"
   ]
  },
  {
   "cell_type": "code",
   "execution_count": null,
   "id": "726a767f-e5a4-4292-8299-f903406d5a8b",
   "metadata": {},
   "outputs": [],
   "source": [
    "          v\n",
    " [1,1,0,1]\n",
    "^     x"
   ]
  },
  {
   "cell_type": "code",
   "execution_count": null,
   "id": "db681157-29bf-4f31-83c7-60eb3e9b6e9b",
   "metadata": {},
   "outputs": [],
   "source": [
    "        v\n",
    " [1,1,1]\n",
    "^     x"
   ]
  },
  {
   "cell_type": "code",
   "execution_count": 210,
   "id": "b0104ccf-f399-4415-8c2a-6cb7852b039f",
   "metadata": {},
   "outputs": [
    {
     "data": {
      "text/plain": [
       "3"
      ]
     },
     "execution_count": 210,
     "metadata": {},
     "output_type": "execute_result"
    }
   ],
   "source": [
    "longestSubarray(nums = [1,1,0,1])"
   ]
  },
  {
   "cell_type": "code",
   "execution_count": 211,
   "id": "c4e8dd74-fb18-4fe2-8896-f2211a6e96d2",
   "metadata": {},
   "outputs": [
    {
     "data": {
      "text/plain": [
       "8"
      ]
     },
     "execution_count": 211,
     "metadata": {},
     "output_type": "execute_result"
    }
   ],
   "source": [
    "longestSubarray(nums = [1, 0, 1, 1, 1, 0, 1, 1, 1, 1, 1])"
   ]
  },
  {
   "cell_type": "code",
   "execution_count": 212,
   "id": "cf6c030d-4c7d-4a6e-a8ca-6cf7ec3d5252",
   "metadata": {},
   "outputs": [
    {
     "data": {
      "text/plain": [
       "4"
      ]
     },
     "execution_count": 212,
     "metadata": {},
     "output_type": "execute_result"
    }
   ],
   "source": [
    "longestSubarray(nums = [0,1,1,0,1,0,1,1,1])"
   ]
  },
  {
   "cell_type": "code",
   "execution_count": 213,
   "id": "882fe1b0-b96a-4084-adc4-f5b32e309ae3",
   "metadata": {},
   "outputs": [
    {
     "data": {
      "text/plain": [
       "5"
      ]
     },
     "execution_count": 213,
     "metadata": {},
     "output_type": "execute_result"
    }
   ],
   "source": [
    "longestSubarray(nums = [0,1,1,1,0,1,1,0,1])"
   ]
  },
  {
   "cell_type": "code",
   "execution_count": 214,
   "id": "324edfe1-1a42-48de-a857-80ffafaff840",
   "metadata": {},
   "outputs": [
    {
     "data": {
      "text/plain": [
       "2"
      ]
     },
     "execution_count": 214,
     "metadata": {},
     "output_type": "execute_result"
    }
   ],
   "source": [
    "longestSubarray(nums = [1,1,1])"
   ]
  },
  {
   "cell_type": "code",
   "execution_count": 215,
   "id": "2a131b9e-593d-4529-8b7d-df7fc9285c23",
   "metadata": {},
   "outputs": [
    {
     "data": {
      "text/plain": [
       "1"
      ]
     },
     "execution_count": 215,
     "metadata": {},
     "output_type": "execute_result"
    }
   ],
   "source": [
    "longestSubarray(nums = [1, 1])"
   ]
  },
  {
   "cell_type": "code",
   "execution_count": 216,
   "id": "68b250b5-b64a-4834-9280-bdc673fff273",
   "metadata": {},
   "outputs": [
    {
     "data": {
      "text/plain": [
       "1"
      ]
     },
     "execution_count": 216,
     "metadata": {},
     "output_type": "execute_result"
    }
   ],
   "source": [
    "longestSubarray(nums = [0, 0, 0, 1])"
   ]
  }
 ],
 "metadata": {
  "kernelspec": {
   "display_name": "leetcode",
   "language": "python",
   "name": "leetcode"
  },
  "language_info": {
   "codemirror_mode": {
    "name": "ipython",
    "version": 3
   },
   "file_extension": ".py",
   "mimetype": "text/x-python",
   "name": "python",
   "nbconvert_exporter": "python",
   "pygments_lexer": "ipython3",
   "version": "3.9.18"
  }
 },
 "nbformat": 4,
 "nbformat_minor": 5
}
