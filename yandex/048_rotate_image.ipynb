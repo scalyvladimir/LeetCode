{
 "cells": [
  {
   "cell_type": "markdown",
   "id": "35f3e812-2340-4b5e-a4a1-feffb94d4df8",
   "metadata": {},
   "source": [
    "## 48. Rotate Image"
   ]
  },
  {
   "cell_type": "code",
   "execution_count": 20,
   "id": "a585989b-de9d-4998-a3e6-c44389c47f9e",
   "metadata": {},
   "outputs": [],
   "source": [
    "def rotate(matrix):\n",
    "    if len(matrix) == 1:\n",
    "        return matrix\n",
    "\n",
    "    for i in range(len(matrix)):\n",
    "        for j in range(i+1, len(matrix)):\n",
    "            matrix[i][j], matrix[j][i] = matrix[j][i], matrix[i][j]\n",
    "        matrix[i] = matrix[i][::-1]"
   ]
  },
  {
   "cell_type": "code",
   "execution_count": 22,
   "id": "e37b8fb6-4dc7-4e17-8308-53c697d0cd1d",
   "metadata": {},
   "outputs": [],
   "source": [
    "rotate(matrix = [[1,2,3],[4,5,6],[7,8,9]])"
   ]
  },
  {
   "cell_type": "code",
   "execution_count": null,
   "id": "9c866013-66a8-4f13-8048-59f2be492bdb",
   "metadata": {},
   "outputs": [],
   "source": [
    "rotate(matrix = [[5,1,9,11],[2,4,8,10],[13,3,6,7],[15,14,12,16]])"
   ]
  },
  {
   "cell_type": "code",
   "execution_count": null,
   "id": "1d05d113-a5f2-403f-a171-90d8fe97520a",
   "metadata": {},
   "outputs": [],
   "source": []
  }
 ],
 "metadata": {
  "kernelspec": {
   "display_name": "leetcode",
   "language": "python",
   "name": "leetcode"
  },
  "language_info": {
   "codemirror_mode": {
    "name": "ipython",
    "version": 3
   },
   "file_extension": ".py",
   "mimetype": "text/x-python",
   "name": "python",
   "nbconvert_exporter": "python",
   "pygments_lexer": "ipython3",
   "version": "3.9.18"
  }
 },
 "nbformat": 4,
 "nbformat_minor": 5
}
